{
 "cells": [
  {
   "cell_type": "code",
   "execution_count": 1,
   "metadata": {},
   "outputs": [
    {
     "data": {
      "text/plain": [
       "<module 'ml_utils' from '../scripts/ml_utils.py'>"
      ]
     },
     "execution_count": 1,
     "metadata": {},
     "output_type": "execute_result"
    }
   ],
   "source": [
    "import igraph as ig\n",
    "import sys, time, re\n",
    "from random import randint\n",
    "import os\n",
    "import pandas as pd\n",
    "from tqdm import tqdm_notebook as tqdm\n",
    "import pickle\n",
    "import pylab as plt\n",
    "%matplotlib inline \n",
    "folder = '../data'\n",
    "\n",
    "sys.path.append('../scripts')\n",
    "from importlib import reload\n",
    "import ml_utils as utils\n",
    "reload(utils)"
   ]
  },
  {
   "cell_type": "markdown",
   "metadata": {
    "collapsed": true
   },
   "source": [
    "### Read VK and Inst data"
   ]
  },
  {
   "cell_type": "code",
   "execution_count": 2,
   "metadata": {},
   "outputs": [
    {
     "name": "stdout",
     "output_type": "stream",
     "text": [
      "     uid_inst           uname          name_inst  uid_vk          name_vk\n",
      "0   751026638       mrzelkin1     aleksej zelkin    5394    alexey zelkin\n",
      "1     2744159         undruha  andrey gnelitskiy   22884  andre undrukhov\n",
      "2  4157858483       vadimbhai     abhairov vadim   23754    vadim reutsky\n",
      "3   389335890  superov_sergey     sergey superov   89831   sergey superov\n",
      "4   199238507       smilychka       nastja gogol  103177     nastya gogol\n"
     ]
    },
    {
     "data": {
      "text/plain": [
       "(24659, 5)"
      ]
     },
     "execution_count": 2,
     "metadata": {},
     "output_type": "execute_result"
    }
   ],
   "source": [
    "df = utils.read_combine_df(from_raw=False).dropna(how='all')\n",
    "df.shape"
   ]
  },
  {
   "cell_type": "markdown",
   "metadata": {},
   "source": [
    "### Gnerate and slice from Graph"
   ]
  },
  {
   "cell_type": "code",
   "execution_count": 3,
   "metadata": {},
   "outputs": [
    {
     "name": "stdout",
     "output_type": "stream",
     "text": [
      "1018\n",
      "393\n",
      "971\n",
      "188\n",
      "39\n",
      "36\n",
      "208\n",
      "112\n",
      "106\n",
      "78\n"
     ]
    }
   ],
   "source": [
    "g = ig.Graph.Barabasi(n = 10**4, m = 2, implementation = 'bag', directed = False)\n",
    "for i in range(10):\n",
    "    print(len(g.vs[i].neighbors()))"
   ]
  },
  {
   "cell_type": "code",
   "execution_count": 4,
   "metadata": {},
   "outputs": [
    {
     "data": {
      "text/html": [
       "<p>Failed to display Jupyter Widget of type <code>HBox</code>.</p>\n",
       "<p>\n",
       "  If you're reading this message in Jupyter Notebook or JupyterLab, it may mean\n",
       "  that the widgets JavaScript is still loading. If this message persists, it\n",
       "  likely means that the widgets JavaScript library is either not installed or\n",
       "  not enabled. See the <a href=\"https://ipywidgets.readthedocs.io/en/stable/user_install.html\">Jupyter\n",
       "  Widgets Documentation</a> for setup instructions.\n",
       "</p>\n",
       "<p>\n",
       "  If you're reading this message in another notebook frontend (for example, a static\n",
       "  rendering on GitHub or <a href=\"https://nbviewer.jupyter.org/\">NBViewer</a>),\n",
       "  it may mean that your frontend doesn't currently support widgets.\n",
       "</p>\n"
      ],
      "text/plain": [
       "HBox(children=(IntProgress(value=0, max=100000), HTML(value='')))"
      ]
     },
     "metadata": {},
     "output_type": "execute_result"
    },
    {
     "name": "stdout",
     "output_type": "stream",
     "text": [
      "\n",
      "igraph.Vertex(<igraph.Graph object at 0x7fb5180a1a98>, 0, {'name': '0', 'uid_inst': 751026638, 'uname': 'mrzelkin1', 'name_inst': 'aleksej zelkin', 'uid_vk': 5394, 'name_vk': 'alexey zelkin'})\n"
     ]
    },
    {
     "data": {
      "text/plain": [
       "(['name', 'uid_inst', 'uname', 'name_inst', 'uid_vk', 'name_vk'], 34)"
      ]
     },
     "execution_count": 4,
     "metadata": {},
     "output_type": "execute_result"
    }
   ],
   "source": [
    "def generate_randomG(df, v_count = 10**4):\n",
    "#     g = ig.Graph.Erdos_Renyi(n = v_count, p = 2e-3)\n",
    "    g = ig.Graph.Barabasi(n = v_count, m = 2, directed = False)\n",
    "    df_size = df.shape[0]\n",
    "    columns = list(df.columns)\n",
    "    for c in ['name'] + columns:\n",
    "        g.vs[c] = ''\n",
    "    for v, i in tqdm(zip(g.vs, range(g.vcount())), total=g.vcount()):\n",
    "        row = df.iloc[i % df_size]\n",
    "        v['name'] = str(i)\n",
    "        for c in columns:\n",
    "            v[c] = row[c]\n",
    "    return g\n",
    "\n",
    "g = generate_randomG(df, v_count=10**5)\n",
    "print(g.vs[0])\n",
    "g.vs.attribute_names(), len(g.vs[100].neighbors())"
   ]
  },
  {
   "cell_type": "code",
   "execution_count": 5,
   "metadata": {},
   "outputs": [
    {
     "data": {
      "text/html": [
       "<p>Failed to display Jupyter Widget of type <code>HBox</code>.</p>\n",
       "<p>\n",
       "  If you're reading this message in Jupyter Notebook or JupyterLab, it may mean\n",
       "  that the widgets JavaScript is still loading. If this message persists, it\n",
       "  likely means that the widgets JavaScript library is either not installed or\n",
       "  not enabled. See the <a href=\"https://ipywidgets.readthedocs.io/en/stable/user_install.html\">Jupyter\n",
       "  Widgets Documentation</a> for setup instructions.\n",
       "</p>\n",
       "<p>\n",
       "  If you're reading this message in another notebook frontend (for example, a static\n",
       "  rendering on GitHub or <a href=\"https://nbviewer.jupyter.org/\">NBViewer</a>),\n",
       "  it may mean that your frontend doesn't currently support widgets.\n",
       "</p>\n"
      ],
      "text/plain": [
       "HBox(children=(IntProgress(value=0, max=100000), HTML(value='')))"
      ]
     },
     "metadata": {},
     "output_type": "execute_result"
    },
    {
     "name": "stdout",
     "output_type": "stream",
     "text": [
      "\n"
     ]
    },
    {
     "data": {
      "text/html": [
       "<p>Failed to display Jupyter Widget of type <code>HBox</code>.</p>\n",
       "<p>\n",
       "  If you're reading this message in Jupyter Notebook or JupyterLab, it may mean\n",
       "  that the widgets JavaScript is still loading. If this message persists, it\n",
       "  likely means that the widgets JavaScript library is either not installed or\n",
       "  not enabled. See the <a href=\"https://ipywidgets.readthedocs.io/en/stable/user_install.html\">Jupyter\n",
       "  Widgets Documentation</a> for setup instructions.\n",
       "</p>\n",
       "<p>\n",
       "  If you're reading this message in another notebook frontend (for example, a static\n",
       "  rendering on GitHub or <a href=\"https://nbviewer.jupyter.org/\">NBViewer</a>),\n",
       "  it may mean that your frontend doesn't currently support widgets.\n",
       "</p>\n"
      ],
      "text/plain": [
       "HBox(children=(IntProgress(value=0, max=199997), HTML(value='')))"
      ]
     },
     "metadata": {},
     "output_type": "execute_result"
    },
    {
     "name": "stdout",
     "output_type": "stream",
     "text": [
      "\n",
      "g: 100000 199997 gs: 90025 64931\n",
      "is_connected: False components count: 32081\n"
     ]
    },
    {
     "data": {
      "text/html": [
       "<p>Failed to display Jupyter Widget of type <code>HBox</code>.</p>\n",
       "<p>\n",
       "  If you're reading this message in Jupyter Notebook or JupyterLab, it may mean\n",
       "  that the widgets JavaScript is still loading. If this message persists, it\n",
       "  likely means that the widgets JavaScript library is either not installed or\n",
       "  not enabled. See the <a href=\"https://ipywidgets.readthedocs.io/en/stable/user_install.html\">Jupyter\n",
       "  Widgets Documentation</a> for setup instructions.\n",
       "</p>\n",
       "<p>\n",
       "  If you're reading this message in another notebook frontend (for example, a static\n",
       "  rendering on GitHub or <a href=\"https://nbviewer.jupyter.org/\">NBViewer</a>),\n",
       "  it may mean that your frontend doesn't currently support widgets.\n",
       "</p>\n"
      ],
      "text/plain": [
       "HBox(children=(IntProgress(value=0, max=100000), HTML(value='')))"
      ]
     },
     "metadata": {},
     "output_type": "execute_result"
    },
    {
     "name": "stdout",
     "output_type": "stream",
     "text": [
      "\n"
     ]
    },
    {
     "data": {
      "text/html": [
       "<p>Failed to display Jupyter Widget of type <code>HBox</code>.</p>\n",
       "<p>\n",
       "  If you're reading this message in Jupyter Notebook or JupyterLab, it may mean\n",
       "  that the widgets JavaScript is still loading. If this message persists, it\n",
       "  likely means that the widgets JavaScript library is either not installed or\n",
       "  not enabled. See the <a href=\"https://ipywidgets.readthedocs.io/en/stable/user_install.html\">Jupyter\n",
       "  Widgets Documentation</a> for setup instructions.\n",
       "</p>\n",
       "<p>\n",
       "  If you're reading this message in another notebook frontend (for example, a static\n",
       "  rendering on GitHub or <a href=\"https://nbviewer.jupyter.org/\">NBViewer</a>),\n",
       "  it may mean that your frontend doesn't currently support widgets.\n",
       "</p>\n"
      ],
      "text/plain": [
       "HBox(children=(IntProgress(value=0, max=199997), HTML(value='')))"
      ]
     },
     "metadata": {},
     "output_type": "execute_result"
    },
    {
     "name": "stdout",
     "output_type": "stream",
     "text": [
      "\n",
      "g: 100000 199997 gs: 89862 63480\n",
      "is_connected: False components count: 32782\n",
      "51367 90025 0.5705859483476812\n",
      "50261 89862 0.5593131690814805\n",
      "CPU times: user 3.34 s, sys: 28 ms, total: 3.36 s\n",
      "Wall time: 3.34 s\n"
     ]
    }
   ],
   "source": [
    "%%time\n",
    "def sample_graph(g, t, s, is_vk = True):\n",
    "    gs = ig.Graph()\n",
    "    e_list = []\n",
    "    \n",
    "    fname_k = 'name_vk' if is_vk else 'name_inst'\n",
    "    for c in ['name', 'fname', 'uid']:\n",
    "        gs.vs[c] = ''\n",
    "    \n",
    "    max_int = 2 ** 15 -1\n",
    "    for v in tqdm(g.vs, total = g.vcount()):\n",
    "        if (randint(0, max_int) / max_int) < t:\n",
    "            gs.add_vertex(name = v['name'], fname = v[fname_k], uid=int(v['name']))\n",
    "    \n",
    "    uset = set(gs.vs['name'])\n",
    "    name_to_indx = dict(((v['name'], v.index) for v in gs.vs))\n",
    "    for e in tqdm(g.es, total = g.ecount()):\n",
    "        if g.vs[e.source]['name'] not in uset or g.vs[e.target]['name'] not in uset:\n",
    "            continue\n",
    "        source = name_to_indx[g.vs[e.source]['name']]\n",
    "        target = name_to_indx[g.vs[e.target]['name']]\n",
    "        if g.vs[source].degree() < 2 or g.vs[target].degree() < 2 or (randint(0, max_int) / max_int) < s:    \n",
    "            e_list.append((source, target))\n",
    "    gs.add_edges(e_list)\n",
    "    print('g:', g.vcount(), g.ecount(), 'gs:', gs.vcount(), gs.ecount())\n",
    "    print('is_connected:', gs.is_connected(), 'components count:', len(gs.clusters())), \n",
    "    return gs\n",
    "\n",
    "def biggest_component(g):\n",
    "    clust = g.clusters(mode='weak')\n",
    "    lcc = clust.giant()\n",
    "    print(lcc.vcount(), g.vcount(), lcc.vcount() / g.vcount())\n",
    "    return lcc\n",
    "\n",
    "t = 0.9\n",
    "s = 0.4\n",
    "lg = sample_graph(g, t = t,s = s, is_vk = True)\n",
    "rg = sample_graph(g, t = t,s = s, is_vk = False)\n",
    "lg = biggest_component(lg)\n",
    "rg = biggest_component(rg)\n",
    "rg.vs.attribute_names()"
   ]
  },
  {
   "cell_type": "code",
   "execution_count": 6,
   "metadata": {},
   "outputs": [],
   "source": [
    "pickle.dump((lg, rg), open(os.path.join(folder, 'random_experiment', 'G1_G2_t_%d_s_%s.pickle' % (int(t * 100),int(s * 100))), \"wb\"))"
   ]
  },
  {
   "cell_type": "markdown",
   "metadata": {},
   "source": [
    "### Test transfer to NtworkX"
   ]
  },
  {
   "cell_type": "code",
   "execution_count": 7,
   "metadata": {},
   "outputs": [],
   "source": [
    "import networkx as nx\n",
    "\n",
    "def igraph_to_nx(ig):\n",
    "    G = nx.from_edgelist([(int(names[x[0]]), int(names[x[1]]))\n",
    "                      for names in [ig.vs['name']] # simply a let\n",
    "                      for x in ig.get_edgelist()]) # nx.Graph()\n",
    "    return G\n",
    "\n",
    "G1x = igraph_to_nx(lg)"
   ]
  },
  {
   "cell_type": "code",
   "execution_count": 8,
   "metadata": {},
   "outputs": [
    {
     "name": "stdout",
     "output_type": "stream",
     "text": [
      "51367 51367 58353 58353\n"
     ]
    }
   ],
   "source": [
    "def describe(G1, G1x):\n",
    "    print(G1.vcount(), len(G1x.nodes()), G1.ecount(), len(G1x.edges()))\n",
    "    \n",
    "describe(lg, G1x)"
   ]
  },
  {
   "cell_type": "code",
   "execution_count": 9,
   "metadata": {},
   "outputs": [
    {
     "name": "stdout",
     "output_type": "stream",
     "text": [
      "count 0\n"
     ]
    }
   ],
   "source": [
    "count = 0\n",
    "\n",
    "for v in lg.vs:\n",
    "    uid = int(v['name'])\n",
    "    \n",
    "    try:\n",
    "        G1x[uid]\n",
    "    except KeyError:\n",
    "        print(v)\n",
    "        count += 1\n",
    "print('count', count)"
   ]
  },
  {
   "cell_type": "code",
   "execution_count": 10,
   "metadata": {},
   "outputs": [
    {
     "name": "stdout",
     "output_type": "stream",
     "text": [
      "alexey zelkin   |   aleksej zelkin\n",
      "andre undrukhov   |   andrey gnelitskiy\n",
      "vadim reutsky   |   abhairov vadim\n",
      "nastya gogol   |   nastja gogol\n",
      "dmitry napolskikh   |   dmitrij napolskih\n",
      "renata smirnova   |   renata smirnova\n",
      "natalia sokolova   |   belorusskaja kosmetika\n",
      "anastasia garifullina   |   garifullina anastasia\n"
     ]
    }
   ],
   "source": [
    "import itertools  as it\n",
    "for l in it.islice(lg.vs, 10):\n",
    "    try:\n",
    "        r = rg.vs.find(name = l['name'])\n",
    "    except ValueError:\n",
    "        continue\n",
    "    print(l['fname'],'  |  ', r['fname'])"
   ]
  },
  {
   "cell_type": "code",
   "execution_count": 11,
   "metadata": {},
   "outputs": [
    {
     "name": "stdout",
     "output_type": "stream",
     "text": [
      "1337\n",
      "1001\n",
      "26\n",
      "116\n",
      "804\n",
      "376\n",
      "97\n",
      "109\n",
      "413\n",
      "330\n",
      "105\n",
      "9\n",
      "177\n",
      "62\n",
      "77\n",
      "10\n",
      "43\n",
      "316\n",
      "136\n",
      "52\n"
     ]
    }
   ],
   "source": [
    "for i in range(20):\n",
    "    print(len(lg.vs[i].neighbors()))"
   ]
  },
  {
   "cell_type": "code",
   "execution_count": null,
   "metadata": {},
   "outputs": [],
   "source": []
  }
 ],
 "metadata": {
  "kernelspec": {
   "display_name": "Python 3",
   "language": "python",
   "name": "python3"
  },
  "language_info": {
   "codemirror_mode": {
    "name": "ipython",
    "version": 3
   },
   "file_extension": ".py",
   "mimetype": "text/x-python",
   "name": "python",
   "nbconvert_exporter": "python",
   "pygments_lexer": "ipython3",
   "version": "3.6.2"
  }
 },
 "nbformat": 4,
 "nbformat_minor": 2
}
