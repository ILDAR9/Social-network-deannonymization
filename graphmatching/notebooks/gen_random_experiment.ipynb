{
 "cells": [
  {
   "cell_type": "code",
   "execution_count": 2,
   "metadata": {},
   "outputs": [],
   "source": [
    "import igraph as ig\n",
    "import sys, time, re\n",
    "from random import randint\n",
    "import os\n",
    "import pandas as pd\n",
    "from tqdm import tqdm_notebook as tqdm\n",
    "import pylab as plt\n",
    "%matplotlib inline \n",
    "folder = 'data'"
   ]
  },
  {
   "cell_type": "markdown",
   "metadata": {
    "collapsed": true
   },
   "source": [
    "### Read VK and Inst data"
   ]
  },
  {
   "cell_type": "code",
   "execution_count": 3,
   "metadata": {},
   "outputs": [],
   "source": [
    "import cyrtranslit\n",
    "\n",
    "def clean_lineinst(line):\n",
    "    inst_dict = dict()\n",
    "    pat = re.compile(\"(\\d+),(.*),(.*)\")\n",
    "    pat_word = re.compile('[^a-zA-Zа-яА-Я\\d\\s]+')\n",
    "\n",
    "    _, uname, fname = pat.match(line).groups()\n",
    "    fname = re.sub(pat_word, '', fname).strip().lower()\n",
    "    \n",
    "    fname = cyrtranslit.to_latin(fname, 'ru').replace(\"'\", '')\n",
    "    return (uname, fname)\n",
    "\n",
    "def clean_linevk(line):\n",
    "    inst_dict = dict()\n",
    "    pat = re.compile(\"(\\d+),(.*),(.*),(.*)\")\n",
    "    pat_word = re.compile('[^a-zA-Zа-яА-Я\\d\\s]+')\n",
    "\n",
    "    try:\n",
    "        _, uname, name1, name2 = pat.match(line).groups()\n",
    "        name1 = re.sub(pat_word, '', name1).strip().lower()\n",
    "        name2 = re.sub(pat_word, '', name2).strip().lower()\n",
    "        fname = name1 + ' ' + name2\n",
    "    except AttributeError:\n",
    "        print(line)\n",
    "    fname = cyrtranslit.to_latin(fname, 'ru').replace(\"'\", '')\n",
    "    return (uname, fname)\n",
    "\n",
    "def read_clean_csv(fname, num_col):\n",
    "    df = pd.DataFrame()\n",
    "\n",
    "    clean_line = clean_lineinst if num_col == 3 else clean_linevk\n",
    "    with open(os.path.join(folder, fname), 'r') as f:\n",
    "        for line in tqdm(f.readlines()):\n",
    "            df = pd.concat( [df, pd.DataFrame([clean_line(line)])], ignore_index=True )\n",
    "    return df"
   ]
  },
  {
   "cell_type": "code",
   "execution_count": 4,
   "metadata": {},
   "outputs": [
    {
     "data": {
      "application/vnd.jupyter.widget-view+json": {
       "model_id": "60605a1de55840fd9bfa6e773c4a7419",
       "version_major": 2,
       "version_minor": 0
      },
      "text/html": [
       "<p>Failed to display Jupyter Widget of type <code>HBox</code>.</p>\n",
       "<p>\n",
       "  If you're reading this message in Jupyter Notebook or JupyterLab, it may mean\n",
       "  that the widgets JavaScript is still loading. If this message persists, it\n",
       "  likely means that the widgets JavaScript library is either not installed or\n",
       "  not enabled. See the <a href=\"https://ipywidgets.readthedocs.io/en/stable/user_install.html\">Jupyter\n",
       "  Widgets Documentation</a> for setup instructions.\n",
       "</p>\n",
       "<p>\n",
       "  If you're reading this message in another notebook frontend (for example, a static\n",
       "  rendering on GitHub or <a href=\"https://nbviewer.jupyter.org/\">NBViewer</a>),\n",
       "  it may mean that your frontend doesn't currently support widgets.\n",
       "</p>\n"
      ],
      "text/plain": [
       "HBox(children=(IntProgress(value=0, max=24859), HTML(value='')))"
      ]
     },
     "metadata": {},
     "output_type": "display_data"
    },
    {
     "name": "stdout",
     "output_type": "stream",
     "text": [
      "\n"
     ]
    },
    {
     "data": {
      "text/html": [
       "<div>\n",
       "<style>\n",
       "    .dataframe thead tr:only-child th {\n",
       "        text-align: right;\n",
       "    }\n",
       "\n",
       "    .dataframe thead th {\n",
       "        text-align: left;\n",
       "    }\n",
       "\n",
       "    .dataframe tbody tr th {\n",
       "        vertical-align: top;\n",
       "    }\n",
       "</style>\n",
       "<table border=\"1\" class=\"dataframe\">\n",
       "  <thead>\n",
       "    <tr style=\"text-align: right;\">\n",
       "      <th></th>\n",
       "      <th>uname</th>\n",
       "      <th>inst_name</th>\n",
       "    </tr>\n",
       "  </thead>\n",
       "  <tbody>\n",
       "    <tr>\n",
       "      <th>0</th>\n",
       "      <td>mrzelkin1</td>\n",
       "      <td>aleksej zelkin</td>\n",
       "    </tr>\n",
       "    <tr>\n",
       "      <th>1</th>\n",
       "      <td>undruha</td>\n",
       "      <td>andrey gnelitskiy</td>\n",
       "    </tr>\n",
       "    <tr>\n",
       "      <th>2</th>\n",
       "      <td>vadimbhai</td>\n",
       "      <td>abhairov vadim</td>\n",
       "    </tr>\n",
       "    <tr>\n",
       "      <th>3</th>\n",
       "      <td>superov_sergey</td>\n",
       "      <td>sergey superov</td>\n",
       "    </tr>\n",
       "    <tr>\n",
       "      <th>4</th>\n",
       "      <td>smilychka</td>\n",
       "      <td>nastja gogol</td>\n",
       "    </tr>\n",
       "  </tbody>\n",
       "</table>\n",
       "</div>"
      ],
      "text/plain": [
       "            uname          inst_name\n",
       "0       mrzelkin1     aleksej zelkin\n",
       "1         undruha  andrey gnelitskiy\n",
       "2       vadimbhai     abhairov vadim\n",
       "3  superov_sergey     sergey superov\n",
       "4       smilychka       nastja gogol"
      ]
     },
     "execution_count": 4,
     "metadata": {},
     "output_type": "execute_result"
    }
   ],
   "source": [
    "inst = read_clean_csv(fname = 'inst_personal.csv', num_col = 3)\n",
    "inst.columns = ['uname', 'inst_name']\n",
    "inst.head()"
   ]
  },
  {
   "cell_type": "code",
   "execution_count": 5,
   "metadata": {},
   "outputs": [
    {
     "data": {
      "application/vnd.jupyter.widget-view+json": {
       "model_id": "7cf5ec17b3f54630ac87848dad3eb39b",
       "version_major": 2,
       "version_minor": 0
      },
      "text/html": [
       "<p>Failed to display Jupyter Widget of type <code>HBox</code>.</p>\n",
       "<p>\n",
       "  If you're reading this message in Jupyter Notebook or JupyterLab, it may mean\n",
       "  that the widgets JavaScript is still loading. If this message persists, it\n",
       "  likely means that the widgets JavaScript library is either not installed or\n",
       "  not enabled. See the <a href=\"https://ipywidgets.readthedocs.io/en/stable/user_install.html\">Jupyter\n",
       "  Widgets Documentation</a> for setup instructions.\n",
       "</p>\n",
       "<p>\n",
       "  If you're reading this message in another notebook frontend (for example, a static\n",
       "  rendering on GitHub or <a href=\"https://nbviewer.jupyter.org/\">NBViewer</a>),\n",
       "  it may mean that your frontend doesn't currently support widgets.\n",
       "</p>\n"
      ],
      "text/plain": [
       "HBox(children=(IntProgress(value=0, max=26224), HTML(value='')))"
      ]
     },
     "metadata": {},
     "output_type": "display_data"
    },
    {
     "name": "stdout",
     "output_type": "stream",
     "text": [
      "\n"
     ]
    },
    {
     "data": {
      "text/html": [
       "<div>\n",
       "<style>\n",
       "    .dataframe thead tr:only-child th {\n",
       "        text-align: right;\n",
       "    }\n",
       "\n",
       "    .dataframe thead th {\n",
       "        text-align: left;\n",
       "    }\n",
       "\n",
       "    .dataframe tbody tr th {\n",
       "        vertical-align: top;\n",
       "    }\n",
       "</style>\n",
       "<table border=\"1\" class=\"dataframe\">\n",
       "  <thead>\n",
       "    <tr style=\"text-align: right;\">\n",
       "      <th></th>\n",
       "      <th>uname</th>\n",
       "      <th>vk_name</th>\n",
       "    </tr>\n",
       "  </thead>\n",
       "  <tbody>\n",
       "    <tr>\n",
       "      <th>0</th>\n",
       "      <td>mrzelkin1</td>\n",
       "      <td>alexey zelkin</td>\n",
       "    </tr>\n",
       "    <tr>\n",
       "      <th>1</th>\n",
       "      <td>undruha</td>\n",
       "      <td>andre undrukhov</td>\n",
       "    </tr>\n",
       "    <tr>\n",
       "      <th>2</th>\n",
       "      <td>vadimbhai</td>\n",
       "      <td>vadim reutsky</td>\n",
       "    </tr>\n",
       "    <tr>\n",
       "      <th>3</th>\n",
       "      <td>superov_sergey</td>\n",
       "      <td>sergey superov</td>\n",
       "    </tr>\n",
       "    <tr>\n",
       "      <th>4</th>\n",
       "      <td>smilychka</td>\n",
       "      <td>nastya gogol</td>\n",
       "    </tr>\n",
       "  </tbody>\n",
       "</table>\n",
       "</div>"
      ],
      "text/plain": [
       "            uname          vk_name\n",
       "0       mrzelkin1    alexey zelkin\n",
       "1         undruha  andre undrukhov\n",
       "2       vadimbhai    vadim reutsky\n",
       "3  superov_sergey   sergey superov\n",
       "4       smilychka     nastya gogol"
      ]
     },
     "execution_count": 5,
     "metadata": {},
     "output_type": "execute_result"
    }
   ],
   "source": [
    "vk = read_clean_csv(fname = 'vk_personal.csv', num_col = 4)\n",
    "vk.columns = ['uname', 'vk_name']\n",
    "vk.head()"
   ]
  },
  {
   "cell_type": "code",
   "execution_count": 6,
   "metadata": {},
   "outputs": [],
   "source": [
    "df = pd.merge(inst, vk, on='uname')"
   ]
  },
  {
   "cell_type": "code",
   "execution_count": 7,
   "metadata": {},
   "outputs": [
    {
     "name": "stdout",
     "output_type": "stream",
     "text": [
      "Percentage of common nodes: 0.9320851128737034\n"
     ]
    },
    {
     "data": {
      "text/plain": [
       "((24443, 3), (24859, 2), (26224, 2))"
      ]
     },
     "execution_count": 7,
     "metadata": {},
     "output_type": "execute_result"
    }
   ],
   "source": [
    "print('Percentage of common nodes:', df.shape[0] / vk.shape[0])\n",
    "df.shape, inst.shape, vk.shape"
   ]
  },
  {
   "cell_type": "markdown",
   "metadata": {},
   "source": [
    "### Gnerate and slice from Graph"
   ]
  },
  {
   "cell_type": "code",
   "execution_count": 26,
   "metadata": {},
   "outputs": [
    {
     "name": "stdout",
     "output_type": "stream",
     "text": [
      "522\n",
      "461\n",
      "232\n",
      "320\n",
      "93\n",
      "51\n",
      "247\n",
      "161\n",
      "64\n",
      "2\n"
     ]
    }
   ],
   "source": [
    "g = ig.Graph.Barabasi(n = 10**5, m = 1, implementation = 'bag', directed = False)\n",
    "for i in range(10):\n",
    "    print(len(g.vs[i].neighbors()))"
   ]
  },
  {
   "cell_type": "code",
   "execution_count": 27,
   "metadata": {},
   "outputs": [
    {
     "data": {
      "application/vnd.jupyter.widget-view+json": {
       "model_id": "e67cbde65a1a4f9183594e15bfc865bf",
       "version_major": 2,
       "version_minor": 0
      },
      "text/html": [
       "<p>Failed to display Jupyter Widget of type <code>HBox</code>.</p>\n",
       "<p>\n",
       "  If you're reading this message in Jupyter Notebook or JupyterLab, it may mean\n",
       "  that the widgets JavaScript is still loading. If this message persists, it\n",
       "  likely means that the widgets JavaScript library is either not installed or\n",
       "  not enabled. See the <a href=\"https://ipywidgets.readthedocs.io/en/stable/user_install.html\">Jupyter\n",
       "  Widgets Documentation</a> for setup instructions.\n",
       "</p>\n",
       "<p>\n",
       "  If you're reading this message in another notebook frontend (for example, a static\n",
       "  rendering on GitHub or <a href=\"https://nbviewer.jupyter.org/\">NBViewer</a>),\n",
       "  it may mean that your frontend doesn't currently support widgets.\n",
       "</p>\n"
      ],
      "text/plain": [
       "HBox(children=(IntProgress(value=0, max=100000), HTML(value='')))"
      ]
     },
     "metadata": {},
     "output_type": "display_data"
    },
    {
     "name": "stdout",
     "output_type": "stream",
     "text": [
      "\n"
     ]
    },
    {
     "data": {
      "text/plain": [
       "igraph.Vertex(<igraph.Graph object at 0x7fc2a21938b8>, 0, {'name': '0', 'inst_name': 'aleksej zelkin', 'vk_name': 'alexey zelkin'})"
      ]
     },
     "execution_count": 27,
     "metadata": {},
     "output_type": "execute_result"
    }
   ],
   "source": [
    "def generate_randomG(df, v_count = 100000):\n",
    "#     g = ig.Graph.Erdos_Renyi(n = v_count, p = 2e-3)\n",
    "    g = ig.Graph.Barabasi(n = 10**5, m = 2, directed = False)\n",
    "    df_size = df.shape[0]\n",
    "    columns = list(df.columns[1:])\n",
    "    for c in ['name'] + columns:\n",
    "        g.vs[c] = ''\n",
    "    for v, i in tqdm(zip(g.vs, range(g.vcount())), total=g.vcount()):\n",
    "        row = df.iloc[i % df_size]\n",
    "        v['name'] = str(i)\n",
    "        for c in columns:\n",
    "            v[c] = row[c]\n",
    "    return g\n",
    "\n",
    "g = generate_randomG(df)\n",
    "g.vs[0]"
   ]
  },
  {
   "cell_type": "code",
   "execution_count": 12,
   "metadata": {},
   "outputs": [
    {
     "data": {
      "text/plain": [
       "(['name', 'inst_name', 'vk_name'], 33)"
      ]
     },
     "execution_count": 12,
     "metadata": {},
     "output_type": "execute_result"
    }
   ],
   "source": [
    "g.vs.attribute_names(), len(g.vs[100].neighbors())"
   ]
  },
  {
   "cell_type": "code",
   "execution_count": 39,
   "metadata": {},
   "outputs": [
    {
     "data": {
      "application/vnd.jupyter.widget-view+json": {
       "model_id": "a5915ea929324863b4148c7f8601dc1e",
       "version_major": 2,
       "version_minor": 0
      },
      "text/html": [
       "<p>Failed to display Jupyter Widget of type <code>HBox</code>.</p>\n",
       "<p>\n",
       "  If you're reading this message in Jupyter Notebook or JupyterLab, it may mean\n",
       "  that the widgets JavaScript is still loading. If this message persists, it\n",
       "  likely means that the widgets JavaScript library is either not installed or\n",
       "  not enabled. See the <a href=\"https://ipywidgets.readthedocs.io/en/stable/user_install.html\">Jupyter\n",
       "  Widgets Documentation</a> for setup instructions.\n",
       "</p>\n",
       "<p>\n",
       "  If you're reading this message in another notebook frontend (for example, a static\n",
       "  rendering on GitHub or <a href=\"https://nbviewer.jupyter.org/\">NBViewer</a>),\n",
       "  it may mean that your frontend doesn't currently support widgets.\n",
       "</p>\n"
      ],
      "text/plain": [
       "HBox(children=(IntProgress(value=0, max=100000), HTML(value='')))"
      ]
     },
     "metadata": {},
     "output_type": "display_data"
    },
    {
     "name": "stdout",
     "output_type": "stream",
     "text": [
      "\n"
     ]
    },
    {
     "data": {
      "application/vnd.jupyter.widget-view+json": {
       "model_id": "bfc657ce6e6345e98b4a6d3d414b9774",
       "version_major": 2,
       "version_minor": 0
      },
      "text/html": [
       "<p>Failed to display Jupyter Widget of type <code>HBox</code>.</p>\n",
       "<p>\n",
       "  If you're reading this message in Jupyter Notebook or JupyterLab, it may mean\n",
       "  that the widgets JavaScript is still loading. If this message persists, it\n",
       "  likely means that the widgets JavaScript library is either not installed or\n",
       "  not enabled. See the <a href=\"https://ipywidgets.readthedocs.io/en/stable/user_install.html\">Jupyter\n",
       "  Widgets Documentation</a> for setup instructions.\n",
       "</p>\n",
       "<p>\n",
       "  If you're reading this message in another notebook frontend (for example, a static\n",
       "  rendering on GitHub or <a href=\"https://nbviewer.jupyter.org/\">NBViewer</a>),\n",
       "  it may mean that your frontend doesn't currently support widgets.\n",
       "</p>\n"
      ],
      "text/plain": [
       "HBox(children=(IntProgress(value=0, max=199997), HTML(value='')))"
      ]
     },
     "metadata": {},
     "output_type": "display_data"
    },
    {
     "name": "stdout",
     "output_type": "stream",
     "text": [
      "\n",
      "g: 100000 199997 gs: 100000 199572\n",
      "is_connected: True components count: 1\n"
     ]
    },
    {
     "data": {
      "application/vnd.jupyter.widget-view+json": {
       "model_id": "5114353fe11a46e0af50f2f4894830e9",
       "version_major": 2,
       "version_minor": 0
      },
      "text/html": [
       "<p>Failed to display Jupyter Widget of type <code>HBox</code>.</p>\n",
       "<p>\n",
       "  If you're reading this message in Jupyter Notebook or JupyterLab, it may mean\n",
       "  that the widgets JavaScript is still loading. If this message persists, it\n",
       "  likely means that the widgets JavaScript library is either not installed or\n",
       "  not enabled. See the <a href=\"https://ipywidgets.readthedocs.io/en/stable/user_install.html\">Jupyter\n",
       "  Widgets Documentation</a> for setup instructions.\n",
       "</p>\n",
       "<p>\n",
       "  If you're reading this message in another notebook frontend (for example, a static\n",
       "  rendering on GitHub or <a href=\"https://nbviewer.jupyter.org/\">NBViewer</a>),\n",
       "  it may mean that your frontend doesn't currently support widgets.\n",
       "</p>\n"
      ],
      "text/plain": [
       "HBox(children=(IntProgress(value=0, max=100000), HTML(value='')))"
      ]
     },
     "metadata": {},
     "output_type": "display_data"
    },
    {
     "name": "stdout",
     "output_type": "stream",
     "text": [
      "\n"
     ]
    },
    {
     "data": {
      "application/vnd.jupyter.widget-view+json": {
       "model_id": "034a4976a0ef45e18b9867ac9cdc6161",
       "version_major": 2,
       "version_minor": 0
      },
      "text/html": [
       "<p>Failed to display Jupyter Widget of type <code>HBox</code>.</p>\n",
       "<p>\n",
       "  If you're reading this message in Jupyter Notebook or JupyterLab, it may mean\n",
       "  that the widgets JavaScript is still loading. If this message persists, it\n",
       "  likely means that the widgets JavaScript library is either not installed or\n",
       "  not enabled. See the <a href=\"https://ipywidgets.readthedocs.io/en/stable/user_install.html\">Jupyter\n",
       "  Widgets Documentation</a> for setup instructions.\n",
       "</p>\n",
       "<p>\n",
       "  If you're reading this message in another notebook frontend (for example, a static\n",
       "  rendering on GitHub or <a href=\"https://nbviewer.jupyter.org/\">NBViewer</a>),\n",
       "  it may mean that your frontend doesn't currently support widgets.\n",
       "</p>\n"
      ],
      "text/plain": [
       "HBox(children=(IntProgress(value=0, max=199997), HTML(value='')))"
      ]
     },
     "metadata": {},
     "output_type": "display_data"
    },
    {
     "name": "stdout",
     "output_type": "stream",
     "text": [
      "\n",
      "g: 100000 199997 gs: 100000 199594\n",
      "is_connected: True components count: 1\n",
      "CPU times: user 3.12 s, sys: 24 ms, total: 3.15 s\n",
      "Wall time: 3.13 s\n"
     ]
    }
   ],
   "source": [
    "%%time\n",
    "def sample_graph(g, t, s, is_vk = True):\n",
    "    gs = ig.Graph()\n",
    "    e_list = []\n",
    "    \n",
    "    fname_k = 'vk_name' if is_vk else 'inst_name'\n",
    "    for c in ['name', 'fname']:\n",
    "        gs.vs[c] = ''\n",
    "    \n",
    "    for v in tqdm(g.vs, total = g.vcount()):\n",
    "        if (randint(0, 10 ** 10) / 10 ** 10) < t:\n",
    "            gs.add_vertex(name = v['name'], fname = v[fname_k])\n",
    "    \n",
    "    uset = set(gs.vs['name'])\n",
    "    name_to_indx = dict(((v['name'], v.index) for v in gs.vs))\n",
    "    max_int = 2 ** 15 -1\n",
    "    for e in tqdm(g.es, total = g.ecount()):\n",
    "        if g.vs[e.source]['name'] not in uset or g.vs[e.target]['name'] not in uset:\n",
    "            continue\n",
    "        source = name_to_indx[g.vs[e.source]['name']]\n",
    "        target = name_to_indx[g.vs[e.target]['name']]\n",
    "        if g.vs[source].degree() < 10 or g.vs[target].degree() < 10 or (randint(0, max_int) / max_int) < s:    \n",
    "            e_list.append((source, target))\n",
    "    gs.add_edges(e_list)\n",
    "    print('g:', g.vcount(), g.ecount(), 'gs:', gs.vcount(), gs.ecount())\n",
    "    print('is_connected:', gs.is_connected(), 'components count:', len(gs.clusters())), \n",
    "    return gs\n",
    "\n",
    "t = 1\n",
    "s = 0.95\n",
    "lg = sample_graph(g, t = t,s = s, is_vk = True)\n",
    "rg = sample_graph(g, t = t,s = s, is_vk = False)\n",
    "rg.vs.attribute_names()"
   ]
  },
  {
   "cell_type": "code",
   "execution_count": 40,
   "metadata": {},
   "outputs": [],
   "source": [
    "lg.write_pickle(fname=os.path.join(folder, 'random_experiment', 'lg.pickle'))\n",
    "rg.write_pickle(fname=os.path.join(folder, 'random_experiment', 'rg.pickle'))"
   ]
  },
  {
   "cell_type": "code",
   "execution_count": 41,
   "metadata": {},
   "outputs": [
    {
     "name": "stdout",
     "output_type": "stream",
     "text": [
      "alexey zelkin   |   aleksej zelkin\n",
      "andre undrukhov   |   andrey gnelitskiy\n",
      "vadim reutsky   |   abhairov vadim\n",
      "sergey superov   |   sergey superov\n",
      "nastya gogol   |   nastja gogol\n",
      "ilnur shaydullin   |   none\n",
      "adelina ashrapova   |   adelina fazulzjanova\n",
      "dmitry napolskikh   |   dmitrij napolskih\n",
      "renata smirnova   |   renata smirnova\n",
      "natalia sokolova   |   belorusskaja kosmetika\n"
     ]
    }
   ],
   "source": [
    "import itertools  as it\n",
    "for l in it.islice(lg.vs, 10):\n",
    "    try:\n",
    "        r = rg.vs.find(name = l['name'])\n",
    "    except ValueError:\n",
    "        continue\n",
    "    print(l['fname'],'  |  ', r['fname'])"
   ]
  },
  {
   "cell_type": "code",
   "execution_count": 42,
   "metadata": {},
   "outputs": [
    {
     "name": "stdout",
     "output_type": "stream",
     "text": [
      "1820\n",
      "3198\n",
      "1485\n",
      "1740\n",
      "404\n",
      "723\n",
      "642\n",
      "313\n",
      "371\n",
      "522\n",
      "978\n",
      "1001\n",
      "33\n",
      "231\n",
      "311\n",
      "103\n",
      "81\n",
      "5\n",
      "1011\n",
      "75\n"
     ]
    }
   ],
   "source": [
    "for i in range(20):\n",
    "    print(len(lg.vs[i].neighbors()))"
   ]
  },
  {
   "cell_type": "code",
   "execution_count": 34,
   "metadata": {},
   "outputs": [
    {
     "name": "stderr",
     "output_type": "stream",
     "text": [
      "/home/ildar/anaconda3/envs/ds/lib/python3.6/site-packages/igraph/__init__.py:2280: RuntimeWarning: weights attribute does not exists at foreign.c:1530\n",
      "  return writer(f, *args, **kwds)\n"
     ]
    }
   ],
   "source": [
    "ig.Graph.save(lg, 'test.ncol')"
   ]
  },
  {
   "cell_type": "code",
   "execution_count": null,
   "metadata": {},
   "outputs": [],
   "source": []
  }
 ],
 "metadata": {
  "kernelspec": {
   "display_name": "Python 3",
   "language": "python",
   "name": "python3"
  },
  "language_info": {
   "codemirror_mode": {
    "name": "ipython",
    "version": 3
   },
   "file_extension": ".py",
   "mimetype": "text/x-python",
   "name": "python",
   "nbconvert_exporter": "python",
   "pygments_lexer": "ipython3",
   "version": "3.6.2"
  }
 },
 "nbformat": 4,
 "nbformat_minor": 2
}
