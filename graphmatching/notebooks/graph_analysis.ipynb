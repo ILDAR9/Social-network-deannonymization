{
 "cells": [
  {
   "cell_type": "code",
   "execution_count": 100,
   "metadata": {},
   "outputs": [
    {
     "data": {
      "text/plain": [
       "<module 'ml_utils' from '../scripts/ml_utils.py'>"
      ]
     },
     "execution_count": 100,
     "metadata": {},
     "output_type": "execute_result"
    }
   ],
   "source": [
    "import igraph as ig\n",
    "import sys, time, re\n",
    "from random import randint\n",
    "import os\n",
    "import pandas as pd\n",
    "from tqdm import tqdm_notebook as tqdm\n",
    "import pylab as plt\n",
    "import numpy as np\n",
    "from importlib import reload\n",
    "import sys\n",
    "import pickle\n",
    "sys.path.append('../scripts')\n",
    "%matplotlib inline \n",
    "folder = '../data/'\n",
    "\n",
    "import ml_utils as utils\n",
    "reload(utils)"
   ]
  },
  {
   "cell_type": "markdown",
   "metadata": {},
   "source": [
    "### Read graphs"
   ]
  },
  {
   "cell_type": "code",
   "execution_count": 83,
   "metadata": {},
   "outputs": [],
   "source": [
    "import cyrtranslit\n",
    "\n",
    "def read_edges(f_name):\n",
    "    print(f_name)\n",
    "    g = ig.Graph.Read_Ncol(f_name, names=True, directed=False)\n",
    "    ig.summary(g)\n",
    "    return g\n",
    "\n",
    "def enrich_vk_graph(g):\n",
    "    inst_dict = dict()\n",
    "    pat = re.compile(\"(\\d+),(.*),(.*),(.*)\")\n",
    "    pat_word = re.compile('[^a-zA-Zа-яА-Я\\d\\s]+')\n",
    "    \n",
    "    g.vs['fname'] = ''\n",
    "    \n",
    "    with open(folder + 'vk_personal2.csv', 'r') as f:\n",
    "        for line in f:\n",
    "            try:\n",
    "                uid, uname, name1, name2 = pat.match(line).groups()\n",
    "                name1 = re.sub(pat_word, '', name1).strip().lower()\n",
    "                name2 = re.sub(pat_word, '', name2).strip().lower()\n",
    "                inst_dict[uid] = (uname, name1 + ' ' + name2)\n",
    "            except AttributeError:\n",
    "                print(line)\n",
    "    for v in g.vs:\n",
    "        uname, fname = inst_dict[v['name']]\n",
    "        v['name'] = uname\n",
    "        v['fname'] = cyrtranslit.to_latin(fname, 'ru').replace(\"'\", '')\n",
    "\n",
    "def enrich_insta_graph(g):\n",
    "    inst_dict = dict()\n",
    "    pat = re.compile(\"(\\d+),(.*),(.*)\")\n",
    "    pat_word = re.compile('[^a-zA-Zа-яА-Я\\d\\s]+')\n",
    "    \n",
    "    g.vs['fname'] = ''\n",
    "    \n",
    "    with open(folder + 'inst_personal.csv', 'r') as f:\n",
    "        for line in f:\n",
    "            uid, uname, fname = pat.match(line).groups()\n",
    "            fname = re.sub(pat_word, '', fname).strip().lower()\n",
    "            inst_dict[uid] = (uname, fname)\n",
    "\n",
    "    for v in g.vs:\n",
    "        uname, fname = inst_dict[v['name']]\n",
    "        v['name'] = uname\n",
    "        v['fname'] = cyrtranslit.to_latin(fname, 'ru').replace(\"'\", '')"
   ]
  },
  {
   "cell_type": "code",
   "execution_count": 84,
   "metadata": {},
   "outputs": [
    {
     "name": "stdout",
     "output_type": "stream",
     "text": [
      "../data/inst_lid_rid.csv\n",
      "IGRAPH UN-- 20794 240414 -- \n",
      "+ attr: name (v)\n"
     ]
    }
   ],
   "source": [
    "inst_g = read_edges(folder + 'inst_lid_rid.csv')\n",
    "enrich_insta_graph(inst_g)\n",
    "\n",
    "# vk_g = read_edges(folder + 'vk_lid_rid.csv')\n",
    "# enrich_vk_graph(vk_g)"
   ]
  },
  {
   "cell_type": "code",
   "execution_count": null,
   "metadata": {},
   "outputs": [],
   "source": [
    "vk_g.write_pickle(fname=os.path.join(folder, 'vk.pickle'))\n",
    "inst_g.write_pickle(fname=os.path.join(folder, 'inst.pickle'))"
   ]
  },
  {
   "cell_type": "code",
   "execution_count": 5,
   "metadata": {},
   "outputs": [],
   "source": [
    "vk_g = ig.Graph.Read_Pickle(os.path.join(folder, 'vk.pickle'))\n",
    "inst_g = ig.Graph.Read_Pickle(os.path.join(folder, 'inst.pickle'))"
   ]
  },
  {
   "cell_type": "markdown",
   "metadata": {},
   "source": [
    "### matches to lid_rid"
   ]
  },
  {
   "cell_type": "code",
   "execution_count": 41,
   "metadata": {},
   "outputs": [
    {
     "name": "stdout",
     "output_type": "stream",
     "text": [
      "../matches/091/matches_s_01_th_091_t_10-11_14:21.pickle\n",
      "matches len 4885\n"
     ]
    }
   ],
   "source": [
    "folder_matches = '../matches'\n",
    "\n",
    "def read_matches(matches_file_name, threshold):\n",
    "    fname = os.path.join(folder_matches, '%.3d' % threshold, matches_file_name)\n",
    "    print(fname)\n",
    "    matches = pickle.load(open(fname, 'rb'))\n",
    "    print('matches len', len(matches))\n",
    "    return matches\n",
    "\n",
    "threshold=91\n",
    "matches_file_name = 'matches_s_01_th_091_t_10-11_14:21.pickle'\n",
    "\n",
    "matches = read_matches(matches_file_name, threshold)"
   ]
  },
  {
   "cell_type": "code",
   "execution_count": 107,
   "metadata": {},
   "outputs": [
    {
     "name": "stdout",
     "output_type": "stream",
     "text": [
      "       uid_inst           uname          name_inst    uid_vk          name_vk\n",
      "0  7.510266e+08       mrzelkin1     aleksej zelkin    5394.0    alexey zelkin\n",
      "1  2.744159e+06         undruha  andrey gnelitskiy   22884.0  andre undrukhov\n",
      "2  4.157858e+09       vadimbhai     abhairov vadim   23754.0    vadim reutsky\n",
      "3  3.893359e+08  superov_sergey     sergey superov   89831.0   sergey superov\n",
      "4  1.992385e+08       smilychka       nastja gogol  103177.0     nastya gogol\n"
     ]
    },
    {
     "data": {
      "application/vnd.jupyter.widget-view+json": {
       "model_id": "46f861a2d00b41a5a51c115165b9cbbe",
       "version_major": 2,
       "version_minor": 0
      },
      "text/html": [
       "<p>Failed to display Jupyter Widget of type <code>HBox</code>.</p>\n",
       "<p>\n",
       "  If you're reading this message in Jupyter Notebook or JupyterLab, it may mean\n",
       "  that the widgets JavaScript is still loading. If this message persists, it\n",
       "  likely means that the widgets JavaScript library is either not installed or\n",
       "  not enabled. See the <a href=\"https://ipywidgets.readthedocs.io/en/stable/user_install.html\">Jupyter\n",
       "  Widgets Documentation</a> for setup instructions.\n",
       "</p>\n",
       "<p>\n",
       "  If you're reading this message in another notebook frontend (for example, a static\n",
       "  rendering on GitHub or <a href=\"https://nbviewer.jupyter.org/\">NBViewer</a>),\n",
       "  it may mean that your frontend doesn't currently support widgets.\n",
       "</p>\n"
      ],
      "text/plain": [
       "HBox(children=(IntProgress(value=0, max=4885), HTML(value='')))"
      ]
     },
     "metadata": {},
     "output_type": "display_data"
    },
    {
     "name": "stdout",
     "output_type": "stream",
     "text": [
      "\n"
     ]
    },
    {
     "ename": "ValueError",
     "evalue": "cannot convert float NaN to integer",
     "output_type": "error",
     "traceback": [
      "\u001b[0;31m---------------------------------------------------------------------------\u001b[0m",
      "\u001b[0;31mValueError\u001b[0m                                Traceback (most recent call last)",
      "\u001b[0;32m<ipython-input-107-5ed9eab2ce07>\u001b[0m in \u001b[0;36m<module>\u001b[0;34m()\u001b[0m\n\u001b[1;32m     18\u001b[0m     \u001b[0;32mreturn\u001b[0m \u001b[0mlid_rid\u001b[0m\u001b[0;34m\u001b[0m\u001b[0m\n\u001b[1;32m     19\u001b[0m \u001b[0;34m\u001b[0m\u001b[0m\n\u001b[0;32m---> 20\u001b[0;31m \u001b[0mlid_rid\u001b[0m \u001b[0;34m=\u001b[0m \u001b[0mtransform_matches_to_lid_rid\u001b[0m\u001b[0;34m(\u001b[0m\u001b[0mmatches\u001b[0m\u001b[0;34m,\u001b[0m \u001b[0mdf\u001b[0m\u001b[0;34m)\u001b[0m\u001b[0;34m\u001b[0m\u001b[0m\n\u001b[0m",
      "\u001b[0;32m<ipython-input-107-5ed9eab2ce07>\u001b[0m in \u001b[0;36mtransform_matches_to_lid_rid\u001b[0;34m(matches, df, to_log)\u001b[0m\n\u001b[1;32m     14\u001b[0m         \u001b[0mlid\u001b[0m \u001b[0;34m=\u001b[0m \u001b[0mdf\u001b[0m\u001b[0;34m[\u001b[0m\u001b[0mdf\u001b[0m\u001b[0;34m[\u001b[0m\u001b[0;34m'uname'\u001b[0m\u001b[0;34m]\u001b[0m \u001b[0;34m==\u001b[0m \u001b[0minst_g\u001b[0m\u001b[0;34m.\u001b[0m\u001b[0mvs\u001b[0m\u001b[0;34m[\u001b[0m\u001b[0mlnode\u001b[0m\u001b[0;34m]\u001b[0m\u001b[0;34m[\u001b[0m\u001b[0;34m'name'\u001b[0m\u001b[0;34m]\u001b[0m\u001b[0;34m]\u001b[0m\u001b[0;34m[\u001b[0m\u001b[0;34m'uid_inst'\u001b[0m\u001b[0;34m]\u001b[0m\u001b[0;34m.\u001b[0m\u001b[0mvalues\u001b[0m\u001b[0;34m[\u001b[0m\u001b[0;36m0\u001b[0m\u001b[0;34m]\u001b[0m\u001b[0;34m\u001b[0m\u001b[0m\n\u001b[1;32m     15\u001b[0m         \u001b[0mrid\u001b[0m \u001b[0;34m=\u001b[0m \u001b[0mdf\u001b[0m\u001b[0;34m[\u001b[0m\u001b[0mdf\u001b[0m\u001b[0;34m[\u001b[0m\u001b[0;34m'uname'\u001b[0m\u001b[0;34m]\u001b[0m \u001b[0;34m==\u001b[0m \u001b[0mvk_g\u001b[0m\u001b[0;34m.\u001b[0m\u001b[0mvs\u001b[0m\u001b[0;34m[\u001b[0m\u001b[0mrnode\u001b[0m\u001b[0;34m]\u001b[0m\u001b[0;34m[\u001b[0m\u001b[0;34m'name'\u001b[0m\u001b[0;34m]\u001b[0m\u001b[0;34m]\u001b[0m\u001b[0;34m[\u001b[0m\u001b[0;34m'uid_vk'\u001b[0m\u001b[0;34m]\u001b[0m\u001b[0;34m.\u001b[0m\u001b[0mvalues\u001b[0m\u001b[0;34m[\u001b[0m\u001b[0;36m0\u001b[0m\u001b[0;34m]\u001b[0m\u001b[0;34m\u001b[0m\u001b[0m\n\u001b[0;32m---> 16\u001b[0;31m         \u001b[0mlid_rid\u001b[0m\u001b[0;34m.\u001b[0m\u001b[0mappend\u001b[0m\u001b[0;34m(\u001b[0m\u001b[0;34m(\u001b[0m\u001b[0mint\u001b[0m\u001b[0;34m(\u001b[0m\u001b[0mrid\u001b[0m\u001b[0;34m)\u001b[0m\u001b[0;34m,\u001b[0m\u001b[0mint\u001b[0m\u001b[0;34m(\u001b[0m\u001b[0mlid\u001b[0m\u001b[0;34m)\u001b[0m\u001b[0;34m)\u001b[0m\u001b[0;34m)\u001b[0m\u001b[0;34m\u001b[0m\u001b[0m\n\u001b[0m\u001b[1;32m     17\u001b[0m     \u001b[0mprint\u001b[0m\u001b[0;34m(\u001b[0m\u001b[0mlen\u001b[0m\u001b[0;34m(\u001b[0m\u001b[0mmatches\u001b[0m\u001b[0;34m)\u001b[0m\u001b[0;34m,\u001b[0m \u001b[0mlen\u001b[0m\u001b[0;34m(\u001b[0m\u001b[0mmatches\u001b[0m\u001b[0;34m)\u001b[0m \u001b[0;34m==\u001b[0m \u001b[0mlen\u001b[0m\u001b[0;34m(\u001b[0m\u001b[0mlid_rid\u001b[0m\u001b[0;34m)\u001b[0m\u001b[0;34m)\u001b[0m\u001b[0;34m\u001b[0m\u001b[0m\n\u001b[1;32m     18\u001b[0m     \u001b[0;32mreturn\u001b[0m \u001b[0mlid_rid\u001b[0m\u001b[0;34m\u001b[0m\u001b[0m\n",
      "\u001b[0;31mValueError\u001b[0m: cannot convert float NaN to integer"
     ]
    }
   ],
   "source": [
    "def transform_matches_to_lid_rid(matches, df, to_log=False):    \n",
    "    df = utils.read_combine_df(from_raw = False, merge_how='outer')\n",
    "    lid_rid = []\n",
    "    for lnode, rnode in tqdm(matches):\n",
    "        if to_log:\n",
    "            print(lnode, rnode)\n",
    "            row = df[df['uname'] == vk_g.vs[lnode]['name']]\n",
    "            print(row[['uname', 'uid_vk','name_vk']].values[0], vk_g.vs[lnode]['fname'])\n",
    "            \n",
    "            row = df[df['uname'] == inst_g.vs[rnode]['name']]\n",
    "            print(row[['uname', 'uid_inst', 'name_inst']].values[0], inst_g.vs[rnode]['fname'])            \n",
    "            print('----------------------------------')\n",
    "        \n",
    "        lid = df[df['uname'] == vk_g.vs[lnode]['name']]['uid_vk'].values[0]\n",
    "        rid = df[df['uname'] == inst_g.vs[rnode]['name']]['uid_inst'].values[0]\n",
    "        lid_rid.append((int(rid),int(lid)))\n",
    "    print(len(matches), len(matches) == len(lid_rid))\n",
    "    return lid_rid\n",
    "\n",
    "lid_rid = transform_matches_to_lid_rid(matches, df)"
   ]
  },
  {
   "cell_type": "code",
   "execution_count": 106,
   "metadata": {},
   "outputs": [
    {
     "data": {
      "text/plain": [
       "(0.0, 0.0)"
      ]
     },
     "execution_count": 106,
     "metadata": {},
     "output_type": "execute_result"
    }
   ],
   "source": [
    "reload(utils)\n",
    "utils.precision_recall(lid_rid)"
   ]
  },
  {
   "cell_type": "markdown",
   "metadata": {},
   "source": [
    "### Analysis"
   ]
  },
  {
   "cell_type": "code",
   "execution_count": null,
   "metadata": {},
   "outputs": [],
   "source": [
    "def degree_dist(g):\n",
    "    l = []\n",
    "    for v in g.vs:\n",
    "        l.append(v.degree())\n",
    "    plt.hist(l, bins=30)\n",
    "    plt.title('Degree distribution')\n",
    "    plt.show()\n",
    "    \n",
    "def double_deg_dist(g):\n",
    "    l = []\n",
    "    for v in g.vs:\n",
    "        for vn in v.neighbors():\n",
    "            l.append(vn.degree())\n",
    "    plt.hist(l, bins=30)\n",
    "    plt.title('Double Degree distribution')\n",
    "    plt.show()\n",
    "    \n",
    "def double_deg_dist_mean(g):\n",
    "    l = []\n",
    "    for v in g.vs:\n",
    "        s = []\n",
    "        for vn in v.neighbors():\n",
    "            s.append(vn.degree())\n",
    "        l.append(sum(s)/len(s))\n",
    "    plt.hist(l, bins=30)\n",
    "    plt.title('Mean of double degree distribution')\n",
    "    plt.show()\n",
    "    \n",
    "def double_deg_dist_median(g):\n",
    "    l = []\n",
    "    for v in g.vs:\n",
    "        s = []\n",
    "        for vn in v.neighbors():\n",
    "            s.append(vn.degree())\n",
    "        l.append(sorted(s)[len(s)//2])\n",
    "    plt.hist(l, bins=30)\n",
    "    plt.title('Median of double degree distribution')\n",
    "    plt.show()\n",
    "    \n",
    "def plot_dist(g):\n",
    "    degree_dist(g)\n",
    "    double_deg_dist_mean(g)\n",
    "    double_deg_dist(g)\n",
    "    double_deg_dist_median(g)"
   ]
  },
  {
   "cell_type": "code",
   "execution_count": null,
   "metadata": {
    "scrolled": true
   },
   "outputs": [],
   "source": [
    "plot_dist(vk_g)"
   ]
  },
  {
   "cell_type": "code",
   "execution_count": null,
   "metadata": {
    "scrolled": true
   },
   "outputs": [],
   "source": [
    "plot_dist(inst_g)"
   ]
  },
  {
   "cell_type": "markdown",
   "metadata": {},
   "source": [
    "### Choose name similarity function"
   ]
  },
  {
   "cell_type": "code",
   "execution_count": 8,
   "metadata": {},
   "outputs": [
    {
     "data": {
      "application/vnd.jupyter.widget-view+json": {
       "model_id": "442da52ac5ba40859dff9e6df47da4a4",
       "version_major": 2,
       "version_minor": 0
      },
      "text/html": [
       "<p>Failed to display Jupyter Widget of type <code>HBox</code>.</p>\n",
       "<p>\n",
       "  If you're reading this message in Jupyter Notebook or JupyterLab, it may mean\n",
       "  that the widgets JavaScript is still loading. If this message persists, it\n",
       "  likely means that the widgets JavaScript library is either not installed or\n",
       "  not enabled. See the <a href=\"https://ipywidgets.readthedocs.io/en/stable/user_install.html\">Jupyter\n",
       "  Widgets Documentation</a> for setup instructions.\n",
       "</p>\n",
       "<p>\n",
       "  If you're reading this message in another notebook frontend (for example, a static\n",
       "  rendering on GitHub or <a href=\"https://nbviewer.jupyter.org/\">NBViewer</a>),\n",
       "  it may mean that your frontend doesn't currently support widgets.\n",
       "</p>\n"
      ],
      "text/plain": [
       "HBox(children=(IntProgress(value=0, max=26224), HTML(value='')))"
      ]
     },
     "metadata": {},
     "output_type": "display_data"
    },
    {
     "name": "stdout",
     "output_type": "stream",
     "text": [
      "\n"
     ]
    },
    {
     "data": {
      "application/vnd.jupyter.widget-view+json": {
       "model_id": "b948e8ffd7e44ba0a91cb10b43906342",
       "version_major": 2,
       "version_minor": 0
      },
      "text/html": [
       "<p>Failed to display Jupyter Widget of type <code>HBox</code>.</p>\n",
       "<p>\n",
       "  If you're reading this message in Jupyter Notebook or JupyterLab, it may mean\n",
       "  that the widgets JavaScript is still loading. If this message persists, it\n",
       "  likely means that the widgets JavaScript library is either not installed or\n",
       "  not enabled. See the <a href=\"https://ipywidgets.readthedocs.io/en/stable/user_install.html\">Jupyter\n",
       "  Widgets Documentation</a> for setup instructions.\n",
       "</p>\n",
       "<p>\n",
       "  If you're reading this message in another notebook frontend (for example, a static\n",
       "  rendering on GitHub or <a href=\"https://nbviewer.jupyter.org/\">NBViewer</a>),\n",
       "  it may mean that your frontend doesn't currently support widgets.\n",
       "</p>\n"
      ],
      "text/plain": [
       "HBox(children=(IntProgress(value=0, max=24859), HTML(value='')))"
      ]
     },
     "metadata": {},
     "output_type": "display_data"
    },
    {
     "name": "stdout",
     "output_type": "stream",
     "text": [
      "\n"
     ]
    },
    {
     "data": {
      "text/html": [
       "<div>\n",
       "<style>\n",
       "    .dataframe thead tr:only-child th {\n",
       "        text-align: right;\n",
       "    }\n",
       "\n",
       "    .dataframe thead th {\n",
       "        text-align: left;\n",
       "    }\n",
       "\n",
       "    .dataframe tbody tr th {\n",
       "        vertical-align: top;\n",
       "    }\n",
       "</style>\n",
       "<table border=\"1\" class=\"dataframe\">\n",
       "  <thead>\n",
       "    <tr style=\"text-align: right;\">\n",
       "      <th></th>\n",
       "      <th>uid_inst</th>\n",
       "      <th>uname</th>\n",
       "      <th>name_inst</th>\n",
       "      <th>uid_vk</th>\n",
       "      <th>name_vk</th>\n",
       "    </tr>\n",
       "  </thead>\n",
       "  <tbody>\n",
       "    <tr>\n",
       "      <th>0</th>\n",
       "      <td>751026638</td>\n",
       "      <td>mrzelkin1</td>\n",
       "      <td>aleksej zelkin</td>\n",
       "      <td>5394</td>\n",
       "      <td>alexey zelkin</td>\n",
       "    </tr>\n",
       "    <tr>\n",
       "      <th>1</th>\n",
       "      <td>2744159</td>\n",
       "      <td>undruha</td>\n",
       "      <td>andrey gnelitskiy</td>\n",
       "      <td>22884</td>\n",
       "      <td>andre undrukhov</td>\n",
       "    </tr>\n",
       "    <tr>\n",
       "      <th>2</th>\n",
       "      <td>4157858483</td>\n",
       "      <td>vadimbhai</td>\n",
       "      <td>abhairov vadim</td>\n",
       "      <td>23754</td>\n",
       "      <td>vadim reutsky</td>\n",
       "    </tr>\n",
       "    <tr>\n",
       "      <th>3</th>\n",
       "      <td>389335890</td>\n",
       "      <td>superov_sergey</td>\n",
       "      <td>sergey superov</td>\n",
       "      <td>89831</td>\n",
       "      <td>sergey superov</td>\n",
       "    </tr>\n",
       "    <tr>\n",
       "      <th>4</th>\n",
       "      <td>199238507</td>\n",
       "      <td>smilychka</td>\n",
       "      <td>nastja gogol</td>\n",
       "      <td>103177</td>\n",
       "      <td>nastya gogol</td>\n",
       "    </tr>\n",
       "  </tbody>\n",
       "</table>\n",
       "</div>"
      ],
      "text/plain": [
       "     uid_inst           uname          name_inst  uid_vk          name_vk\n",
       "0   751026638       mrzelkin1     aleksej zelkin    5394    alexey zelkin\n",
       "1     2744159         undruha  andrey gnelitskiy   22884  andre undrukhov\n",
       "2  4157858483       vadimbhai     abhairov vadim   23754    vadim reutsky\n",
       "3   389335890  superov_sergey     sergey superov   89831   sergey superov\n",
       "4   199238507       smilychka       nastja gogol  103177     nastya gogol"
      ]
     },
     "execution_count": 8,
     "metadata": {},
     "output_type": "execute_result"
    }
   ],
   "source": [
    "reload(utils)\n",
    "df = utils.read_combine_df(from_raw = False)\n",
    "df.head()"
   ]
  },
  {
   "cell_type": "code",
   "execution_count": 10,
   "metadata": {},
   "outputs": [
    {
     "data": {
      "text/plain": [
       "'I436'"
      ]
     },
     "execution_count": 10,
     "metadata": {},
     "output_type": "execute_result"
    }
   ],
   "source": [
    "def soundex(name, len=4):\n",
    "    \"\"\" soundex module conforming to Knuth's algorithm\n",
    "        implementation 2000-12-24 by Gregory Jorgensen\n",
    "        public domain\n",
    "    \"\"\"\n",
    "\n",
    "    # digits holds the soundex values for the alphabet\n",
    "    digits = '01230120022455012623010202'\n",
    "    sndx = ''\n",
    "    fc = ''\n",
    "\n",
    "    # translate alpha chars in name to soundex digits\n",
    "    for c in name.upper():\n",
    "        if c.isalpha():\n",
    "            if not fc: fc = c   # remember first letter\n",
    "            d = digits[ord(c)-ord('A')]\n",
    "            # duplicate consecutive soundex digits are skipped\n",
    "            if not sndx or (d != sndx[-1]):\n",
    "                sndx += d\n",
    "\n",
    "    # replace first digit with first alpha character\n",
    "    sndx = fc + sndx[1:]\n",
    "\n",
    "    # remove all 0s from the soundex code\n",
    "    sndx = sndx.replace('0','')\n",
    "\n",
    "    # return soundex code padded to len characters\n",
    "    return (sndx + (len * '0'))[:len]\n",
    "\n",
    "def soundex_sim(a,b):\n",
    "    a = soundex(a)\n",
    "    b = soundex(b)\n",
    "    return fuzz.token_sort_ratio(a,b) / 100\n",
    "\n",
    "soundex('ildar nurgaliev')"
   ]
  },
  {
   "cell_type": "code",
   "execution_count": 15,
   "metadata": {},
   "outputs": [
    {
     "name": "stdout",
     "output_type": "stream",
     "text": [
      "0.6\n",
      "\tfuzz.ratio 0.0001049041748046875\n",
      "0.6\n",
      "\tpartial_ratio 7.534027099609375e-05\n",
      "1.0\n",
      "\ttoken_sort_ratio 8.535385131835938e-05\n",
      "1.0\n",
      "\ttoken_set_ratio 9.012222290039062e-05\n",
      "0.6\n",
      "\tlev.ratio 5.316734313964844e-05\n",
      "0.6\n",
      "\tSequenceMatcher 0.00011563301086425781\n",
      "0.25\n",
      "\tsound 0.0002810955047607422\n"
     ]
    }
   ],
   "source": [
    "from fuzzywuzzy import fuzz\n",
    "import Levenshtein as lev\n",
    "from difflib import SequenceMatcher\n",
    "from time import time\n",
    "\n",
    "a = 'Ildar Nurgaliev'\n",
    "b = 'Nurgaliev Ildar'\n",
    "\n",
    "s = time()\n",
    "print(fuzz.ratio(a,b) / 100)\n",
    "e = time()\n",
    "print('\\tfuzz.ratio', e-s)\n",
    "\n",
    "s = time()\n",
    "print(fuzz.partial_ratio(a,b) / 100)\n",
    "e = time()\n",
    "print('\\tpartial_ratio', e-s)\n",
    "\n",
    "s = time()\n",
    "print(fuzz.token_sort_ratio(a,b) / 100)\n",
    "e = time()\n",
    "print('\\ttoken_sort_ratio', e-s)\n",
    "\n",
    "s = time()\n",
    "print(fuzz.token_set_ratio(a,b) / 100)\n",
    "e = time()\n",
    "print('\\ttoken_set_ratio', e-s)\n",
    "\n",
    "s = time()\n",
    "print(lev.ratio(a,b))\n",
    "e = time()\n",
    "print('\\tlev.ratio', e-s)\n",
    "\n",
    "s = time()\n",
    "seq = SequenceMatcher(None, a, b)\n",
    "print(seq.ratio())\n",
    "e = time()\n",
    "print('\\tSequenceMatcher', e-s)\n",
    "\n",
    "s = time()\n",
    "print(soundex_sim(a,b))\n",
    "e = time()\n",
    "print('\\tsound', e-s)"
   ]
  },
  {
   "cell_type": "code",
   "execution_count": 21,
   "metadata": {},
   "outputs": [
    {
     "data": {
      "text/html": [
       "<div>\n",
       "<style>\n",
       "    .dataframe thead tr:only-child th {\n",
       "        text-align: right;\n",
       "    }\n",
       "\n",
       "    .dataframe thead th {\n",
       "        text-align: left;\n",
       "    }\n",
       "\n",
       "    .dataframe tbody tr th {\n",
       "        vertical-align: top;\n",
       "    }\n",
       "</style>\n",
       "<table border=\"1\" class=\"dataframe\">\n",
       "  <thead>\n",
       "    <tr style=\"text-align: right;\">\n",
       "      <th></th>\n",
       "      <th>uid_inst</th>\n",
       "      <th>uname</th>\n",
       "      <th>name_inst</th>\n",
       "      <th>uid_vk</th>\n",
       "      <th>name_vk</th>\n",
       "    </tr>\n",
       "  </thead>\n",
       "  <tbody>\n",
       "    <tr>\n",
       "      <th>0</th>\n",
       "      <td>751026638</td>\n",
       "      <td>mrzelkin1</td>\n",
       "      <td>aleksej zelkin</td>\n",
       "      <td>5394</td>\n",
       "      <td>alexey zelkin</td>\n",
       "    </tr>\n",
       "    <tr>\n",
       "      <th>1</th>\n",
       "      <td>2744159</td>\n",
       "      <td>undruha</td>\n",
       "      <td>andrey gnelitskiy</td>\n",
       "      <td>22884</td>\n",
       "      <td>andre undrukhov</td>\n",
       "    </tr>\n",
       "    <tr>\n",
       "      <th>2</th>\n",
       "      <td>4157858483</td>\n",
       "      <td>vadimbhai</td>\n",
       "      <td>abhairov vadim</td>\n",
       "      <td>23754</td>\n",
       "      <td>vadim reutsky</td>\n",
       "    </tr>\n",
       "    <tr>\n",
       "      <th>3</th>\n",
       "      <td>389335890</td>\n",
       "      <td>superov_sergey</td>\n",
       "      <td>sergey superov</td>\n",
       "      <td>89831</td>\n",
       "      <td>sergey superov</td>\n",
       "    </tr>\n",
       "    <tr>\n",
       "      <th>4</th>\n",
       "      <td>199238507</td>\n",
       "      <td>smilychka</td>\n",
       "      <td>nastja gogol</td>\n",
       "      <td>103177</td>\n",
       "      <td>nastya gogol</td>\n",
       "    </tr>\n",
       "  </tbody>\n",
       "</table>\n",
       "</div>"
      ],
      "text/plain": [
       "     uid_inst           uname          name_inst  uid_vk          name_vk\n",
       "0   751026638       mrzelkin1     aleksej zelkin    5394    alexey zelkin\n",
       "1     2744159         undruha  andrey gnelitskiy   22884  andre undrukhov\n",
       "2  4157858483       vadimbhai     abhairov vadim   23754    vadim reutsky\n",
       "3   389335890  superov_sergey     sergey superov   89831   sergey superov\n",
       "4   199238507       smilychka       nastja gogol  103177     nastya gogol"
      ]
     },
     "execution_count": 21,
     "metadata": {},
     "output_type": "execute_result"
    }
   ],
   "source": [
    "df.head()"
   ]
  },
  {
   "cell_type": "code",
   "execution_count": 31,
   "metadata": {
    "scrolled": false
   },
   "outputs": [
    {
     "name": "stdout",
     "output_type": "stream",
     "text": [
      "\n",
      "\n",
      "vadimbhai \t abhairov vadim : vadim reutsky\n",
      "! 0.370 0.520 0.560\n",
      "\n",
      "\n",
      "smilychka \t nastja gogol : nastya gogol\n",
      "! 0.917 0.920 0.920\n",
      "\n",
      "\n",
      "\n",
      "\n",
      "\n",
      "tatbeauty_ru \t belorusskaja kosmetika : natalia sokolova\n",
      "! 0.316 0.320 0.320\n",
      "\n",
      "stasechka_ \t garifullina anastasia : anastasia garifullina\n",
      "! 0.524 1.000 1.000\n",
      "\n",
      "iloshap \t iloshap : ilona pekerman\n",
      "! 0.476 0.480 0.480\n",
      "\n",
      "\n",
      "\n",
      "\n",
      "more__life \t valerya vorobeva : valeria vorobyeva\n",
      "! 0.909 0.910 0.910\n",
      "\n",
      "\n",
      "\n",
      "\n",
      "\n",
      "\n",
      "\n",
      "\n",
      "\n",
      "\n",
      "_alena_ko \t alena pesoshina : alyona koroleva\n",
      "! 0.467 0.470 0.470\n",
      "\n",
      "\n",
      "retro_live_kzn \t stanislav k : stanislav kotov\n",
      "! 0.846 0.850 0.900\n",
      "\n",
      "dj_xaker \t djpate xakera : ildar khusainov\n",
      "! 0.357 0.360 0.360\n",
      "\n",
      "\n",
      "\n",
      "\n",
      "\n",
      "\n",
      "i.razetdinov \t i r  ilgiz razetdinov : ilgiz razetdinov\n",
      "! 0.865 0.890 1.000\n",
      "\n",
      "nozdrina_t \t tatjana nozdrina : tatyana nozdrina\n",
      "! 0.938 0.940 0.940\n",
      "\n",
      "alexandrievlev \t aleksandr ievlev : alexander ievlev\n",
      "! 0.875 0.880 0.880\n",
      "\n",
      "a.petyhov \t andrej petuhov : andrey petukhov\n",
      "! 0.897 0.900 0.900\n",
      "\n",
      "\n",
      "regina_aibyatova \t regina : regina aybyatova\n",
      "! 0.545 0.550 1.000\n",
      "\n",
      "\n",
      "\n",
      "\n",
      "\n",
      "\n",
      "\n",
      "\n",
      "\n",
      "\n",
      "\n",
      "lochkanov \t ilja lochkanov : ilya lochkanov\n",
      "! 0.929 0.930 0.930\n",
      "\n",
      "sova_kzn \t vjazanye igrushkivkusnye lozhki : guzel egorova\n",
      "! 0.273 0.320 0.320\n",
      "\n",
      "erikkuralov \t kuralov ehrik : ernest kuralov\n",
      "! 0.519 0.740 0.740\n",
      "\n",
      "\n",
      "fabrika_lab \t dizajnproizvodstvopr : varvara nebesnykh\n",
      "! 0.216 0.220 0.220\n",
      "\n",
      "\n",
      "\n",
      "annasherstneva \t sherstneva anna : anna sherstneva\n",
      "! 0.667 1.000 1.000\n",
      "\n",
      "\n",
      "kanitrainer \t dmitrij kanifadin : dmitry kanifadin\n",
      "! 0.909 0.910 0.910\n",
      "\n",
      "alik_muratidis \t alikmuratidis : alexander muratidis\n",
      "! 0.688 0.690 0.690\n",
      "\n",
      "homolady \t alinatsandekova : alina tsandekova\n",
      "! 0.968 0.970 0.970\n",
      "\n",
      "railshowman \t veduszijshoumen po rf : rail nuriev\n",
      "! 0.188 0.190 0.190\n",
      "\n",
      "\n",
      "\n",
      "\n",
      "\n",
      "milenkiy_amelie \t irina : irinka dobrova\n",
      "! 0.526 0.530 0.530\n",
      "\n",
      "daryazazulina \t darya  zazulina : darya egorova\n",
      "! 0.500 0.520 0.560\n",
      "\n",
      "\n",
      "\n",
      "\n",
      "\n",
      "\n",
      "\n",
      "annamontach \t ann montach : anyutka montach\n",
      "! 0.769 0.770 0.780\n",
      "\n",
      "\n",
      "\n",
      "\n",
      "\n",
      "\n",
      "yeremeyev \t aleksey yeremeyev : alexey eremeev\n",
      "! 0.839 0.840 0.840\n",
      "\n",
      "agaifullin \t albert gaifullin : albert gayfullin\n",
      "! 0.938 0.940 0.940\n",
      "\n",
      "\n",
      "\n",
      "\n",
      "\n",
      "\n",
      "\n",
      "mama_yasmini \t ajgul : aygul mukhametzyanova\n",
      "! 0.308 0.310 0.310\n",
      "\n",
      "\n",
      "\n",
      "\n",
      "\n",
      "\n",
      "\n",
      "\n",
      "\n",
      "\n",
      "\n",
      "\n",
      "\n",
      "\n",
      "\n",
      "devyatochka999 \t evgenija : zhenechka devyatova\n",
      "! 0.222 0.370 0.370\n",
      "\n",
      "sergeybossa \t sergey bossa : sergey obosyan\n",
      "! 0.846 0.850 0.850\n",
      "\n",
      "andreykacherovich \t andrey baron kachervich : andrey kacherovich\n",
      "! 0.829 0.830 0.830\n",
      "\n",
      "anvar_ianbaev \t anvar ehfendi : anvar yanbaev\n",
      "! 0.538 0.540 0.560\n",
      "\n",
      "\n",
      "nimarru \t none : andrey ivanov\n",
      "! 0.235 0.240 0.240\n",
      "\n",
      "designartfly \t svadebnye aksessuary kazan : aygul evdokimova\n",
      "! 0.286 0.290 0.290\n",
      "\n",
      "\n",
      "karrex \t artur karrex galimov : artur galimov\n",
      "! 0.788 0.790 1.000\n",
      "\n",
      "\n",
      "\n",
      "\n",
      "\n",
      "\n",
      "\n",
      "radmir_tatuaj \t radmir tatuazh v kazani : radmir vakhidov\n",
      "! 0.526 0.530 0.570\n",
      "\n",
      "\n",
      "vlad_kirillov_photographer \t vladislav kirillov : vlad kirillov\n",
      "! 0.839 0.840 0.840\n",
      "\n",
      "\n",
      "\n",
      "rinatta \t rinatta : rinatta asil\n",
      "! 0.737 0.740 1.000\n",
      "\n",
      "dmtrydrgv \t dmitrij : dmitry dorogov\n",
      "! 0.476 0.480 0.480\n",
      "\n",
      "stellarstriked \t none : vlada petrova\n",
      "! 0.118 0.120 0.120\n",
      "\n",
      "marysyabelka \t mariya koimova : maria koymova\n",
      "! 0.889 0.890 0.890\n",
      "\n",
      "gromasha \t groma marija : maria groma\n",
      "! 0.435 0.960 0.960\n",
      "\n",
      "\n",
      "\n",
      "\n",
      "\n",
      "\n",
      "\n",
      "\n",
      "\n",
      "tshatov \t shatov taras : taras shatov\n",
      "! 0.500 1.000 1.000\n",
      "\n",
      "artkozlov \t artem : artem kozlov\n",
      "! 0.588 0.590 1.000\n",
      "\n",
      "nikiniki2239 \t tot samyj nikita : nikita karasyov\n",
      "! 0.387 0.390 0.650\n",
      "\n",
      "\n",
      "\n",
      "kazanenglish \t jazykovaja shkola today : veronichka kiryanova\n",
      "! 0.326 0.370 0.370\n",
      "\n",
      "\n",
      "\n",
      "\n",
      "\n",
      "\n",
      "\n",
      "\n"
     ]
    }
   ],
   "source": [
    "def test_name_sim_fs():\n",
    "    for row in df[['uname', 'name_inst', 'name_vk']].values[:150]:\n",
    "        \n",
    "        a,b = row[1:]\n",
    "        s1 = lev.ratio(a,b)\n",
    "        s2 = fuzz.token_sort_ratio(a,b) / 100\n",
    "        s3 = fuzz.token_set_ratio(a,b) / 100\n",
    "        c = s1 < s2\n",
    "        if c:\n",
    "            print('%s \\t %s : %s' % (row[0], row[1], row[2]))\n",
    "            print('!' if c else '','%.3f %.3f %.3f' % (s1, s2, s3))\n",
    "        print()\n",
    "\n",
    "test_name_sim_fs()"
   ]
  },
  {
   "cell_type": "markdown",
   "metadata": {},
   "source": [
    "### Distribution analysis"
   ]
  },
  {
   "cell_type": "code",
   "execution_count": null,
   "metadata": {},
   "outputs": [],
   "source": [
    "def run_permutation_test(pooled,sizeZ,sizeY,delta):\n",
    "    np.random.shuffle(pooled)\n",
    "    starZ = pooled[:sizeZ]\n",
    "    starY = pooled[-sizeY:]\n",
    "    return starZ.mean() - starY.mean()\n",
    "\n",
    "def bootstrap_test(z,y):\n",
    "    numSamples = 10000\n",
    "    \n",
    "    z = np.array(z)\n",
    "    y = np.array(y)\n",
    "\n",
    "    pooled = np.hstack([z,y])\n",
    "    delta = z.mean() - y.mean()\n",
    "    estimates = np.array(list(map(lambda x: run_permutation_test(pooled,z.size,y.size,delta),range(numSamples))))\n",
    "    diffCount = len(np.where(estimates <= delta)[0])\n",
    "    hat_asl_perm = 1.0 - (float(diffCount)/float(numSamples))\n",
    "    return hat_asl_perm\n",
    "\n",
    "\n",
    "bootstrap_test([94,197,16,38,99,141,23], [52,104,146,10,51,30,40,27,46])"
   ]
  },
  {
   "cell_type": "code",
   "execution_count": null,
   "metadata": {},
   "outputs": [],
   "source": [
    "def feature(vl, bins=31, size=50):\n",
    "    feature_set = [0 for i in range(2 * bins)]\n",
    "    _1hop = [v.degree() for v in vl.neighbors()]\n",
    "    for h in _1hop:\n",
    "        if h < bins * size:\n",
    "            feature_set[int(h / size)] += 1\n",
    "#     _2hop = []\n",
    "#     for vs in vl.neighbors():\n",
    "#         _2hop += [v.degree() for v in vs.neighbors()]\n",
    "#     for h in _2hop:\n",
    "#         if h < bins * size:\n",
    "#             feature_set[bins + int(h / size)] += 1\n",
    "    return feature_set\n",
    "\n",
    "a = feature(v)"
   ]
  },
  {
   "cell_type": "markdown",
   "metadata": {},
   "source": [
    "If the K-S statistic is small or the p-value is high, then we cannot reject the hypothesis that the distributions of the two samples are the same."
   ]
  },
  {
   "cell_type": "code",
   "execution_count": null,
   "metadata": {
    "scrolled": false
   },
   "outputs": [],
   "source": [
    "import itertools  as it\n",
    "from scipy.stats import ks_2samp\n",
    "from difflib import SequenceMatcher\n",
    "import numpy as np\n",
    "from random import random\n",
    "\n",
    "def dist_sim(vr, vl):\n",
    "    sl = [v.degree() for v in vl.neighbors()]\n",
    "    sr = [v.degree() for v in vr.neighbors()]\n",
    "    return ks_2samp(sl, sr)\n",
    "\n",
    "\n",
    "def dist_sim2(vl, vr):\n",
    "#     sl = []\n",
    "#     for vs in vl.neighbors():\n",
    "#         sl += [v.degree() for v in vs.neighbors()]\n",
    "        \n",
    "#     sr = []\n",
    "#     for vs in vl.neighbors():\n",
    "#         sr += [v.degree() for v in vs.neighbors()]\n",
    "#     sl = [v.degree() for v in vl.neighbors()]\n",
    "#     sr = [v.degree() for v in vr.neighbors()]\n",
    "    bins=11\n",
    "    size=50\n",
    "    sl = feature(vl, bins, size)\n",
    "    sr = feature(vr, bins, size)\n",
    "    return bootstrap_test(sl, sr)\n",
    "\n",
    "def neigbor_deg_dist(lg, rg):\n",
    "    seq = SequenceMatcher()\n",
    "#     for vl, vr in zip(it.islice(lg.vs, 40,50), it.islice(rg.vs, 10,30)):\n",
    "    for vl in it.islice(lg.vs, 41, 42):\n",
    "        vrt = rg.vs.find(name = vl['name'])\n",
    "        \n",
    "        for vr in [vrt] + vrt.neighbors():\n",
    "            seq.set_seqs(vl['fname'], vr['fname'])\n",
    "            t2 = dist_sim2(vl, vr)\n",
    "            s = []\n",
    "            for vn in vl.neighbors():\n",
    "                s.append(vn.degree())\n",
    "            f, axarr = plt.subplots(nrows = 1, ncols=2)\n",
    "            axarr[0].hist(s, bins=30)\n",
    "            axarr[0].set_title('%s %d\\n %s %f\\n %f' % (vl['name'], vl.degree(), vl['fname'], seq.ratio(), t2))\n",
    "            for vn in vr.neighbors():\n",
    "                s.append(vn.degree())\n",
    "            axarr[1].hist(s, bins=30)\n",
    "\n",
    "            plt.title('%s %d\\n %s' % (vr['name'], vr.degree(), vr['fname']))\n",
    "            plt.show()\n",
    "            print(dist_sim(vl, vr))\n",
    "    \n",
    "neigbor_deg_dist(vk_g, inst_g)"
   ]
  },
  {
   "cell_type": "code",
   "execution_count": null,
   "metadata": {},
   "outputs": [],
   "source": []
  },
  {
   "cell_type": "code",
   "execution_count": null,
   "metadata": {},
   "outputs": [],
   "source": []
  }
 ],
 "metadata": {
  "kernelspec": {
   "display_name": "Python 3",
   "language": "python",
   "name": "python3"
  },
  "language_info": {
   "codemirror_mode": {
    "name": "ipython",
    "version": 3
   },
   "file_extension": ".py",
   "mimetype": "text/x-python",
   "name": "python",
   "nbconvert_exporter": "python",
   "pygments_lexer": "ipython3",
   "version": "3.6.2"
  }
 },
 "nbformat": 4,
 "nbformat_minor": 2
}
