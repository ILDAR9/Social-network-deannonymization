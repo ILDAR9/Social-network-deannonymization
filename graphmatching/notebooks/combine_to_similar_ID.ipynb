{
 "cells": [
  {
   "cell_type": "code",
   "execution_count": 11,
   "metadata": {},
   "outputs": [],
   "source": [
    "import sys, time, re\n",
    "from random import randint\n",
    "import cyrtranslit\n",
    "import os\n",
    "import pandas as pd\n",
    "import pylab as plt\n",
    "from tqdm import tqdm\n",
    "%matplotlib inline "
   ]
  },
  {
   "cell_type": "code",
   "execution_count": 17,
   "metadata": {
    "collapsed": true
   },
   "outputs": [],
   "source": [
    "import cyrtranslit\n",
    "\n",
    "def clean_lineinst(line):\n",
    "    inst_dict = dict()\n",
    "    pat = re.compile(\"(\\d+),(.*),(.*)\")\n",
    "    pat_word = re.compile('[^a-zA-Zа-яА-Я\\d\\s]+')\n",
    "\n",
    "    uid, uname, fname = pat.match(line).groups()\n",
    "    fname = re.sub(pat_word, '', fname).strip().lower()\n",
    "    \n",
    "    fname = cyrtranslit.to_latin(fname, 'ru').replace(\"'\", '')\n",
    "    return (uid, uname, fname)\n",
    "\n",
    "def clean_linevk(line):\n",
    "    inst_dict = dict()\n",
    "    pat = re.compile(\"(\\d+),(.*),(.*),(.*)\")\n",
    "    pat_word = re.compile('[^a-zA-Zа-яА-Я\\d\\s]+')\n",
    "\n",
    "    try:\n",
    "        uid, uname, name1, name2 = pat.match(line).groups()\n",
    "        name1 = re.sub(pat_word, '', name1).strip().lower()\n",
    "        name2 = re.sub(pat_word, '', name2).strip().lower()\n",
    "        fname = name1 + ' ' + name2\n",
    "    except AttributeError:\n",
    "        print(line)\n",
    "    fname = cyrtranslit.to_latin(fname, 'ru').replace(\"'\", '')\n",
    "    return (uid, uname, fname)\n",
    "\n",
    "folder = 'data'\n",
    "\n",
    "def read_clean_csv(fname, num_col):\n",
    "    df = pd.DataFrame()\n",
    "\n",
    "    clean_line = clean_lineinst if num_col == 3 else clean_linevk\n",
    "    with open(os.path.join(folder, fname), 'r') as f:\n",
    "        for line in tqdm(f.readlines()):\n",
    "            df = pd.concat( [df, pd.DataFrame([clean_line(line)])], ignore_index=True )\n",
    "    return df"
   ]
  },
  {
   "cell_type": "code",
   "execution_count": 18,
   "metadata": {},
   "outputs": [
    {
     "name": "stderr",
     "output_type": "stream",
     "text": [
      "100%|██████████| 24859/24859 [00:46<00:00, 530.15it/s]\n"
     ]
    },
    {
     "data": {
      "text/html": [
       "<div>\n",
       "<style>\n",
       "    .dataframe thead tr:only-child th {\n",
       "        text-align: right;\n",
       "    }\n",
       "\n",
       "    .dataframe thead th {\n",
       "        text-align: left;\n",
       "    }\n",
       "\n",
       "    .dataframe tbody tr th {\n",
       "        vertical-align: top;\n",
       "    }\n",
       "</style>\n",
       "<table border=\"1\" class=\"dataframe\">\n",
       "  <thead>\n",
       "    <tr style=\"text-align: right;\">\n",
       "      <th></th>\n",
       "      <th>uid</th>\n",
       "      <th>uname</th>\n",
       "      <th>inst_name</th>\n",
       "    </tr>\n",
       "  </thead>\n",
       "  <tbody>\n",
       "    <tr>\n",
       "      <th>0</th>\n",
       "      <td>751026638</td>\n",
       "      <td>mrzelkin1</td>\n",
       "      <td>aleksej zelkin</td>\n",
       "    </tr>\n",
       "    <tr>\n",
       "      <th>1</th>\n",
       "      <td>2744159</td>\n",
       "      <td>undruha</td>\n",
       "      <td>andrey gnelitskiy</td>\n",
       "    </tr>\n",
       "    <tr>\n",
       "      <th>2</th>\n",
       "      <td>4157858483</td>\n",
       "      <td>vadimbhai</td>\n",
       "      <td>abhairov vadim</td>\n",
       "    </tr>\n",
       "    <tr>\n",
       "      <th>3</th>\n",
       "      <td>389335890</td>\n",
       "      <td>superov_sergey</td>\n",
       "      <td>sergey superov</td>\n",
       "    </tr>\n",
       "    <tr>\n",
       "      <th>4</th>\n",
       "      <td>199238507</td>\n",
       "      <td>smilychka</td>\n",
       "      <td>nastja gogol</td>\n",
       "    </tr>\n",
       "  </tbody>\n",
       "</table>\n",
       "</div>"
      ],
      "text/plain": [
       "          uid           uname          inst_name\n",
       "0   751026638       mrzelkin1     aleksej zelkin\n",
       "1     2744159         undruha  andrey gnelitskiy\n",
       "2  4157858483       vadimbhai     abhairov vadim\n",
       "3   389335890  superov_sergey     sergey superov\n",
       "4   199238507       smilychka       nastja gogol"
      ]
     },
     "execution_count": 18,
     "metadata": {},
     "output_type": "execute_result"
    }
   ],
   "source": [
    "inst = read_clean_csv(fname = 'inst_personal.csv', num_col = 3)\n",
    "inst.columns = ['uid', 'uname', 'inst_name']\n",
    "inst.head()"
   ]
  },
  {
   "cell_type": "code",
   "execution_count": 21,
   "metadata": {},
   "outputs": [
    {
     "name": "stderr",
     "output_type": "stream",
     "text": [
      "100%|██████████| 26224/26224 [00:54<00:00, 478.66it/s]\n"
     ]
    },
    {
     "data": {
      "text/html": [
       "<div>\n",
       "<style>\n",
       "    .dataframe thead tr:only-child th {\n",
       "        text-align: right;\n",
       "    }\n",
       "\n",
       "    .dataframe thead th {\n",
       "        text-align: left;\n",
       "    }\n",
       "\n",
       "    .dataframe tbody tr th {\n",
       "        vertical-align: top;\n",
       "    }\n",
       "</style>\n",
       "<table border=\"1\" class=\"dataframe\">\n",
       "  <thead>\n",
       "    <tr style=\"text-align: right;\">\n",
       "      <th></th>\n",
       "      <th>uid</th>\n",
       "      <th>uname</th>\n",
       "      <th>vk_name</th>\n",
       "    </tr>\n",
       "  </thead>\n",
       "  <tbody>\n",
       "    <tr>\n",
       "      <th>0</th>\n",
       "      <td>5394</td>\n",
       "      <td>mrzelkin1</td>\n",
       "      <td>alexey zelkin</td>\n",
       "    </tr>\n",
       "    <tr>\n",
       "      <th>1</th>\n",
       "      <td>22884</td>\n",
       "      <td>undruha</td>\n",
       "      <td>andre undrukhov</td>\n",
       "    </tr>\n",
       "    <tr>\n",
       "      <th>2</th>\n",
       "      <td>23754</td>\n",
       "      <td>vadimbhai</td>\n",
       "      <td>vadim reutsky</td>\n",
       "    </tr>\n",
       "    <tr>\n",
       "      <th>3</th>\n",
       "      <td>89831</td>\n",
       "      <td>superov_sergey</td>\n",
       "      <td>sergey superov</td>\n",
       "    </tr>\n",
       "    <tr>\n",
       "      <th>4</th>\n",
       "      <td>103177</td>\n",
       "      <td>smilychka</td>\n",
       "      <td>nastya gogol</td>\n",
       "    </tr>\n",
       "  </tbody>\n",
       "</table>\n",
       "</div>"
      ],
      "text/plain": [
       "      uid           uname          vk_name\n",
       "0    5394       mrzelkin1    alexey zelkin\n",
       "1   22884         undruha  andre undrukhov\n",
       "2   23754       vadimbhai    vadim reutsky\n",
       "3   89831  superov_sergey   sergey superov\n",
       "4  103177       smilychka     nastya gogol"
      ]
     },
     "execution_count": 21,
     "metadata": {},
     "output_type": "execute_result"
    }
   ],
   "source": [
    "vk = read_clean_csv(fname = 'vk_personal.csv', num_col = 4)\n",
    "vk.columns = ['uid', 'uname', 'vk_name']\n",
    "vk.head()"
   ]
  },
  {
   "cell_type": "code",
   "execution_count": 37,
   "metadata": {},
   "outputs": [],
   "source": [
    "inst_uname_id = dict(((d[1], d[0]) for d in inst[['uid', 'uname']].values))\n",
    "vk_id_name = dict(((d[0], d[1]) for d in vk[['uid', 'uname']].values))"
   ]
  },
  {
   "cell_type": "code",
   "execution_count": 72,
   "metadata": {},
   "outputs": [],
   "source": [
    "def get_sim(uid):\n",
    "    return inst_uname_id[vk_id_name[uid]] if uid in vk_id_name and vk_id_name[uid] in inst_uname_id else None\n",
    "\n",
    "def generate_overlap(df):\n",
    "    ls = []\n",
    "    with open(os.path.join(folder, 'vk_lid_rid.csv'), 'r') as f:\n",
    "        for line in f.readlines():\n",
    "            l, r = line.split()\n",
    "            l = get_sim(l)\n",
    "            r = get_sim(r)\n",
    "            if l and r:\n",
    "                ls.append((l, r))\n",
    "    return ls"
   ]
  },
  {
   "cell_type": "code",
   "execution_count": 73,
   "metadata": {},
   "outputs": [],
   "source": [
    "with open(os.path.join(folder, 'same_to_inst_vk.csv'), 'w') as rw:\n",
    "    ls = generate_overlap(vk)\n",
    "    for tup in ls:\n",
    "        rw.write('%s %s\\n' % tup)"
   ]
  },
  {
   "cell_type": "code",
   "execution_count": null,
   "metadata": {
    "collapsed": true
   },
   "outputs": [],
   "source": []
  }
 ],
 "metadata": {
  "kernelspec": {
   "display_name": "Python 3",
   "language": "python",
   "name": "python3"
  },
  "language_info": {
   "codemirror_mode": {
    "name": "ipython",
    "version": 3
   },
   "file_extension": ".py",
   "mimetype": "text/x-python",
   "name": "python",
   "nbconvert_exporter": "python",
   "pygments_lexer": "ipython3",
   "version": "3.6.2"
  }
 },
 "nbformat": 4,
 "nbformat_minor": 2
}
