{
 "cells": [
  {
   "cell_type": "code",
   "execution_count": 31,
   "metadata": {},
   "outputs": [
    {
     "data": {
      "text/plain": [
       "<module 'ml_utils' from '../scripts/ml_utils.py'>"
      ]
     },
     "execution_count": 31,
     "metadata": {},
     "output_type": "execute_result"
    }
   ],
   "source": [
    "import sys, time, re\n",
    "import os\n",
    "import pandas as pd\n",
    "import pylab as plt\n",
    "from importlib import reload\n",
    "%matplotlib inline\n",
    "import itertools as it\n",
    "import numpy as np\n",
    "from multiprocessing import Pool as ThreadPool\n",
    "import  Levenshtein\n",
    "from tqdm import tqdm_notebook as tqdm\n",
    "import pickle\n",
    "import gc\n",
    "import sys\n",
    "sys.path.append('../scripts')\n",
    "\n",
    "import ml_utils as utils\n",
    "reload(utils)"
   ]
  },
  {
   "cell_type": "markdown",
   "metadata": {},
   "source": [
    "### Generate true mapping"
   ]
  },
  {
   "cell_type": "code",
   "execution_count": null,
   "metadata": {},
   "outputs": [],
   "source": [
    "utils.generate_true_mapping(from_raw=False)"
   ]
  },
  {
   "cell_type": "code",
   "execution_count": 4,
   "metadata": {},
   "outputs": [
    {
     "name": "stdout",
     "output_type": "stream",
     "text": [
      "       uid_inst           uname          name_inst    uid_vk          name_vk\n",
      "0  7.510266e+08       mrzelkin1     aleksej zelkin    5394.0    alexey zelkin\n",
      "1  2.744159e+06         undruha  andrey gnelitskiy   22884.0  andre undrukhov\n",
      "2  4.157858e+09       vadimbhai     abhairov vadim   23754.0    vadim reutsky\n",
      "3  3.893359e+08  superov_sergey     sergey superov   89831.0   sergey superov\n",
      "4  1.992385e+08       smilychka       nastja gogol  103177.0     nastya gogol\n"
     ]
    }
   ],
   "source": [
    "df = utils.read_combine_df(from_raw=False, merge_how='outer')"
   ]
  },
  {
   "cell_type": "markdown",
   "metadata": {},
   "source": [
    "### Read graphs"
   ]
  },
  {
   "cell_type": "code",
   "execution_count": 12,
   "metadata": {},
   "outputs": [
    {
     "name": "stdout",
     "output_type": "stream",
     "text": [
      "G1 has all fname True\n",
      "G2 has all fname False\n",
      "CPU times: user 512 ms, sys: 44 ms, total: 556 ms\n",
      "Wall time: 597 ms\n"
     ]
    }
   ],
   "source": [
    "%%time\n",
    "reload(utils)\n",
    "g1_fname = 'vk_lid_rid.csv'\n",
    "g2_fname = 'inst_lid_rid.csv'\n",
    "G1, G2 = utils.read_gs(g1_fname, g2_fname, from_raw = False)"
   ]
  },
  {
   "cell_type": "markdown",
   "metadata": {},
   "source": [
    "### Read matches and start ML step"
   ]
  },
  {
   "cell_type": "code",
   "execution_count": 13,
   "metadata": {},
   "outputs": [
    {
     "name": "stdout",
     "output_type": "stream",
     "text": [
      "me/ildar/projects/pycharm/social_network_revealing/graphmatching/matches/repeat/091/matches_s_01_th_091_t_10-12_13:19.pickle\n",
      "matches len 4765\n",
      "(78897392, 608311198)\n",
      "(20158885, 482179932)\n",
      "(12852529, 294223340)\n",
      "(239645190, 53256746)\n",
      "(134652490, 4145166609)\n"
     ]
    },
    {
     "data": {
      "text/plain": [
       "(0.9565582371458552, 0.18484123443773065)"
      ]
     },
     "execution_count": 13,
     "metadata": {},
     "output_type": "execute_result"
    }
   ],
   "source": [
    "threshold=91\n",
    "is_repeat = True\n",
    "matches_file_name = 'matches_s_01_th_091_t_10-12_13:19.pickle'\n",
    "\n",
    "matches = utils.read_matches(matches_file_name, threshold, is_repeat)\n",
    "utils.precision_recall(matches)"
   ]
  },
  {
   "cell_type": "markdown",
   "metadata": {},
   "source": [
    "### 1 step"
   ]
  },
  {
   "cell_type": "code",
   "execution_count": 32,
   "metadata": {},
   "outputs": [
    {
     "name": "stdout",
     "output_type": "stream",
     "text": [
      "Cache loaded 24800 20794\n",
      "Start thread 0\n"
     ]
    },
    {
     "data": {
      "application/vnd.jupyter.widget-view+json": {
       "model_id": "5760aa0ec1594fb38d0c13a9ae996342",
       "version_major": 2,
       "version_minor": 0
      },
      "text/html": [
       "<p>Failed to display Jupyter Widget of type <code>HBox</code>.</p>\n",
       "<p>\n",
       "  If you're reading this message in Jupyter Notebook or JupyterLab, it may mean\n",
       "  that the widgets JavaScript is still loading. If this message persists, it\n",
       "  likely means that the widgets JavaScript library is either not installed or\n",
       "  not enabled. See the <a href=\"https://ipywidgets.readthedocs.io/en/stable/user_install.html\">Jupyter\n",
       "  Widgets Documentation</a> for setup instructions.\n",
       "</p>\n",
       "<p>\n",
       "  If you're reading this message in another notebook frontend (for example, a static\n",
       "  rendering on GitHub or <a href=\"https://nbviewer.jupyter.org/\">NBViewer</a>),\n",
       "  it may mean that your frontend doesn't currently support widgets.\n",
       "</p>\n"
      ],
      "text/plain": [
       "HBox(children=(IntProgress(value=0, max=4765), HTML(value='')))"
      ]
     },
     "metadata": {},
     "output_type": "display_data"
    },
    {
     "name": "stdout",
     "output_type": "stream",
     "text": [
      "\n",
      "Clear cache 0 0\n"
     ]
    }
   ],
   "source": [
    "reload(utils)\n",
    "utils.gen_train_data(matches, G1, G2, save_to = 'train_data_matches', threads = 1)"
   ]
  },
  {
   "cell_type": "code",
   "execution_count": 34,
   "metadata": {},
   "outputs": [
    {
     "name": "stdout",
     "output_type": "stream",
     "text": [
      "86\n"
     ]
    },
    {
     "data": {
      "text/plain": [
       "(11384, 11384)"
      ]
     },
     "execution_count": 34,
     "metadata": {},
     "output_type": "execute_result"
    }
   ],
   "source": [
    "features, labels = utils.load_train_data('train_data_matches')\n",
    "print(len(features[0]))\n",
    "len(features), len(labels)"
   ]
  },
  {
   "cell_type": "markdown",
   "metadata": {
    "collapsed": true
   },
   "source": [
    "### Generate 2 step test data (data/generate/test2_predicted.pickle)"
   ]
  },
  {
   "cell_type": "code",
   "execution_count": null,
   "metadata": {},
   "outputs": [],
   "source": [
    "df_l_others = utils.read_clean_csv(fname='vk_personal2.csv', from_raw = False)\n",
    "df_l_others.rename(columns={'uid_vk': 'uid'}, inplace=True)\n",
    "df_r_others = utils.read_clean_csv(fname='inst_personal.csv', from_raw = False)\n",
    "df_r_others.rename(columns={'uid_inst': 'uid'}, inplace=True)"
   ]
  },
  {
   "cell_type": "code",
   "execution_count": null,
   "metadata": {},
   "outputs": [],
   "source": [
    "df_l_others_90, df_r_others_90 = utils.filter_others_from_predicted(df_l_others, df_r_others, matches)"
   ]
  },
  {
   "cell_type": "code",
   "execution_count": null,
   "metadata": {
    "scrolled": false
   },
   "outputs": [],
   "source": [
    "reload(utils)\n",
    "name_sim_threshold = 90\n",
    "results_90, lid_rid_90 = utils.ml_iteration(df_l_others_90, df_r_others_90, forest, G1, G2, \n",
    "                    name_sim_threshold, threads = 6, save_to='lid_rid_90')"
   ]
  },
  {
   "cell_type": "code",
   "execution_count": null,
   "metadata": {},
   "outputs": [],
   "source": [
    "utils.precision_recall(lid_rid_90)"
   ]
  },
  {
   "cell_type": "markdown",
   "metadata": {},
   "source": [
    "### Generate 3 step test data (data/generate/test3_data.pickle)"
   ]
  },
  {
   "cell_type": "code",
   "execution_count": null,
   "metadata": {},
   "outputs": [],
   "source": [
    "def prepare_data_for_threads(df_l, df_r, model, G1, G2, threads, name_sim_threshold = None):\n",
    "    data = []\n",
    "\n",
    "    thr_size = len(df_l) // threads\n",
    "    for i in range(threads):\n",
    "        s = i * thr_size\n",
    "        e = i * thr_size + thr_size\n",
    "        d = {\n",
    "            'thread_num': i,\n",
    "            'vals_l': df_l[s:e] if i + 1 < threads else df_l[s:],\n",
    "            'vals_r': df_r,\n",
    "            'model': model,\n",
    "            'G1': G1,\n",
    "            'G2': G2,\n",
    "        }\n",
    "        if name_sim_threshold:\n",
    "            d['name_sim_threshold'] =  name_sim_threshold\n",
    "        data.append(d)\n",
    "    return datareshape((1, -1)"
   ]
  },
  {
   "cell_type": "code",
   "execution_count": null,
   "metadata": {},
   "outputs": [],
   "source": [
    "reload(utils)\n",
    "\n",
    "def collect_true(data):\n",
    "    df_vals_l = data['vals_l']\n",
    "    df_vals_r = data['vals_r']\n",
    "    model = data['model']\n",
    "    G1 = data['G1']\n",
    "    G2 = data['G2']\n",
    "    thread_num = data['thread_num']\n",
    "\n",
    "    res_list = []\n",
    "    lev = Levenshtein\n",
    "    print('Start', thread_num)\n",
    "    true_count = 0\n",
    "    for row_l in tqdm(df_vals_l):\n",
    "        for row_r in tqdm(df_vals_r):\n",
    "#             ratio = lev.ratio(row_l[1], row_r[1])\n",
    "            x = np.array(utils.feature(G1, row_l, G2, row_r)).reshape((1, -1))\n",
    "            if model.predict(x) == 1:\n",
    "                true_count += 1\n",
    "                res_list.append((row_l, row_r)) # ratio\n",
    "    total_count = len(df_vals_l) * len(df_vals_r)\n",
    "    print('Thread', thread_num, 'True =', true_count, 'False =', total_count - true_count,\n",
    "          'Total =', total_count, 'True/Total =', true_count / total_count)\n",
    "    return res_list\n",
    "\n",
    "def get_test_3_step_palalel(true_1step, true_2step, model, G1, G2, threads=4):\n",
    "    \n",
    "    \n",
    "    filter_g = lambda G, col_num: list(set(G.nodes()) - (set((x[col_num] for x in true_1step)) | \n",
    "                                                      set((x[col_num] for x in true_2step))))\n",
    "    df_l = filter_g(G1, 0)\n",
    "    df_r = filter_g(G2, 1)\n",
    "    data = utils.prepare_data_for_threads(df_l, df_r, forest, G1, G2, threads=threads)\n",
    "    with ThreadPool(threads) as pool:\n",
    "        results = pool.map(collect_true, data)\n",
    "    439850\n",
    "    for i, res in enumerate(results):\n",
    "        print(i, 'true count', len(res))\n",
    "    pickle.dump(results, open(os.path.join(utils.folder_gen, 'test3_predicted.pickle'), \"wb\"))\n",
    "    utils.f_set1s = dict()\n",
    "    utils.f_set2s = dict()\n",
    "    return results\n",
    "\n",
    "get_test_3_step_palalel(matched_1step, results2, forest, G1, G2, threads=5)\n",
    "gc.collect()"
   ]
  },
  {
   "cell_type": "markdown",
   "metadata": {},
   "source": [
    "### Name threshold 82"
   ]
  },
  {
   "cell_type": "code",
   "execution_count": null,
   "metadata": {},
   "outputs": [],
   "source": [
    "lid_rid_90 = pickle.load(open(os.path.join(utils.folder_gen, 'lid_rid_90.pickle'), \"rb\"))\n",
    "# ToDo retrain model there\n",
    "df_l_others_80, df_r_others_80 = filter_others_from_predicted(vk_others, inst_others, lid_rid_90)\n",
    "\n",
    "lid_rid_80 = ml_iteration(df_l_others, df_r_others, forest, G1, G2, \n",
    "                    name_sim_threshold = 0.8, threads = 6, save_to = 'lid_rid_80')\n",
    "\n",
    "gc.collect()"
   ]
  },
  {
   "cell_type": "code",
   "execution_count": null,
   "metadata": {},
   "outputs": [],
   "source": [
    "utils.gen_train_data(lid_rid_80, G1, G2, save_to = 'train_data_80')"
   ]
  },
  {
   "cell_type": "code",
   "execution_count": null,
   "metadata": {},
   "outputs": [],
   "source": [
    "utils.precision(lid_rid_80)"
   ]
  },
  {
   "cell_type": "code",
   "execution_count": null,
   "metadata": {},
   "outputs": [],
   "source": [
    "from scipy.stats import ks_2samp\n",
    "\n",
    "def dist_sim(G1, n, G2, m):\n",
    "    sl = [v.degree() for v in vl.neighbors()]\n",
    "    sr = [v.degree() for v in vr.neighbors()]\n",
    "    return ks_2samp(sl, sr)"
   ]
  },
  {
   "cell_type": "markdown",
   "metadata": {},
   "source": [
    "### Name threashold 70"
   ]
  },
  {
   "cell_type": "code",
   "execution_count": null,
   "metadata": {},
   "outputs": [],
   "source": [
    "lid_rid_80 = pickle.load(open(os.path.join(utils.folder_gen, 'lid_rid_80.pickle'), \"rb\"))\n",
    "\n",
    "model_70 = utils.retrain_model(model_80, ['train_data_matched', 'train_data_90', 'train_data_80', ])\n",
    "\n",
    "df_l_others_70, df_r_others_70 = utils.filter_others_from_predicted(df_l_others_80, df_r_others_80, lid_rid_80)\n",
    "\n",
    "lid_rid_70 = utils.ml_iteration(df_l_others_70, df_r_others_70, model_70, G1, G2, \n",
    "                    name_sim_threshold = 0.7, threads = 6, save_to = 'lid_rid_70')\n",
    "\n",
    "gc.collect()"
   ]
  },
  {
   "cell_type": "code",
   "execution_count": null,
   "metadata": {},
   "outputs": [],
   "source": [
    "utils.gen_train_data(lid_rid_70, G1, G2, save_to = 'train_data_70')"
   ]
  },
  {
   "cell_type": "code",
   "execution_count": null,
   "metadata": {},
   "outputs": [],
   "source": [
    "utils.precision(lid_rid_70)"
   ]
  },
  {
   "cell_type": "code",
   "execution_count": null,
   "metadata": {},
   "outputs": [],
   "source": []
  },
  {
   "cell_type": "code",
   "execution_count": null,
   "metadata": {},
   "outputs": [],
   "source": [
    "def overall_precision():\n",
    "    ls = []\n",
    "    for t in (6,7,8,9):\n",
    "        lid_rid = pickle.load(open(os.path.join(utils.folder_gen, 'lid_rid_%d0.pickle' % t), \"rb\"))\n",
    "        ls += lid_rid\n",
    "        \n",
    "    ls += [(x[0], x[1]) for x in pd.read_csv(os.path.join(utils.folder_gen, 'true_mapping.csv'))[:2500].values.tolist()]\n",
    "    utils.precision(ls)\n",
    "    \n",
    "overall_precision()"
   ]
  },
  {
   "cell_type": "markdown",
   "metadata": {},
   "source": [
    "#### Features cache"
   ]
  },
  {
   "cell_type": "code",
   "execution_count": null,
   "metadata": {},
   "outputs": [],
   "source": [
    "utils.f_set1s = dict(pickle.load(open(os.path.join(utils.folder_gen, 'features_G1.pickle'), \"rb\")))\n",
    "utils.f_set2s = dict(pickle.load(open(os.path.join(utils.folder_gen, 'features_G2.pickle'), \"rb\")))"
   ]
  },
  {
   "cell_type": "markdown",
   "metadata": {},
   "source": [
    "### Name threashold 60"
   ]
  },
  {
   "cell_type": "code",
   "execution_count": null,
   "metadata": {},
   "outputs": [],
   "source": [
    "lid_rid_70 = pickle.load(open(os.path.join(utils.folder_gen, 'lid_rid_70.pickle'), \"rb\"))\n",
    "\n",
    "model_60 = utils.retrain_model(model_70, ['train_data_matched', 'train_data_90', 'train_data_80', 'train_data_70'])\n",
    "\n",
    "df_l_others_60, df_r_others_60 = utils.filter_others_from_predicted(df_l_others_70, df_r_others_70, lid_rid_70)\n",
    "\n",
    "lid_rid_60 = utils.ml_iteration(df_l_others_60, df_r_others_60, model_60, G1, G2, \n",
    "                    name_sim_threshold = 0.6, threads = 6, save_to = 'lid_rid_60')\n",
    "\n",
    "gc.collect()"
   ]
  },
  {
   "cell_type": "code",
   "execution_count": null,
   "metadata": {},
   "outputs": [],
   "source": [
    "utils.precision(lid_rid_60)"
   ]
  },
  {
   "cell_type": "markdown",
   "metadata": {},
   "source": [
    "### Feature generation for ML on 1 step"
   ]
  },
  {
   "cell_type": "code",
   "execution_count": null,
   "metadata": {},
   "outputs": [],
   "source": [
    "%%time\n",
    "\n",
    "features, labels = utils.gen_train_data_1step('step1_data.pickle', from_raw=False)"
   ]
  },
  {
   "cell_type": "code",
   "execution_count": null,
   "metadata": {
    "scrolled": true
   },
   "outputs": [],
   "source": [
    "for a,b in it.islice(zip(features, labels), 2):\n",
    "    print(a, b)"
   ]
  },
  {
   "cell_type": "markdown",
   "metadata": {},
   "source": [
    "### ML models"
   ]
  },
  {
   "cell_type": "code",
   "execution_count": 19,
   "metadata": {},
   "outputs": [],
   "source": [
    "from sklearn.ensemble import AdaBoostClassifier\n",
    "from sklearn.tree import DecisionTreeClassifier\n",
    "from sklearn.ensemble import RandomForestClassifier\n",
    "from sklearn.ensemble import GradientBoostingClassifier\n",
    "from sklearn.model_selection import train_test_split\n",
    "from sklearn.metrics import roc_curve, auc"
   ]
  },
  {
   "cell_type": "code",
   "execution_count": 39,
   "metadata": {},
   "outputs": [],
   "source": [
    "# x_train, x_test, y_train, y_test = train_test_split(\n",
    "#      features, labels, test_size=0.3, random_state=42)\n",
    "x_train, y_train = features, labels"
   ]
  },
  {
   "cell_type": "code",
   "execution_count": 37,
   "metadata": {},
   "outputs": [
    {
     "data": {
      "text/plain": [
       "(86, 86)"
      ]
     },
     "execution_count": 37,
     "metadata": {},
     "output_type": "execute_result"
    }
   ],
   "source": [
    "len(x_train[0]), len(features[0])"
   ]
  },
  {
   "cell_type": "code",
   "execution_count": 42,
   "metadata": {},
   "outputs": [
    {
     "data": {
      "text/plain": [
       "RandomForestClassifier(bootstrap=True, class_weight=None, criterion='gini',\n",
       "            max_depth=None, max_features='auto', max_leaf_nodes=None,\n",
       "            min_impurity_decrease=0.0, min_impurity_split=None,\n",
       "            min_samples_leaf=1, min_samples_split=2,\n",
       "            min_weight_fraction_leaf=0.0, n_estimators=400, n_jobs=4,\n",
       "            oob_score=False, random_state=None, verbose=0,\n",
       "            warm_start=False)"
      ]
     },
     "execution_count": 42,
     "metadata": {},
     "output_type": "execute_result"
    }
   ],
   "source": [
    "forest = RandomForestClassifier(n_estimators = 400, criterion ='gini',\n",
    "                        bootstrap = True, max_features = 'auto' ,n_jobs=4)\n",
    "forest.fit(x_train, y_train)"
   ]
  },
  {
   "cell_type": "code",
   "execution_count": 41,
   "metadata": {},
   "outputs": [
    {
     "data": {
      "text/plain": [
       "1.0"
      ]
     },
     "execution_count": 41,
     "metadata": {},
     "output_type": "execute_result"
    }
   ],
   "source": [
    "forest.score(x_test, y_test)"
   ]
  },
  {
   "cell_type": "code",
   "execution_count": 23,
   "metadata": {},
   "outputs": [
    {
     "data": {
      "text/plain": [
       "GradientBoostingClassifier(criterion='friedman_mse', init=None,\n",
       "              learning_rate=0.1, loss='deviance', max_depth=3,\n",
       "              max_features=None, max_leaf_nodes=None,\n",
       "              min_impurity_decrease=0.0, min_impurity_split=None,\n",
       "              min_samples_leaf=1, min_samples_split=2,\n",
       "              min_weight_fraction_leaf=0.0, n_estimators=100,\n",
       "              presort='auto', random_state=None, subsample=1.0, verbose=0,\n",
       "              warm_start=False)"
      ]
     },
     "execution_count": 23,
     "metadata": {},
     "output_type": "execute_result"
    }
   ],
   "source": [
    "gbc = GradientBoostingClassifier(n_estimators=100)\n",
    "gbc.fit(x_train, y_train)"
   ]
  },
  {
   "cell_type": "code",
   "execution_count": 24,
   "metadata": {},
   "outputs": [
    {
     "data": {
      "text/plain": [
       "0.7258765575195596"
      ]
     },
     "execution_count": 24,
     "metadata": {},
     "output_type": "execute_result"
    }
   ],
   "source": [
    "gbc.score(x_test, y_test)"
   ]
  },
  {
   "cell_type": "code",
   "execution_count": 26,
   "metadata": {},
   "outputs": [
    {
     "data": {
      "image/png": "[encoded data removed]",
      "text/plain": [
       "<matplotlib.figure.Figure at 0x7fcd04fb2978>"
      ]
     },
     "metadata": {},
     "output_type": "display_data"
    }
   ],
   "source": [
    "y_score = forest.predict(x_test)\n",
    "y_true = y_test\n",
    "\n",
    "fpr, tpr, thresholds = roc_curve(y_true, y_score)\n",
    "roc_auc = auc(fpr, tpr)\n",
    "\n",
    "plt.title('Receiver Operating Characteristic')\n",
    "plt.plot(fpr, tpr, 'b',\n",
    "label='GS, AUC = %0.2f'% roc_auc)\n",
    "plt.legend(loc='lower right')\n",
    "plt.plot([0,1],[0,1],'r--')\n",
    "plt.xlim([-0.1,1.2])\n",
    "plt.ylim([-0.1,1.2])\n",
    "plt.ylabel('True Positive Rate')\n",
    "plt.xlabel('False Positive Rate')\n",
    "plt.show()"
   ]
  },
  {
   "cell_type": "code",
   "execution_count": 43,
   "metadata": {},
   "outputs": [],
   "source": [
    "pickle.dump(forest, open(os.path.join(utils.folder_gen, 'forest.pickle'), 'wb'))"
   ]
  },
  {
   "cell_type": "code",
   "execution_count": null,
   "metadata": {},
   "outputs": [],
   "source": [
    "forest2 = pickle.load(open(os.path.join(utils.folder_gen, 'forest.pickle'), 'rb'))"
   ]
  },
  {
   "cell_type": "code",
   "execution_count": 30,
   "metadata": {},
   "outputs": [
    {
     "data": {
      "text/plain": [
       "85"
      ]
     },
     "execution_count": 30,
     "metadata": {},
     "output_type": "execute_result"
    }
   ],
   "source": [
    "len(features[0])"
   ]
  },
  {
   "cell_type": "markdown",
   "metadata": {},
   "source": [
    "### Try keras ML"
   ]
  },
  {
   "cell_type": "code",
   "execution_count": null,
   "metadata": {},
   "outputs": [],
   "source": [
    "from keras.losses import mean_squared_error\n",
    "from keras.models import Sequential, Model\n",
    "from keras.layers import LSTM,Activation,Dense, Lambda, Input, Concatenate, Add, Reshape, Dropout\n",
    "from keras.optimizers import Adam\n",
    "from keras.metrics import mean_squared_error\n",
    "from keras.callbacks import EarlyStopping, ModelCheckpoint, TensorBoard, ReduceLROnPlateau\n",
    "from keras.engine.topology import Layer\n",
    "from keras.initializers import RandomNormal\n",
    "from keras.layers.normalization import BatchNormalization\n",
    "from keras.layers.merge import multiply\n",
    "from keras import backend as K\n",
    "from keras.constraints import non_neg\n",
    "import tensorflow as tf\n",
    "import keras"
   ]
  },
  {
   "cell_type": "code",
   "execution_count": null,
   "metadata": {},
   "outputs": [],
   "source": [
    "#Формирование модели\n",
    "model_number = 0\n",
    "best_weights_filepath = './best_weights.hdf5'\n",
    "log_path = './logs_nn/'"
   ]
  },
  {
   "cell_type": "code",
   "execution_count": null,
   "metadata": {},
   "outputs": [],
   "source": [
    "def get_model(x_train,\n",
    "              y_train,\n",
    "              model_number=0,\n",
    "              best_weights_filepath=best_weights_filepath,\n",
    "              log_path='./logs_nn/'):\n",
    "    '''hyperparams'''\n",
    "#     learning_rate = 1e-3\n",
    "#     reduce_lr = ReduceLROnPlateau(monitor='val_loss', factor=0.5, patience=50, min_lr=0.0001)\n",
    "#     optimiser = Adam(lr=learning_rate)\n",
    "    dense_activation = 'relu'\n",
    "    dense_1layer_nn_count_coef = 1\n",
    "    dense_2layer_nn_count_coef = 0.5\n",
    "    \n",
    "    out_len = 1\n",
    "    feature_amount = len(x_train[0])\n",
    "    in_shape = (feature_amount, )\n",
    "    \n",
    "    ''' 1. Вход '''\n",
    "    inputs = Input(shape=in_shape, name=\"in_data\")\n",
    "\n",
    "    inputs_transformed = BatchNormalization()(inputs)\n",
    "    print('inputs_transformed', inputs_transformed.shape)\n",
    "    ''' 6. Несколько полносвязных слоев '''\n",
    "    dense_nn_count = int(dense_1layer_nn_count_coef * feature_amount)\n",
    "    dense_model = Dense(units = dense_nn_count, activation = dense_activation)(inputs_transformed)\n",
    "    print(dense_model.shape)\n",
    "    dropout = Dropout(0.2)(dense_model)\n",
    "    dense_nn_count = int(dense_2layer_nn_count_coef * feature_amount)\n",
    "    dense_model = Dense(units = dense_nn_count, activation = dense_activation)(dense_model)\n",
    "    print(dense_model.shape)\n",
    "    output = Dense(units = out_len, activation = 'sigmoid', name='out_states')(dense_model)   \n",
    "    print(dense_model.shape)\n",
    "    \n",
    "    model = Model(inputs, output)\n",
    "    \n",
    "    tb_callback = TensorBoard(log_dir=log_path + '/', histogram_freq=0, write_graph=True,\n",
    "                              write_images=True)\n",
    "    bm_callback = ModelCheckpoint(best_weights_filepath, monitor='val_loss', verbose=1, save_best_only=True,\n",
    "                                  mode='auto')\n",
    "    \n",
    "    model.compile(loss='binary_crossentropy',\n",
    "                  optimizer='rmsprop',\n",
    "                  metrics=['accuracy', 'binary_crossentropy'])\n",
    "    return [model, [bm_callback, tb_callback]]"
   ]
  },
  {
   "cell_type": "code",
   "execution_count": null,
   "metadata": {},
   "outputs": [],
   "source": [
    "!rm -rf ./logs_nn/"
   ]
  },
  {
   "cell_type": "code",
   "execution_count": null,
   "metadata": {},
   "outputs": [],
   "source": [
    "[model, callbacks] = get_model(x_train, y_train, log_path = log_path+str(model_number))"
   ]
  },
  {
   "cell_type": "code",
   "execution_count": null,
   "metadata": {},
   "outputs": [],
   "source": [
    "batch_size = 32\n",
    "epochs = 1200\n",
    "\n",
    "model.fit(x_train, y_train,\n",
    "      batch_size=batch_size,\n",
    "      epochs=epochs,\n",
    "      validation_data=(x_test, y_test),\n",
    "      initial_epoch = 0,\n",
    "      callbacks = callbacks,\n",
    "      verbose = 1\n",
    "     )"
   ]
  },
  {
   "cell_type": "code",
   "execution_count": null,
   "metadata": {},
   "outputs": [],
   "source": []
  }
 ],
 "metadata": {
  "kernelspec": {
   "display_name": "Python 3",
   "language": "python",
   "name": "python3"
  },
  "language_info": {
   "codemirror_mode": {
    "name": "ipython",
    "version": 3
   },
   "file_extension": ".py",
   "mimetype": "text/x-python",
   "name": "python",
   "nbconvert_exporter": "python",
   "pygments_lexer": "ipython3",
   "version": "3.6.2"
  }
 },
 "nbformat": 4,
 "nbformat_minor": 2
}
