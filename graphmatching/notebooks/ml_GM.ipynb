{
 "cells": [
  {
   "cell_type": "code",
   "execution_count": 1,
   "metadata": {},
   "outputs": [
    {
     "data": {
      "text/plain": [
       "<module 'ml_utils' from '../scripts/ml_utils.py'>"
      ]
     },
     "execution_count": 1,
     "metadata": {},
     "output_type": "execute_result"
    }
   ],
   "source": [
    "import sys, time, re\n",
    "import os\n",
    "import pandas as pd\n",
    "import pylab as plt\n",
    "from importlib import reload\n",
    "%matplotlib inline\n",
    "import itertools as it\n",
    "import numpy as np\n",
    "from multiprocessing import Pool as ThreadPool\n",
    "import  Levenshtein\n",
    "from tqdm import tqdm_notebook as tqdm\n",
    "import pickle\n",
    "import gc\n",
    "import sys\n",
    "sys.path.append('../scripts')\n",
    "\n",
    "import ml_utils as utils\n",
    "reload(utils)"
   ]
  },
  {
   "cell_type": "code",
   "execution_count": 21,
   "metadata": {},
   "outputs": [
    {
     "data": {
      "text/plain": [
       "0.0"
      ]
     },
     "execution_count": 21,
     "metadata": {},
     "output_type": "execute_result"
    }
   ],
   "source": [
    "ks_2samp([1,2,3], [1,2,3]).statistic"
   ]
  },
  {
   "cell_type": "markdown",
   "metadata": {},
   "source": [
    "### Generate true mapping"
   ]
  },
  {
   "cell_type": "code",
   "execution_count": 170,
   "metadata": {},
   "outputs": [
    {
     "name": "stdout",
     "output_type": "stream",
     "text": [
      "          uid           uname          inst_name\n",
      "0   751026638       mrzelkin1     aleksej zelkin\n",
      "1     2744159         undruha  andrey gnelitskiy\n",
      "2  4157858483       vadimbhai     abhairov vadim\n",
      "3   389335890  superov_sergey     sergey superov\n",
      "4   199238507       smilychka       nastja gogol\n",
      "      uid           uname          vk_name\n",
      "0    5394       mrzelkin1    alexey zelkin\n",
      "1   22884         undruha  andre undrukhov\n",
      "2   23754       vadimbhai    vadim reutsky\n",
      "3   89831  superov_sergey   sergey superov\n",
      "4  103177       smilychka     nastya gogol\n"
     ]
    },
    {
     "data": {
      "text/plain": [
       "'true_mapping.csv'"
      ]
     },
     "execution_count": 170,
     "metadata": {},
     "output_type": "execute_result"
    }
   ],
   "source": [
    "utils.generate_true_mapping(from_raw=False)"
   ]
  },
  {
   "cell_type": "markdown",
   "metadata": {
    "collapsed": true
   },
   "source": [
    "### Generate 2 step test data (data/generate/test2_predicted.pickle)"
   ]
  },
  {
   "cell_type": "code",
   "execution_count": 3,
   "metadata": {},
   "outputs": [
    {
     "name": "stdout",
     "output_type": "stream",
     "text": [
      "(26460, 3) (3000, 3) (16993, 3)\n",
      "(24859, 3) (3000, 3) (16913, 3)\n"
     ]
    },
    {
     "data": {
      "text/html": [
       "<div>\n",
       "<style>\n",
       "    .dataframe thead tr:only-child th {\n",
       "        text-align: right;\n",
       "    }\n",
       "\n",
       "    .dataframe thead th {\n",
       "        text-align: left;\n",
       "    }\n",
       "\n",
       "    .dataframe tbody tr th {\n",
       "        vertical-align: top;\n",
       "    }\n",
       "</style>\n",
       "<table border=\"1\" class=\"dataframe\">\n",
       "  <thead>\n",
       "    <tr style=\"text-align: right;\">\n",
       "      <th></th>\n",
       "      <th>uid</th>\n",
       "      <th>uname</th>\n",
       "      <th>vk_name</th>\n",
       "    </tr>\n",
       "  </thead>\n",
       "  <tbody>\n",
       "    <tr>\n",
       "      <th>3723</th>\n",
       "      <td>48515973</td>\n",
       "      <td>gzalyaleeva</td>\n",
       "      <td>guzel zalyaleeva</td>\n",
       "    </tr>\n",
       "    <tr>\n",
       "      <th>3725</th>\n",
       "      <td>48537029</td>\n",
       "      <td>lisa.svit</td>\n",
       "      <td>alisa mukhametova</td>\n",
       "    </tr>\n",
       "    <tr>\n",
       "      <th>3726</th>\n",
       "      <td>48558965</td>\n",
       "      <td>fatkulik</td>\n",
       "      <td>evgenia fatkullina</td>\n",
       "    </tr>\n",
       "    <tr>\n",
       "      <th>3728</th>\n",
       "      <td>48588961</td>\n",
       "      <td>anastation_12</td>\n",
       "      <td>anastasia beloborodova</td>\n",
       "    </tr>\n",
       "    <tr>\n",
       "      <th>3729</th>\n",
       "      <td>48648949</td>\n",
       "      <td>vitya_siraev</td>\n",
       "      <td>vitya siraev</td>\n",
       "    </tr>\n",
       "  </tbody>\n",
       "</table>\n",
       "</div>"
      ],
      "text/plain": [
       "           uid          uname                 vk_name\n",
       "3723  48515973    gzalyaleeva        guzel zalyaleeva\n",
       "3725  48537029      lisa.svit       alisa mukhametova\n",
       "3726  48558965       fatkulik      evgenia fatkullina\n",
       "3728  48588961  anastation_12  anastasia beloborodova\n",
       "3729  48648949   vitya_siraev            vitya siraev"
      ]
     },
     "execution_count": 3,
     "metadata": {},
     "output_type": "execute_result"
    }
   ],
   "source": [
    "vk_1step, vk_others = utils.get_df_1step_and_others(suffix_name='vk')\n",
    "inst_1step, inst_others = utils.get_df_1step_and_others(suffix_name='inst')\n",
    "vk_others.head()"
   ]
  },
  {
   "cell_type": "code",
   "execution_count": 17,
   "metadata": {},
   "outputs": [],
   "source": [
    "g1_fname = 'vk_lid_rid.csv'\n",
    "g2_fname = 'inst_lid_rid.csv'\n",
    "G1 = utils.read_g(g1_fname)\n",
    "G2 = utils.read_g(g2_fname)"
   ]
  },
  {
   "cell_type": "code",
   "execution_count": 33,
   "metadata": {
    "scrolled": true
   },
   "outputs": [
    {
     "name": "stdout",
     "output_type": "stream",
     "text": [
      "Start 0\n"
     ]
    },
    {
     "data": {
      "application/vnd.jupyter.widget-view+json": {
       "model_id": "331d9b1be8e74679a5739373d507271d",
       "version_major": 2,
       "version_minor": 0
      },
      "text/html": [
       "<p>Failed to display Jupyter Widget of type <code>HBox</code>.</p>\n",
       "<p>\n",
       "  If you're reading this message in Jupyter Notebook or JupyterLab, it may mean\n",
       "  that the widgets JavaScript is still loading. If this message persists, it\n",
       "  likely means that the widgets JavaScript library is either not installed or\n",
       "  not enabled. See the <a href=\"https://ipywidgets.readthedocs.io/en/stable/user_install.html\">Jupyter\n",
       "  Widgets Documentation</a> for setup instructions.\n",
       "</p>\n",
       "<p>\n",
       "  If you're reading this message in another notebook frontend (for example, a static\n",
       "  rendering on GitHub or <a href=\"https://nbviewer.jupyter.org/\">NBViewer</a>),\n",
       "  it may mean that your frontend doesn't currently support widgets.\n",
       "</p>\n"
      ],
      "text/plain": [
       "HBox(children=(IntProgress(value=0, max=2832), HTML(value='')))"
      ]
     },
     "metadata": {},
     "output_type": "display_data"
    },
    {
     "name": "stdout",
     "output_type": "stream",
     "text": [
      "Start 1\n"
     ]
    },
    {
     "data": {
      "application/vnd.jupyter.widget-view+json": {
       "model_id": "f947c0986d95411b906edc8ffd97163e",
       "version_major": 2,
       "version_minor": 0
      },
      "text/html": [
       "<p>Failed to display Jupyter Widget of type <code>HBox</code>.</p>\n",
       "<p>\n",
       "  If you're reading this message in Jupyter Notebook or JupyterLab, it may mean\n",
       "  that the widgets JavaScript is still loading. If this message persists, it\n",
       "  likely means that the widgets JavaScript library is either not installed or\n",
       "  not enabled. See the <a href=\"https://ipywidgets.readthedocs.io/en/stable/user_install.html\">Jupyter\n",
       "  Widgets Documentation</a> for setup instructions.\n",
       "</p>\n",
       "<p>\n",
       "  If you're reading this message in another notebook frontend (for example, a static\n",
       "  rendering on GitHub or <a href=\"https://nbviewer.jupyter.org/\">NBViewer</a>),\n",
       "  it may mean that your frontend doesn't currently support widgets.\n",
       "</p>\n"
      ],
      "text/plain": [
       "HBox(children=(IntProgress(value=0, max=2832), HTML(value='')))"
      ]
     },
     "metadata": {},
     "output_type": "display_data"
    },
    {
     "name": "stdout",
     "output_type": "stream",
     "text": [
      "Start 2\n"
     ]
    },
    {
     "data": {
      "application/vnd.jupyter.widget-view+json": {
       "model_id": "2e6d977ee34c4f1390b63b0ca7c41e61",
       "version_major": 2,
       "version_minor": 0
      },
      "text/html": [
       "<p>Failed to display Jupyter Widget of type <code>HBox</code>.</p>\n",
       "<p>\n",
       "  If you're reading this message in Jupyter Notebook or JupyterLab, it may mean\n",
       "  that the widgets JavaScript is still loading. If this message persists, it\n",
       "  likely means that the widgets JavaScript library is either not installed or\n",
       "  not enabled. See the <a href=\"https://ipywidgets.readthedocs.io/en/stable/user_install.html\">Jupyter\n",
       "  Widgets Documentation</a> for setup instructions.\n",
       "</p>\n",
       "<p>\n",
       "  If you're reading this message in another notebook frontend (for example, a static\n",
       "  rendering on GitHub or <a href=\"https://nbviewer.jupyter.org/\">NBViewer</a>),\n",
       "  it may mean that your frontend doesn't currently support widgets.\n",
       "</p>\n"
      ],
      "text/plain": [
       "HBox(children=(IntProgress(value=0, max=2832), HTML(value='')))"
      ]
     },
     "metadata": {},
     "output_type": "display_data"
    },
    {
     "name": "stdout",
     "output_type": "stream",
     "text": [
      "Start 3\n"
     ]
    },
    {
     "data": {
      "application/vnd.jupyter.widget-view+json": {
       "model_id": "c1b9ae250b6343f885d68b533ed66f88",
       "version_major": 2,
       "version_minor": 0
      },
      "text/html": [
       "<p>Failed to display Jupyter Widget of type <code>HBox</code>.</p>\n",
       "<p>\n",
       "  If you're reading this message in Jupyter Notebook or JupyterLab, it may mean\n",
       "  that the widgets JavaScript is still loading. If this message persists, it\n",
       "  likely means that the widgets JavaScript library is either not installed or\n",
       "  not enabled. See the <a href=\"https://ipywidgets.readthedocs.io/en/stable/user_install.html\">Jupyter\n",
       "  Widgets Documentation</a> for setup instructions.\n",
       "</p>\n",
       "<p>\n",
       "  If you're reading this message in another notebook frontend (for example, a static\n",
       "  rendering on GitHub or <a href=\"https://nbviewer.jupyter.org/\">NBViewer</a>),\n",
       "  it may mean that your frontend doesn't currently support widgets.\n",
       "</p>\n"
      ],
      "text/plain": [
       "HBox(children=(IntProgress(value=0, max=2832), HTML(value='')))"
      ]
     },
     "metadata": {},
     "output_type": "display_data"
    },
    {
     "name": "stdout",
     "output_type": "stream",
     "text": [
      "Start 4\n"
     ]
    },
    {
     "data": {
      "application/vnd.jupyter.widget-view+json": {
       "model_id": "3d75457c1ca04d399457d05cc2a62458",
       "version_major": 2,
       "version_minor": 0
      },
      "text/html": [
       "<p>Failed to display Jupyter Widget of type <code>HBox</code>.</p>\n",
       "<p>\n",
       "  If you're reading this message in Jupyter Notebook or JupyterLab, it may mean\n",
       "  that the widgets JavaScript is still loading. If this message persists, it\n",
       "  likely means that the widgets JavaScript library is either not installed or\n",
       "  not enabled. See the <a href=\"https://ipywidgets.readthedocs.io/en/stable/user_install.html\">Jupyter\n",
       "  Widgets Documentation</a> for setup instructions.\n",
       "</p>\n",
       "<p>\n",
       "  If you're reading this message in another notebook frontend (for example, a static\n",
       "  rendering on GitHub or <a href=\"https://nbviewer.jupyter.org/\">NBViewer</a>),\n",
       "  it may mean that your frontend doesn't currently support widgets.\n",
       "</p>\n"
      ],
      "text/plain": [
       "HBox(children=(IntProgress(value=0, max=2832), HTML(value='')))"
      ]
     },
     "metadata": {},
     "output_type": "display_data"
    },
    {
     "name": "stdout",
     "output_type": "stream",
     "text": [
      "Start 5\n"
     ]
    },
    {
     "data": {
      "application/vnd.jupyter.widget-view+json": {
       "model_id": "f390abc8a1e94d2a918f262862164826",
       "version_major": 2,
       "version_minor": 0
      },
      "text/html": [
       "<p>Failed to display Jupyter Widget of type <code>HBox</code>.</p>\n",
       "<p>\n",
       "  If you're reading this message in Jupyter Notebook or JupyterLab, it may mean\n",
       "  that the widgets JavaScript is still loading. If this message persists, it\n",
       "  likely means that the widgets JavaScript library is either not installed or\n",
       "  not enabled. See the <a href=\"https://ipywidgets.readthedocs.io/en/stable/user_install.html\">Jupyter\n",
       "  Widgets Documentation</a> for setup instructions.\n",
       "</p>\n",
       "<p>\n",
       "  If you're reading this message in another notebook frontend (for example, a static\n",
       "  rendering on GitHub or <a href=\"https://nbviewer.jupyter.org/\">NBViewer</a>),\n",
       "  it may mean that your frontend doesn't currently support widgets.\n",
       "</p>\n"
      ],
      "text/plain": [
       "HBox(children=(IntProgress(value=0, max=2833), HTML(value='')))"
      ]
     },
     "metadata": {},
     "output_type": "display_data"
    },
    {
     "name": "stdout",
     "output_type": "stream",
     "text": [
      "\n",
      "Thread 1 True = 315 False = 308 Total = 624 precision = 0.5048076923076923\n",
      "\n",
      "Thread 0 True = 412 False = 347 Total = 760 precision = 0.5421052631578948\n",
      "\n",
      "Thread 5 True = 289 False = 600 Total = 890 precision = 0.32471910112359553\n",
      "\n",
      "Thread 2 True = 441 False = 501 Total = 943 precision = 0.4676564156945917\n",
      "\n",
      "Thread 3 True = 404 False = 572 Total = 977 precision = 0.413510747185261\n",
      "\n",
      "Thread 4 True = 445 False = 526 Total = 972 precision = 0.45781893004115226\n",
      "0 true count 412\n",
      "1 true count 315\n",
      "2 true count 441\n",
      "3 true count 404\n",
      "4 true count 445\n",
      "5 true count 289\n"
     ]
    },
    {
     "data": {
      "text/plain": [
       "98"
      ]
     },
     "execution_count": 33,
     "metadata": {},
     "output_type": "execute_result"
    }
   ],
   "source": [
    "results, lid_rid = ml_iteration(vk_others, inst_others, forest, G1, G2, \n",
    "                    name_sim_threshold, threads = 6)"
   ]
  },
  {
   "cell_type": "code",
   "execution_count": 98,
   "metadata": {},
   "outputs": [
    {
     "data": {
      "application/vnd.jupyter.widget-view+json": {
       "model_id": "753892f4e99a42959481c8807134f51e",
       "version_major": 2,
       "version_minor": 0
      },
      "text/html": [
       "<p>Failed to display Jupyter Widget of type <code>HBox</code>.</p>\n",
       "<p>\n",
       "  If you're reading this message in Jupyter Notebook or JupyterLab, it may mean\n",
       "  that the widgets JavaScript is still loading. If this message persists, it\n",
       "  likely means that the widgets JavaScript library is either not installed or\n",
       "  not enabled. See the <a href=\"https://ipywidgets.readthedocs.io/en/stable/user_install.html\">Jupyter\n",
       "  Widgets Documentation</a> for setup instructions.\n",
       "</p>\n",
       "<p>\n",
       "  If you're reading this message in another notebook frontend (for example, a static\n",
       "  rendering on GitHub or <a href=\"https://nbviewer.jupyter.org/\">NBViewer</a>),\n",
       "  it may mean that your frontend doesn't currently support widgets.\n",
       "</p>\n"
      ],
      "text/plain": [
       "HBox(children=(IntProgress(value=0, max=2156), HTML(value='')))"
      ]
     },
     "metadata": {},
     "output_type": "display_data"
    },
    {
     "name": "stdout",
     "output_type": "stream",
     "text": [
      "\n"
     ]
    }
   ],
   "source": [
    "utils.gen_train_data_2step(results, G1, G2)"
   ]
  },
  {
   "cell_type": "code",
   "execution_count": 15,
   "metadata": {},
   "outputs": [],
   "source": [
    "model2 = utils.retrain_model_step2(model = forest,\n",
    "            step1_fname = 'step1_data.pickle', step2_fname='step2_data.pickle')"
   ]
  },
  {
   "cell_type": "code",
   "execution_count": 105,
   "metadata": {},
   "outputs": [],
   "source": [
    "matched_1step, _ = utils.get_df_1step_and_others(count_1step=3300)"
   ]
  },
  {
   "cell_type": "markdown",
   "metadata": {},
   "source": [
    "### Generate 3 step test data (data/generate/test3_data.pickle)"
   ]
  },
  {
   "cell_type": "code",
   "execution_count": null,
   "metadata": {},
   "outputs": [],
   "source": [
    "def prepare_data_for_threads(df_l, df_r, model, G1, G2, threads, name_sim_threshold = None):\n",
    "    data = []\n",
    "\n",
    "    thr_size = len(df_l) // threads\n",
    "    for i in range(threads):\n",
    "        s = i * thr_size\n",
    "        e = i * thr_size + thr_size\n",
    "        d = {\n",
    "            'thread_num': i,\n",
    "            'vals_l': df_l[s:e] if i + 1 < threads else df_l[s:],\n",
    "            'vals_r': df_r,\n",
    "            'model': model,\n",
    "            'G1': G1,\n",
    "            'G2': G2,\n",
    "        }\n",
    "        if name_sim_threshold:\n",
    "            d['name_sim_threshold'] =  name_sim_threshold\n",
    "        data.append(d)\n",
    "    return datareshape((1, -1)"
   ]
  },
  {
   "cell_type": "code",
   "execution_count": 175,
   "metadata": {},
   "outputs": [
    {
     "name": "stdout",
     "output_type": "stream",
     "text": [
      "Start 0\n"
     ]
    },
    {
     "data": {
      "application/vnd.jupyter.widget-view+json": {
       "model_id": "d924cbcae5c34cbe886b3232f75f379b",
       "version_major": 2,
       "version_minor": 0
      },
      "text/html": [
       "<p>Failed to display Jupyter Widget of type <code>HBox</code>.</p>\n",
       "<p>\n",
       "  If you're reading this message in Jupyter Notebook or JupyterLab, it may mean\n",
       "  that the widgets JavaScript is still loading. If this message persists, it\n",
       "  likely means that the widgets JavaScript library is either not installed or\n",
       "  not enabled. See the <a href=\"https://ipywidgets.readthedocs.io/en/stable/user_install.html\">Jupyter\n",
       "  Widgets Documentation</a> for setup instructions.\n",
       "</p>\n",
       "<p>\n",
       "  If you're reading this message in another notebook frontend (for example, a static\n",
       "  rendering on GitHub or <a href=\"https://nbviewer.jupyter.org/\">NBViewer</a>),\n",
       "  it may mean that your frontend doesn't currently support widgets.\n",
       "</p>\n"
      ],
      "text/plain": [
       "HBox(children=(IntProgress(value=0, max=4528), HTML(value='')))"
      ]
     },
     "metadata": {},
     "output_type": "display_data"
    },
    {
     "data": {
      "application/vnd.jupyter.widget-view+json": {
       "model_id": "0ffe89df308448bb8f9ca2bcfd7f1224",
       "version_major": 2,
       "version_minor": 0
      },
      "text/html": [
       "<p>Failed to display Jupyter Widget of type <code>HBox</code>.</p>\n",
       "<p>\n",
       "  If you're reading this message in Jupyter Notebook or JupyterLab, it may mean\n",
       "  that the widgets JavaScript is still loading. If this message persists, it\n",
       "  likely means that the widgets JavaScript library is either not installed or\n",
       "  not enabled. See the <a href=\"https://ipywidgets.readthedocs.io/en/stable/user_install.html\">Jupyter\n",
       "  Widgets Documentation</a> for setup instructions.\n",
       "</p>\n",
       "<p>\n",
       "  If you're reading this message in another notebook frontend (for example, a static\n",
       "  rendering on GitHub or <a href=\"https://nbviewer.jupyter.org/\">NBViewer</a>),\n",
       "  it may mean that your frontend doesn't currently support widgets.\n",
       "</p>\n"
      ],
      "text/plain": [
       "HBox(children=(IntProgress(value=0, max=18638), HTML(value='')))"
      ]
     },
     "metadata": {},
     "output_type": "display_data"
    },
    {
     "name": "stdout",
     "output_type": "stream",
     "text": [
      "Start 1\n"
     ]
    },
    {
     "data": {
      "application/vnd.jupyter.widget-view+json": {
       "model_id": "829abc260e854013b3221c6291c94ed2",
       "version_major": 2,
       "version_minor": 0
      },
      "text/html": [
       "<p>Failed to display Jupyter Widget of type <code>HBox</code>.</p>\n",
       "<p>\n",
       "  If you're reading this message in Jupyter Notebook or JupyterLab, it may mean\n",
       "  that the widgets JavaScript is still loading. If this message persists, it\n",
       "  likely means that the widgets JavaScript library is either not installed or\n",
       "  not enabled. See the <a href=\"https://ipywidgets.readthedocs.io/en/stable/user_install.html\">Jupyter\n",
       "  Widgets Documentation</a> for setup instructions.\n",
       "</p>\n",
       "<p>\n",
       "  If you're reading this message in another notebook frontend (for example, a static\n",
       "  rendering on GitHub or <a href=\"https://nbviewer.jupyter.org/\">NBViewer</a>),\n",
       "  it may mean that your frontend doesn't currently support widgets.\n",
       "</p>\n"
      ],
      "text/plain": [
       "HBox(children=(IntProgress(value=0, max=4528), HTML(value='')))"
      ]
     },
     "metadata": {},
     "output_type": "display_data"
    },
    {
     "data": {
      "application/vnd.jupyter.widget-view+json": {
       "model_id": "3d9e9cf5a748465f80b404ebed4e882e",
       "version_major": 2,
       "version_minor": 0
      },
      "text/html": [
       "<p>Failed to display Jupyter Widget of type <code>HBox</code>.</p>\n",
       "<p>\n",
       "  If you're reading this message in Jupyter Notebook or JupyterLab, it may mean\n",
       "  that the widgets JavaScript is still loading. If this message persists, it\n",
       "  likely means that the widgets JavaScript library is either not installed or\n",
       "  not enabled. See the <a href=\"https://ipywidgets.readthedocs.io/en/stable/user_install.html\">Jupyter\n",
       "  Widgets Documentation</a> for setup instructions.\n",
       "</p>\n",
       "<p>\n",
       "  If you're reading this message in another notebook frontend (for example, a static\n",
       "  rendering on GitHub or <a href=\"https://nbviewer.jupyter.org/\">NBViewer</a>),\n",
       "  it may mean that your frontend doesn't currently support widgets.\n",
       "</p>\n"
      ],
      "text/plain": [
       "HBox(children=(IntProgress(value=0, max=18638), HTML(value='')))"
      ]
     },
     "metadata": {},
     "output_type": "display_data"
    },
    {
     "name": "stdout",
     "output_type": "stream",
     "text": [
      "Start 2\n"
     ]
    },
    {
     "data": {
      "application/vnd.jupyter.widget-view+json": {
       "model_id": "38a1f79beb724abca4048e58fd8e5ae5",
       "version_major": 2,
       "version_minor": 0
      },
      "text/html": [
       "<p>Failed to display Jupyter Widget of type <code>HBox</code>.</p>\n",
       "<p>\n",
       "  If you're reading this message in Jupyter Notebook or JupyterLab, it may mean\n",
       "  that the widgets JavaScript is still loading. If this message persists, it\n",
       "  likely means that the widgets JavaScript library is either not installed or\n",
       "  not enabled. See the <a href=\"https://ipywidgets.readthedocs.io/en/stable/user_install.html\">Jupyter\n",
       "  Widgets Documentation</a> for setup instructions.\n",
       "</p>\n",
       "<p>\n",
       "  If you're reading this message in another notebook frontend (for example, a static\n",
       "  rendering on GitHub or <a href=\"https://nbviewer.jupyter.org/\">NBViewer</a>),\n",
       "  it may mean that your frontend doesn't currently support widgets.\n",
       "</p>\n"
      ],
      "text/plain": [
       "HBox(children=(IntProgress(value=0, max=4528), HTML(value='')))"
      ]
     },
     "metadata": {},
     "output_type": "display_data"
    },
    {
     "data": {
      "application/vnd.jupyter.widget-view+json": {
       "model_id": "40a4dfa44189476cb3e4ea41e7fc90ee",
       "version_major": 2,
       "version_minor": 0
      },
      "text/html": [
       "<p>Failed to display Jupyter Widget of type <code>HBox</code>.</p>\n",
       "<p>\n",
       "  If you're reading this message in Jupyter Notebook or JupyterLab, it may mean\n",
       "  that the widgets JavaScript is still loading. If this message persists, it\n",
       "  likely means that the widgets JavaScript library is either not installed or\n",
       "  not enabled. See the <a href=\"https://ipywidgets.readthedocs.io/en/stable/user_install.html\">Jupyter\n",
       "  Widgets Documentation</a> for setup instructions.\n",
       "</p>\n",
       "<p>\n",
       "  If you're reading this message in another notebook frontend (for example, a static\n",
       "  rendering on GitHub or <a href=\"https://nbviewer.jupyter.org/\">NBViewer</a>),\n",
       "  it may mean that your frontend doesn't currently support widgets.\n",
       "</p>\n"
      ],
      "text/plain": [
       "HBox(children=(IntProgress(value=0, max=18638), HTML(value='')))"
      ]
     },
     "metadata": {},
     "output_type": "display_data"
    },
    {
     "name": "stdout",
     "output_type": "stream",
     "text": [
      "Start 3\n"
     ]
    },
    {
     "data": {
      "application/vnd.jupyter.widget-view+json": {
       "model_id": "d5142276223f44f3b13d643794e0bc7e",
       "version_major": 2,
       "version_minor": 0
      },
      "text/html": [
       "<p>Failed to display Jupyter Widget of type <code>HBox</code>.</p>\n",
       "<p>\n",
       "  If you're reading this message in Jupyter Notebook or JupyterLab, it may mean\n",
       "  that the widgets JavaScript is still loading. If this message persists, it\n",
       "  likely means that the widgets JavaScript library is either not installed or\n",
       "  not enabled. See the <a href=\"https://ipywidgets.readthedocs.io/en/stable/user_install.html\">Jupyter\n",
       "  Widgets Documentation</a> for setup instructions.\n",
       "</p>\n",
       "<p>\n",
       "  If you're reading this message in another notebook frontend (for example, a static\n",
       "  rendering on GitHub or <a href=\"https://nbviewer.jupyter.org/\">NBViewer</a>),\n",
       "  it may mean that your frontend doesn't currently support widgets.\n",
       "</p>\n"
      ],
      "text/plain": [
       "HBox(children=(IntProgress(value=0, max=4528), HTML(value='')))"
      ]
     },
     "metadata": {},
     "output_type": "display_data"
    },
    {
     "data": {
      "application/vnd.jupyter.widget-view+json": {
       "model_id": "01264d4303bc4137ab6a2d817baa147a",
       "version_major": 2,
       "version_minor": 0
      },
      "text/html": [
       "<p>Failed to display Jupyter Widget of type <code>HBox</code>.</p>\n",
       "<p>\n",
       "  If you're reading this message in Jupyter Notebook or JupyterLab, it may mean\n",
       "  that the widgets JavaScript is still loading. If this message persists, it\n",
       "  likely means that the widgets JavaScript library is either not installed or\n",
       "  not enabled. See the <a href=\"https://ipywidgets.readthedocs.io/en/stable/user_install.html\">Jupyter\n",
       "  Widgets Documentation</a> for setup instructions.\n",
       "</p>\n",
       "<p>\n",
       "  If you're reading this message in another notebook frontend (for example, a static\n",
       "  rendering on GitHub or <a href=\"https://nbviewer.jupyter.org/\">NBViewer</a>),\n",
       "  it may mean that your frontend doesn't currently support widgets.\n",
       "</p>\n"
      ],
      "text/plain": [
       "HBox(children=(IntProgress(value=0, max=18638), HTML(value='')))"
      ]
     },
     "metadata": {},
     "output_type": "display_data"
    },
    {
     "name": "stdout",
     "output_type": "stream",
     "text": [
      "Start 4\n"
     ]
    },
    {
     "data": {
      "application/vnd.jupyter.widget-view+json": {
       "model_id": "4eda455e280f473792ce29a5bcd3fd26",
       "version_major": 2,
       "version_minor": 0
      },
      "text/html": [
       "<p>Failed to display Jupyter Widget of type <code>HBox</code>.</p>\n",
       "<p>\n",
       "  If you're reading this message in Jupyter Notebook or JupyterLab, it may mean\n",
       "  that the widgets JavaScript is still loading. If this message persists, it\n",
       "  likely means that the widgets JavaScript library is either not installed or\n",
       "  not enabled. See the <a href=\"https://ipywidgets.readthedocs.io/en/stable/user_install.html\">Jupyter\n",
       "  Widgets Documentation</a> for setup instructions.\n",
       "</p>\n",
       "<p>\n",
       "  If you're reading this message in another notebook frontend (for example, a static\n",
       "  rendering on GitHub or <a href=\"https://nbviewer.jupyter.org/\">NBViewer</a>),\n",
       "  it may mean that your frontend doesn't currently support widgets.\n",
       "</p>\n"
      ],
      "text/plain": [
       "HBox(children=(IntProgress(value=0, max=4532), HTML(value='')))"
      ]
     },
     "metadata": {},
     "output_type": "display_data"
    },
    {
     "data": {
      "application/vnd.jupyter.widget-view+json": {
       "model_id": "2c1579ab18904b2bb1c57a37caa10a73",
       "version_major": 2,
       "version_minor": 0
      },
      "text/html": [
       "<p>Failed to display Jupyter Widget of type <code>HBox</code>.</p>\n",
       "<p>\n",
       "  If you're reading this message in Jupyter Notebook or JupyterLab, it may mean\n",
       "  that the widgets JavaScript is still loading. If this message persists, it\n",
       "  likely means that the widgets JavaScript library is either not installed or\n",
       "  not enabled. See the <a href=\"https://ipywidgets.readthedocs.io/en/stable/user_install.html\">Jupyter\n",
       "  Widgets Documentation</a> for setup instructions.\n",
       "</p>\n",
       "<p>\n",
       "  If you're reading this message in another notebook frontend (for example, a static\n",
       "  rendering on GitHub or <a href=\"https://nbviewer.jupyter.org/\">NBViewer</a>),\n",
       "  it may mean that your frontend doesn't currently support widgets.\n",
       "</p>\n"
      ],
      "text/plain": [
       "HBox(children=(IntProgress(value=0, max=18638), HTML(value='')))"
      ]
     },
     "metadata": {},
     "output_type": "display_data"
    },
    {
     "name": "stdout",
     "output_type": "stream",
     "text": [
      "\n",
      "\n",
      "\n"
     ]
    },
    {
     "name": "stderr",
     "output_type": "stream",
     "text": [
      "Process ForkPoolWorker-100:\n",
      "Process ForkPoolWorker-101:\n",
      "Process ForkPoolWorker-102:\n",
      "Traceback (most recent call last):\n",
      "  File \"/home/ildar/anaconda3/envs/ds/lib/python3.6/multiprocessing/process.py\", line 249, in _bootstrap\n",
      "    self.run()\n",
      "Traceback (most recent call last):\n",
      "  File \"/home/ildar/anaconda3/envs/ds/lib/python3.6/multiprocessing/process.py\", line 93, in run\n",
      "    self._target(*self._args, **self._kwargs)\n",
      "  File \"/home/ildar/anaconda3/envs/ds/lib/python3.6/multiprocessing/process.py\", line 249, in _bootstrap\n",
      "    self.run()\n",
      "  File \"/home/ildar/anaconda3/envs/ds/lib/python3.6/multiprocessing/pool.py\", line 119, in worker\n",
      "    result = (True, func(*args, **kwds))\n",
      "  File \"/home/ildar/anaconda3/envs/ds/lib/python3.6/multiprocessing/pool.py\", line 44, in mapstar\n",
      "    return list(map(*args))\n",
      "  File \"/home/ildar/anaconda3/envs/ds/lib/python3.6/multiprocessing/process.py\", line 93, in run\n",
      "    self._target(*self._args, **self._kwargs)\n",
      "  File \"<ipython-input-175-03d90f68b960>\", line 19, in collect_true\n",
      "    if model.predict(x) == 1:\n",
      "Traceback (most recent call last):\n",
      "  File \"/home/ildar/anaconda3/envs/ds/lib/python3.6/multiprocessing/pool.py\", line 119, in worker\n",
      "    result = (True, func(*args, **kwds))\n",
      "  File \"/home/ildar/anaconda3/envs/ds/lib/python3.6/site-packages/sklearn/ensemble/forest.py\", line 536, in predict\n",
      "    proba = self.predict_proba(X)\n",
      "  File \"/home/ildar/anaconda3/envs/ds/lib/python3.6/multiprocessing/process.py\", line 249, in _bootstrap\n",
      "    self.run()\n",
      "  File \"/home/ildar/anaconda3/envs/ds/lib/python3.6/multiprocessing/pool.py\", line 44, in mapstar\n",
      "    return list(map(*args))\n",
      "  File \"/home/ildar/anaconda3/envs/ds/lib/python3.6/multiprocessing/process.py\", line 93, in run\n",
      "    self._target(*self._args, **self._kwargs)\n",
      "  File \"/home/ildar/anaconda3/envs/ds/lib/python3.6/site-packages/sklearn/ensemble/forest.py\", line 586, in predict_proba\n",
      "    for e in self.estimators_)\n",
      "  File \"/home/ildar/anaconda3/envs/ds/lib/python3.6/multiprocessing/pool.py\", line 119, in worker\n",
      "    result = (True, func(*args, **kwds))\n",
      "  File \"<ipython-input-175-03d90f68b960>\", line 19, in collect_true\n",
      "    if model.predict(x) == 1:\n",
      "  File \"/home/ildar/anaconda3/envs/ds/lib/python3.6/site-packages/sklearn/externals/joblib/parallel.py\", line 797, in __call__\n",
      "    self._terminate_backend()\n",
      "  File \"/home/ildar/anaconda3/envs/ds/lib/python3.6/multiprocessing/pool.py\", line 44, in mapstar\n",
      "    return list(map(*args))\n",
      "  File \"/home/ildar/anaconda3/envs/ds/lib/python3.6/site-packages/sklearn/ensemble/forest.py\", line 536, in predict\n",
      "    proba = self.predict_proba(X)\n",
      "  File \"/home/ildar/anaconda3/envs/ds/lib/python3.6/site-packages/sklearn/externals/joblib/parallel.py\", line 570, in _terminate_backend\n",
      "    self._backend.terminate()\n",
      "  File \"<ipython-input-175-03d90f68b960>\", line 19, in collect_true\n",
      "    if model.predict(x) == 1:\n",
      "  File \"/home/ildar/anaconda3/envs/ds/lib/python3.6/site-packages/sklearn/ensemble/forest.py\", line 586, in predict_proba\n",
      "    for e in self.estimators_)\n",
      "  File \"/home/ildar/anaconda3/envs/ds/lib/python3.6/site-packages/sklearn/externals/joblib/parallel.py\", line 797, in __call__\n",
      "    self._terminate_backend()\n",
      "  File \"/home/ildar/anaconda3/envs/ds/lib/python3.6/site-packages/sklearn/ensemble/forest.py\", line 536, in predict\n",
      "    proba = self.predict_proba(X)\n",
      "  File \"/home/ildar/anaconda3/envs/ds/lib/python3.6/site-packages/sklearn/ensemble/forest.py\", line 586, in predict_proba\n",
      "    for e in self.estimators_)\n",
      "  File \"/home/ildar/anaconda3/envs/ds/lib/python3.6/site-packages/sklearn/externals/joblib/parallel.py\", line 570, in _terminate_backend\n",
      "    self._backend.terminate()\n",
      "  File \"/home/ildar/anaconda3/envs/ds/lib/python3.6/site-packages/sklearn/externals/joblib/parallel.py\", line 797, in __call__\n",
      "    self._terminate_backend()\n",
      "  File \"/home/ildar/anaconda3/envs/ds/lib/python3.6/site-packages/sklearn/externals/joblib/_parallel_backends.py\", line 136, in terminate\n",
      "    self._pool.terminate()  # terminate does a join()\n",
      "  File \"/home/ildar/anaconda3/envs/ds/lib/python3.6/site-packages/sklearn/externals/joblib/_parallel_backends.py\", line 136, in terminate\n",
      "    self._pool.terminate()  # terminate does a join()\n",
      "  File \"/home/ildar/anaconda3/envs/ds/lib/python3.6/multiprocessing/pool.py\", line 541, in terminate\n",
      "    self._terminate()\n",
      "  File \"/home/ildar/anaconda3/envs/ds/lib/python3.6/multiprocessing/util.py\", line 186, in __call__\n",
      "    res = self._callback(*self._args, **self._kwargs)\n",
      "  File \"/home/ildar/anaconda3/envs/ds/lib/python3.6/site-packages/sklearn/externals/joblib/parallel.py\", line 570, in _terminate_backend\n",
      "    self._backend.terminate()\n",
      "  File \"/home/ildar/anaconda3/envs/ds/lib/python3.6/multiprocessing/pool.py\", line 541, in terminate\n",
      "    self._terminate()\n",
      "  File \"/home/ildar/anaconda3/envs/ds/lib/python3.6/multiprocessing/pool.py\", line 582, in _terminate_pool\n",
      "    worker_handler.join()\n",
      "  File \"/home/ildar/anaconda3/envs/ds/lib/python3.6/site-packages/sklearn/externals/joblib/_parallel_backends.py\", line 136, in terminate\n",
      "    self._pool.terminate()  # terminate does a join()\n",
      "  File \"/home/ildar/anaconda3/envs/ds/lib/python3.6/multiprocessing/util.py\", line 186, in __call__\n",
      "    res = self._callback(*self._args, **self._kwargs)\n",
      "  File \"/home/ildar/anaconda3/envs/ds/lib/python3.6/threading.py\", line 1056, in join\n",
      "    self._wait_for_tstate_lock()\n",
      "  File \"/home/ildar/anaconda3/envs/ds/lib/python3.6/multiprocessing/pool.py\", line 541, in terminate\n",
      "    self._terminate()\n",
      "  File \"/home/ildar/anaconda3/envs/ds/lib/python3.6/multiprocessing/pool.py\", line 582, in _terminate_pool\n",
      "    worker_handler.join()\n",
      "  File \"/home/ildar/anaconda3/envs/ds/lib/python3.6/threading.py\", line 1072, in _wait_for_tstate_lock\n",
      "    elif lock.acquire(block, timeout):\n",
      "  File \"/home/ildar/anaconda3/envs/ds/lib/python3.6/threading.py\", line 1056, in join\n",
      "    self._wait_for_tstate_lock()\n",
      "  File \"/home/ildar/anaconda3/envs/ds/lib/python3.6/multiprocessing/util.py\", line 186, in __call__\n",
      "    res = self._callback(*self._args, **self._kwargs)\n",
      "KeyboardInterrupt\n",
      "  File \"/home/ildar/anaconda3/envs/ds/lib/python3.6/threading.py\", line 1072, in _wait_for_tstate_lock\n",
      "    elif lock.acquire(block, timeout):\n",
      "KeyboardInterrupt\n",
      "  File \"/home/ildar/anaconda3/envs/ds/lib/python3.6/multiprocessing/pool.py\", line 582, in _terminate_pool\n",
      "    worker_handler.join()\n",
      "  File \"/home/ildar/anaconda3/envs/ds/lib/python3.6/threading.py\", line 1056, in join\n",
      "    self._wait_for_tstate_lock()\n",
      "  File \"/home/ildar/anaconda3/envs/ds/lib/python3.6/threading.py\", line 1072, in _wait_for_tstate_lock\n",
      "    elif lock.acquire(block, timeout):\n",
      "KeyboardInterrupt\n"
     ]
    },
    {
     "ename": "KeyboardInterrupt",
     "evalue": "",
     "output_type": "error",
     "traceback": [
      "\u001b[0;31m---------------------------------------------------------------------------\u001b[0m",
      "\u001b[0;31mKeyboardInterrupt\u001b[0m                         Traceback (most recent call last)",
      "\u001b[0;32m<ipython-input-175-03d90f68b960>\u001b[0m in \u001b[0;36m<module>\u001b[0;34m()\u001b[0m\n\u001b[1;32m     44\u001b[0m     \u001b[0;32mreturn\u001b[0m \u001b[0mresults\u001b[0m\u001b[0;34m\u001b[0m\u001b[0m\n\u001b[1;32m     45\u001b[0m \u001b[0;34m\u001b[0m\u001b[0m\n\u001b[0;32m---> 46\u001b[0;31m \u001b[0mget_test_3_step_palalel\u001b[0m\u001b[0;34m(\u001b[0m\u001b[0mmatched_1step\u001b[0m\u001b[0;34m,\u001b[0m \u001b[0mresults2\u001b[0m\u001b[0;34m,\u001b[0m \u001b[0mforest\u001b[0m\u001b[0;34m,\u001b[0m \u001b[0mG1\u001b[0m\u001b[0;34m,\u001b[0m \u001b[0mG2\u001b[0m\u001b[0;34m,\u001b[0m \u001b[0mthreads\u001b[0m\u001b[0;34m=\u001b[0m\u001b[0;36m5\u001b[0m\u001b[0;34m)\u001b[0m\u001b[0;34m\u001b[0m\u001b[0m\n\u001b[0m\u001b[1;32m     47\u001b[0m \u001b[0mgc\u001b[0m\u001b[0;34m.\u001b[0m\u001b[0mcollect\u001b[0m\u001b[0;34m(\u001b[0m\u001b[0;34m)\u001b[0m\u001b[0;34m\u001b[0m\u001b[0m\n",
      "\u001b[0;32m<ipython-input-175-03d90f68b960>\u001b[0m in \u001b[0;36mget_test_3_step_palalel\u001b[0;34m(true_1step, true_2step, model, G1, G2, threads)\u001b[0m\n\u001b[1;32m     35\u001b[0m     \u001b[0mdata\u001b[0m \u001b[0;34m=\u001b[0m \u001b[0mutils\u001b[0m\u001b[0;34m.\u001b[0m\u001b[0mprepare_data_for_threads\u001b[0m\u001b[0;34m(\u001b[0m\u001b[0mdf_l\u001b[0m\u001b[0;34m,\u001b[0m \u001b[0mdf_r\u001b[0m\u001b[0;34m,\u001b[0m \u001b[0mforest\u001b[0m\u001b[0;34m,\u001b[0m \u001b[0mG1\u001b[0m\u001b[0;34m,\u001b[0m \u001b[0mG2\u001b[0m\u001b[0;34m,\u001b[0m \u001b[0mthreads\u001b[0m\u001b[0;34m=\u001b[0m\u001b[0mthreads\u001b[0m\u001b[0;34m)\u001b[0m\u001b[0;34m\u001b[0m\u001b[0m\n\u001b[1;32m     36\u001b[0m     \u001b[0;32mwith\u001b[0m \u001b[0mThreadPool\u001b[0m\u001b[0;34m(\u001b[0m\u001b[0mthreads\u001b[0m\u001b[0;34m)\u001b[0m \u001b[0;32mas\u001b[0m \u001b[0mpool\u001b[0m\u001b[0;34m:\u001b[0m\u001b[0;34m\u001b[0m\u001b[0m\n\u001b[0;32m---> 37\u001b[0;31m         \u001b[0mresults\u001b[0m \u001b[0;34m=\u001b[0m \u001b[0mpool\u001b[0m\u001b[0;34m.\u001b[0m\u001b[0mmap\u001b[0m\u001b[0;34m(\u001b[0m\u001b[0mcollect_true\u001b[0m\u001b[0;34m,\u001b[0m \u001b[0mdata\u001b[0m\u001b[0;34m)\u001b[0m\u001b[0;34m\u001b[0m\u001b[0m\n\u001b[0m\u001b[1;32m     38\u001b[0m     \u001b[0;36m439850\u001b[0m\u001b[0;34m\u001b[0m\u001b[0m\n\u001b[1;32m     39\u001b[0m     \u001b[0;32mfor\u001b[0m \u001b[0mi\u001b[0m\u001b[0;34m,\u001b[0m \u001b[0mres\u001b[0m \u001b[0;32min\u001b[0m \u001b[0menumerate\u001b[0m\u001b[0;34m(\u001b[0m\u001b[0mresults\u001b[0m\u001b[0;34m)\u001b[0m\u001b[0;34m:\u001b[0m\u001b[0;34m\u001b[0m\u001b[0m\n",
      "\u001b[0;32m~/anaconda3/envs/ds/lib/python3.6/multiprocessing/pool.py\u001b[0m in \u001b[0;36mmap\u001b[0;34m(self, func, iterable, chunksize)\u001b[0m\n\u001b[1;32m    264\u001b[0m         \u001b[0;32min\u001b[0m \u001b[0ma\u001b[0m \u001b[0mlist\u001b[0m \u001b[0mthat\u001b[0m \u001b[0;32mis\u001b[0m \u001b[0mreturned\u001b[0m\u001b[0;34m.\u001b[0m\u001b[0;34m\u001b[0m\u001b[0m\n\u001b[1;32m    265\u001b[0m         '''\n\u001b[0;32m--> 266\u001b[0;31m         \u001b[0;32mreturn\u001b[0m \u001b[0mself\u001b[0m\u001b[0;34m.\u001b[0m\u001b[0m_map_async\u001b[0m\u001b[0;34m(\u001b[0m\u001b[0mfunc\u001b[0m\u001b[0;34m,\u001b[0m \u001b[0miterable\u001b[0m\u001b[0;34m,\u001b[0m \u001b[0mmapstar\u001b[0m\u001b[0;34m,\u001b[0m \u001b[0mchunksize\u001b[0m\u001b[0;34m)\u001b[0m\u001b[0;34m.\u001b[0m\u001b[0mget\u001b[0m\u001b[0;34m(\u001b[0m\u001b[0;34m)\u001b[0m\u001b[0;34m\u001b[0m\u001b[0m\n\u001b[0m\u001b[1;32m    267\u001b[0m \u001b[0;34m\u001b[0m\u001b[0m\n\u001b[1;32m    268\u001b[0m     \u001b[0;32mdef\u001b[0m \u001b[0mstarmap\u001b[0m\u001b[0;34m(\u001b[0m\u001b[0mself\u001b[0m\u001b[0;34m,\u001b[0m \u001b[0mfunc\u001b[0m\u001b[0;34m,\u001b[0m \u001b[0miterable\u001b[0m\u001b[0;34m,\u001b[0m \u001b[0mchunksize\u001b[0m\u001b[0;34m=\u001b[0m\u001b[0;32mNone\u001b[0m\u001b[0;34m)\u001b[0m\u001b[0;34m:\u001b[0m\u001b[0;34m\u001b[0m\u001b[0m\n",
      "\u001b[0;32m~/anaconda3/envs/ds/lib/python3.6/multiprocessing/pool.py\u001b[0m in \u001b[0;36mget\u001b[0;34m(self, timeout)\u001b[0m\n\u001b[1;32m    636\u001b[0m \u001b[0;34m\u001b[0m\u001b[0m\n\u001b[1;32m    637\u001b[0m     \u001b[0;32mdef\u001b[0m \u001b[0mget\u001b[0m\u001b[0;34m(\u001b[0m\u001b[0mself\u001b[0m\u001b[0;34m,\u001b[0m \u001b[0mtimeout\u001b[0m\u001b[0;34m=\u001b[0m\u001b[0;32mNone\u001b[0m\u001b[0;34m)\u001b[0m\u001b[0;34m:\u001b[0m\u001b[0;34m\u001b[0m\u001b[0m\n\u001b[0;32m--> 638\u001b[0;31m         \u001b[0mself\u001b[0m\u001b[0;34m.\u001b[0m\u001b[0mwait\u001b[0m\u001b[0;34m(\u001b[0m\u001b[0mtimeout\u001b[0m\u001b[0;34m)\u001b[0m\u001b[0;34m\u001b[0m\u001b[0m\n\u001b[0m\u001b[1;32m    639\u001b[0m         \u001b[0;32mif\u001b[0m \u001b[0;32mnot\u001b[0m \u001b[0mself\u001b[0m\u001b[0;34m.\u001b[0m\u001b[0mready\u001b[0m\u001b[0;34m(\u001b[0m\u001b[0;34m)\u001b[0m\u001b[0;34m:\u001b[0m\u001b[0;34m\u001b[0m\u001b[0m\n\u001b[1;32m    640\u001b[0m             \u001b[0;32mraise\u001b[0m \u001b[0mTimeoutError\u001b[0m\u001b[0;34m\u001b[0m\u001b[0m\n",
      "\u001b[0;32m~/anaconda3/envs/ds/lib/python3.6/multiprocessing/pool.py\u001b[0m in \u001b[0;36mwait\u001b[0;34m(self, timeout)\u001b[0m\n\u001b[1;32m    633\u001b[0m \u001b[0;34m\u001b[0m\u001b[0m\n\u001b[1;32m    634\u001b[0m     \u001b[0;32mdef\u001b[0m \u001b[0mwait\u001b[0m\u001b[0;34m(\u001b[0m\u001b[0mself\u001b[0m\u001b[0;34m,\u001b[0m \u001b[0mtimeout\u001b[0m\u001b[0;34m=\u001b[0m\u001b[0;32mNone\u001b[0m\u001b[0;34m)\u001b[0m\u001b[0;34m:\u001b[0m\u001b[0;34m\u001b[0m\u001b[0m\n\u001b[0;32m--> 635\u001b[0;31m         \u001b[0mself\u001b[0m\u001b[0;34m.\u001b[0m\u001b[0m_event\u001b[0m\u001b[0;34m.\u001b[0m\u001b[0mwait\u001b[0m\u001b[0;34m(\u001b[0m\u001b[0mtimeout\u001b[0m\u001b[0;34m)\u001b[0m\u001b[0;34m\u001b[0m\u001b[0m\n\u001b[0m\u001b[1;32m    636\u001b[0m \u001b[0;34m\u001b[0m\u001b[0m\n\u001b[1;32m    637\u001b[0m     \u001b[0;32mdef\u001b[0m \u001b[0mget\u001b[0m\u001b[0;34m(\u001b[0m\u001b[0mself\u001b[0m\u001b[0;34m,\u001b[0m \u001b[0mtimeout\u001b[0m\u001b[0;34m=\u001b[0m\u001b[0;32mNone\u001b[0m\u001b[0;34m)\u001b[0m\u001b[0;34m:\u001b[0m\u001b[0;34m\u001b[0m\u001b[0m\n",
      "\u001b[0;32m~/anaconda3/envs/ds/lib/python3.6/threading.py\u001b[0m in \u001b[0;36mwait\u001b[0;34m(self, timeout)\u001b[0m\n\u001b[1;32m    549\u001b[0m             \u001b[0msignaled\u001b[0m \u001b[0;34m=\u001b[0m \u001b[0mself\u001b[0m\u001b[0;34m.\u001b[0m\u001b[0m_flag\u001b[0m\u001b[0;34m\u001b[0m\u001b[0m\n\u001b[1;32m    550\u001b[0m             \u001b[0;32mif\u001b[0m \u001b[0;32mnot\u001b[0m \u001b[0msignaled\u001b[0m\u001b[0;34m:\u001b[0m\u001b[0;34m\u001b[0m\u001b[0m\n\u001b[0;32m--> 551\u001b[0;31m                 \u001b[0msignaled\u001b[0m \u001b[0;34m=\u001b[0m \u001b[0mself\u001b[0m\u001b[0;34m.\u001b[0m\u001b[0m_cond\u001b[0m\u001b[0;34m.\u001b[0m\u001b[0mwait\u001b[0m\u001b[0;34m(\u001b[0m\u001b[0mtimeout\u001b[0m\u001b[0;34m)\u001b[0m\u001b[0;34m\u001b[0m\u001b[0m\n\u001b[0m\u001b[1;32m    552\u001b[0m             \u001b[0;32mreturn\u001b[0m \u001b[0msignaled\u001b[0m\u001b[0;34m\u001b[0m\u001b[0m\n\u001b[1;32m    553\u001b[0m \u001b[0;34m\u001b[0m\u001b[0m\n",
      "\u001b[0;32m~/anaconda3/envs/ds/lib/python3.6/threading.py\u001b[0m in \u001b[0;36mwait\u001b[0;34m(self, timeout)\u001b[0m\n\u001b[1;32m    293\u001b[0m         \u001b[0;32mtry\u001b[0m\u001b[0;34m:\u001b[0m    \u001b[0;31m# restore state no matter what (e.g., KeyboardInterrupt)\u001b[0m\u001b[0;34m\u001b[0m\u001b[0m\n\u001b[1;32m    294\u001b[0m             \u001b[0;32mif\u001b[0m \u001b[0mtimeout\u001b[0m \u001b[0;32mis\u001b[0m \u001b[0;32mNone\u001b[0m\u001b[0;34m:\u001b[0m\u001b[0;34m\u001b[0m\u001b[0m\n\u001b[0;32m--> 295\u001b[0;31m                 \u001b[0mwaiter\u001b[0m\u001b[0;34m.\u001b[0m\u001b[0macquire\u001b[0m\u001b[0;34m(\u001b[0m\u001b[0;34m)\u001b[0m\u001b[0;34m\u001b[0m\u001b[0m\n\u001b[0m\u001b[1;32m    296\u001b[0m                 \u001b[0mgotit\u001b[0m \u001b[0;34m=\u001b[0m \u001b[0;32mTrue\u001b[0m\u001b[0;34m\u001b[0m\u001b[0m\n\u001b[1;32m    297\u001b[0m             \u001b[0;32melse\u001b[0m\u001b[0;34m:\u001b[0m\u001b[0;34m\u001b[0m\u001b[0m\n",
      "\u001b[0;31mKeyboardInterrupt\u001b[0m: "
     ]
    }
   ],
   "source": [
    "reload(utils)\n",
    "\n",
    "def collect_true(data):\n",
    "    df_vals_l = data['vals_l']\n",
    "    df_vals_r = data['vals_r']\n",
    "    model = data['model']\n",
    "    G1 = data['G1']\n",
    "    G2 = data['G2']\n",
    "    thread_num = data['thread_num']\n",
    "\n",
    "    res_list = []\n",
    "    lev = Levenshtein\n",
    "    print('Start', thread_num)\n",
    "    true_count = 0\n",
    "    for row_l in tqdm(df_vals_l):\n",
    "        for row_r in tqdm(df_vals_r):\n",
    "#             ratio = lev.ratio(row_l[1], row_r[1])\n",
    "            x = np.array(utils.feature(G1, row_l, G2, row_r)).reshape((1, -1))\n",
    "            if model.predict(x) == 1:\n",
    "                true_count += 1\n",
    "                res_list.append((row_l, row_r)) # ratio\n",
    "    total_count = len(df_vals_l) * len(df_vals_r)\n",
    "    print('Thread', thread_num, 'True =', true_count, 'False =', total_count - true_count,\n",
    "          'Total =', total_count, 'True/Total =', true_count / total_count)\n",
    "    return res_list\n",
    "\n",
    "def get_test_3_step_palalel(true_1step, true_2step, model, G1, G2, threads=4):\n",
    "    \n",
    "    utils.f_set1s = dict(pickle.load(open(os.path.join(utils.folder_gen, 'features_G1.pickle'), \"rb\")))\n",
    "    utils.f_set2s = dict(pickle.load(open(os.path.join(utils.folder_gen, 'features_G2.pickle'), \"rb\")))\n",
    "    filter_g = lambda G, col_num: list(set(G.nodes()) - (set((x[col_num] for x in true_1step)) | \n",
    "                                                      set((x[col_num] for x in true_2step))))\n",
    "    df_l = filter_g(G1, 0)\n",
    "    df_r = filter_g(G2, 1)\n",
    "    data = utils.prepare_data_for_threads(df_l, df_r, forest, G1, G2, threads=threads)\n",
    "    with ThreadPool(threads) as pool:\n",
    "        results = pool.map(collect_true, data)\n",
    "    439850\n",
    "    for i, res in enumerate(results):\n",
    "        print(i, 'true count', len(res))\n",
    "    pickle.dump(results, open(os.path.join(utils.folder_gen, 'test3_predicted.pickle'), \"wb\"))\n",
    "    utils.f_set1s = dict()\n",
    "    utils.f_set2s = dict()\n",
    "    return results\n",
    "\n",
    "get_test_3_step_palalel(matched_1step, results2, forest, G1, G2, threads=5)\n",
    "gc.collect()"
   ]
  },
  {
   "cell_type": "markdown",
   "metadata": {},
   "source": [
    "### Name threshold 82"
   ]
  },
  {
   "cell_type": "code",
   "execution_count": 36,
   "metadata": {},
   "outputs": [
    {
     "name": "stdout",
     "output_type": "stream",
     "text": [
      "Start 0\n"
     ]
    },
    {
     "data": {
      "application/vnd.jupyter.widget-view+json": {
       "model_id": "39c71c2f661140ab849056b7ccf48246",
       "version_major": 2,
       "version_minor": 0
      },
      "text/html": [
       "<p>Failed to display Jupyter Widget of type <code>HBox</code>.</p>\n",
       "<p>\n",
       "  If you're reading this message in Jupyter Notebook or JupyterLab, it may mean\n",
       "  that the widgets JavaScript is still loading. If this message persists, it\n",
       "  likely means that the widgets JavaScript library is either not installed or\n",
       "  not enabled. See the <a href=\"https://ipywidgets.readthedocs.io/en/stable/user_install.html\">Jupyter\n",
       "  Widgets Documentation</a> for setup instructions.\n",
       "</p>\n",
       "<p>\n",
       "  If you're reading this message in another notebook frontend (for example, a static\n",
       "  rendering on GitHub or <a href=\"https://nbviewer.jupyter.org/\">NBViewer</a>),\n",
       "  it may mean that your frontend doesn't currently support widgets.\n",
       "</p>\n"
      ],
      "text/plain": [
       "HBox(children=(IntProgress(value=0, max=2472), HTML(value='')))"
      ]
     },
     "metadata": {},
     "output_type": "display_data"
    },
    {
     "name": "stdout",
     "output_type": "stream",
     "text": [
      "Start 1\n"
     ]
    },
    {
     "data": {
      "application/vnd.jupyter.widget-view+json": {
       "model_id": "d128e5744321473eb40dde0eaeb89148",
       "version_major": 2,
       "version_minor": 0
      },
      "text/html": [
       "<p>Failed to display Jupyter Widget of type <code>HBox</code>.</p>\n",
       "<p>\n",
       "  If you're reading this message in Jupyter Notebook or JupyterLab, it may mean\n",
       "  that the widgets JavaScript is still loading. If this message persists, it\n",
       "  likely means that the widgets JavaScript library is either not installed or\n",
       "  not enabled. See the <a href=\"https://ipywidgets.readthedocs.io/en/stable/user_install.html\">Jupyter\n",
       "  Widgets Documentation</a> for setup instructions.\n",
       "</p>\n",
       "<p>\n",
       "  If you're reading this message in another notebook frontend (for example, a static\n",
       "  rendering on GitHub or <a href=\"https://nbviewer.jupyter.org/\">NBViewer</a>),\n",
       "  it may mean that your frontend doesn't currently support widgets.\n",
       "</p>\n"
      ],
      "text/plain": [
       "HBox(children=(IntProgress(value=0, max=2472), HTML(value='')))"
      ]
     },
     "metadata": {},
     "output_type": "display_data"
    },
    {
     "name": "stdout",
     "output_type": "stream",
     "text": [
      "Start 2\n"
     ]
    },
    {
     "data": {
      "application/vnd.jupyter.widget-view+json": {
       "model_id": "95c2f4148e474ccdb7df0db29dd0ff59",
       "version_major": 2,
       "version_minor": 0
      },
      "text/html": [
       "<p>Failed to display Jupyter Widget of type <code>HBox</code>.</p>\n",
       "<p>\n",
       "  If you're reading this message in Jupyter Notebook or JupyterLab, it may mean\n",
       "  that the widgets JavaScript is still loading. If this message persists, it\n",
       "  likely means that the widgets JavaScript library is either not installed or\n",
       "  not enabled. See the <a href=\"https://ipywidgets.readthedocs.io/en/stable/user_install.html\">Jupyter\n",
       "  Widgets Documentation</a> for setup instructions.\n",
       "</p>\n",
       "<p>\n",
       "  If you're reading this message in another notebook frontend (for example, a static\n",
       "  rendering on GitHub or <a href=\"https://nbviewer.jupyter.org/\">NBViewer</a>),\n",
       "  it may mean that your frontend doesn't currently support widgets.\n",
       "</p>\n"
      ],
      "text/plain": [
       "HBox(children=(IntProgress(value=0, max=2472), HTML(value='')))"
      ]
     },
     "metadata": {},
     "output_type": "display_data"
    },
    {
     "name": "stdout",
     "output_type": "stream",
     "text": [
      "Start 3\n"
     ]
    },
    {
     "data": {
      "application/vnd.jupyter.widget-view+json": {
       "model_id": "a264413031b147878820818fe73b98a6",
       "version_major": 2,
       "version_minor": 0
      },
      "text/html": [
       "<p>Failed to display Jupyter Widget of type <code>HBox</code>.</p>\n",
       "<p>\n",
       "  If you're reading this message in Jupyter Notebook or JupyterLab, it may mean\n",
       "  that the widgets JavaScript is still loading. If this message persists, it\n",
       "  likely means that the widgets JavaScript library is either not installed or\n",
       "  not enabled. See the <a href=\"https://ipywidgets.readthedocs.io/en/stable/user_install.html\">Jupyter\n",
       "  Widgets Documentation</a> for setup instructions.\n",
       "</p>\n",
       "<p>\n",
       "  If you're reading this message in another notebook frontend (for example, a static\n",
       "  rendering on GitHub or <a href=\"https://nbviewer.jupyter.org/\">NBViewer</a>),\n",
       "  it may mean that your frontend doesn't currently support widgets.\n",
       "</p>\n"
      ],
      "text/plain": [
       "HBox(children=(IntProgress(value=0, max=2472), HTML(value='')))"
      ]
     },
     "metadata": {},
     "output_type": "display_data"
    },
    {
     "name": "stdout",
     "output_type": "stream",
     "text": [
      "Start 4\n"
     ]
    },
    {
     "data": {
      "application/vnd.jupyter.widget-view+json": {
       "model_id": "6a68ba08c5444d0d80927ec80c3f8444",
       "version_major": 2,
       "version_minor": 0
      },
      "text/html": [
       "<p>Failed to display Jupyter Widget of type <code>HBox</code>.</p>\n",
       "<p>\n",
       "  If you're reading this message in Jupyter Notebook or JupyterLab, it may mean\n",
       "  that the widgets JavaScript is still loading. If this message persists, it\n",
       "  likely means that the widgets JavaScript library is either not installed or\n",
       "  not enabled. See the <a href=\"https://ipywidgets.readthedocs.io/en/stable/user_install.html\">Jupyter\n",
       "  Widgets Documentation</a> for setup instructions.\n",
       "</p>\n",
       "<p>\n",
       "  If you're reading this message in another notebook frontend (for example, a static\n",
       "  rendering on GitHub or <a href=\"https://nbviewer.jupyter.org/\">NBViewer</a>),\n",
       "  it may mean that your frontend doesn't currently support widgets.\n",
       "</p>\n"
      ],
      "text/plain": [
       "HBox(children=(IntProgress(value=0, max=2472), HTML(value='')))"
      ]
     },
     "metadata": {},
     "output_type": "display_data"
    },
    {
     "name": "stdout",
     "output_type": "stream",
     "text": [
      "Start 5\n"
     ]
    },
    {
     "data": {
      "application/vnd.jupyter.widget-view+json": {
       "model_id": "eb3ccff8940d46988e5a29c439130210",
       "version_major": 2,
       "version_minor": 0
      },
      "text/html": [
       "<p>Failed to display Jupyter Widget of type <code>HBox</code>.</p>\n",
       "<p>\n",
       "  If you're reading this message in Jupyter Notebook or JupyterLab, it may mean\n",
       "  that the widgets JavaScript is still loading. If this message persists, it\n",
       "  likely means that the widgets JavaScript library is either not installed or\n",
       "  not enabled. See the <a href=\"https://ipywidgets.readthedocs.io/en/stable/user_install.html\">Jupyter\n",
       "  Widgets Documentation</a> for setup instructions.\n",
       "</p>\n",
       "<p>\n",
       "  If you're reading this message in another notebook frontend (for example, a static\n",
       "  rendering on GitHub or <a href=\"https://nbviewer.jupyter.org/\">NBViewer</a>),\n",
       "  it may mean that your frontend doesn't currently support widgets.\n",
       "</p>\n"
      ],
      "text/plain": [
       "HBox(children=(IntProgress(value=0, max=2477), HTML(value='')))"
      ]
     },
     "metadata": {},
     "output_type": "display_data"
    },
    {
     "name": "stdout",
     "output_type": "stream",
     "text": [
      "\n",
      "Thread 1 True = 503 False = 1729 Total = 2233 True/Total = 0.22525750111957007\n",
      "\n",
      "Thread 0 True = 488 False = 1749 Total = 2238 True/Total = 0.21805183199285075\n",
      "\n",
      "Thread 2 True = 409 False = 1691 Total = 2101 True/Total = 0.19466920514040933\n",
      "\n",
      "Thread 5 True = 299 False = 1871 Total = 2171 True/Total = 0.1377245508982036\n",
      "\n",
      "Thread 4 True = 465 False = 1786 Total = 2252 True/Total = 0.20648312611012434\n",
      "\n",
      "Thread 3 True = 374 False = 1984 Total = 2359 True/Total = 0.15854175498092413\n",
      "0 true count 488\n",
      "1 true count 503\n",
      "2 true count 409\n",
      "3 true count 374\n",
      "4 true count 465\n",
      "5 true count 299\n",
      "resulting 2 step 1322 from 2538  |  0.5208825847123719\n",
      "lid_rid 1322 1322 1322\n"
     ]
    }
   ],
   "source": [
    "lid_rid_90 = pickle.load(open(os.path.join(utils.folder_gen, 'lid_rid_90.pickle'), \"rb\"))\n",
    "# ToDo retrain model there\n",
    "df_l_others_80, df_r_others_80 = filter_others_from_predicted(vk_others, inst_others, lid_rid_90)\n",
    "\n",
    "lid_rid_80 = ml_iteration(df_l_others, df_r_others, forest, G1, G2, \n",
    "                    name_sim_threshold = 0.8, threads = 6, save_to = 'lid_rid_80')\n",
    "\n",
    "gc.collect()"
   ]
  },
  {
   "cell_type": "code",
   "execution_count": null,
   "metadata": {},
   "outputs": [],
   "source": [
    "utils.gen_train_data(lid_rid_80, G1, G2, save_to = 'train_data_80')"
   ]
  },
  {
   "cell_type": "code",
   "execution_count": 39,
   "metadata": {},
   "outputs": [
    {
     "name": "stdout",
     "output_type": "stream",
     "text": [
      "0.6218434343434344\n"
     ]
    }
   ],
   "source": [
    "utils.precision(lid_rid_80)"
   ]
  },
  {
   "cell_type": "code",
   "execution_count": null,
   "metadata": {},
   "outputs": [],
   "source": [
    "from scipy.stats import ks_2samp\n",
    "\n",
    "def dist_sim(G1, n, G2, m):\n",
    "    sl = [v.degree() for v in vl.neighbors()]\n",
    "    sr = [v.degree() for v in vr.neighbors()]\n",
    "    return ks_2samp(sl, sr)"
   ]
  },
  {
   "cell_type": "markdown",
   "metadata": {},
   "source": [
    "### Name threashold 70"
   ]
  },
  {
   "cell_type": "code",
   "execution_count": 55,
   "metadata": {},
   "outputs": [
    {
     "name": "stdout",
     "output_type": "stream",
     "text": [
      "14837 13253 1584 14837\n",
      "Start 0\n"
     ]
    },
    {
     "data": {
      "application/vnd.jupyter.widget-view+json": {
       "model_id": "fb849ca3d89a4c8dbc556f9b445dde6f",
       "version_major": 2,
       "version_minor": 0
      },
      "text/html": [
       "<p>Failed to display Jupyter Widget of type <code>HBox</code>.</p>\n",
       "<p>\n",
       "  If you're reading this message in Jupyter Notebook or JupyterLab, it may mean\n",
       "  that the widgets JavaScript is still loading. If this message persists, it\n",
       "  likely means that the widgets JavaScript library is either not installed or\n",
       "  not enabled. See the <a href=\"https://ipywidgets.readthedocs.io/en/stable/user_install.html\">Jupyter\n",
       "  Widgets Documentation</a> for setup instructions.\n",
       "</p>\n",
       "<p>\n",
       "  If you're reading this message in another notebook frontend (for example, a static\n",
       "  rendering on GitHub or <a href=\"https://nbviewer.jupyter.org/\">NBViewer</a>),\n",
       "  it may mean that your frontend doesn't currently support widgets.\n",
       "</p>\n"
      ],
      "text/plain": [
       "HBox(children=(IntProgress(value=0, max=2208), HTML(value='')))"
      ]
     },
     "metadata": {},
     "output_type": "display_data"
    },
    {
     "name": "stdout",
     "output_type": "stream",
     "text": [
      "Start 1\n"
     ]
    },
    {
     "data": {
      "application/vnd.jupyter.widget-view+json": {
       "model_id": "ba70af8fcbe54bf69405a990de9a82d8",
       "version_major": 2,
       "version_minor": 0
      },
      "text/html": [
       "<p>Failed to display Jupyter Widget of type <code>HBox</code>.</p>\n",
       "<p>\n",
       "  If you're reading this message in Jupyter Notebook or JupyterLab, it may mean\n",
       "  that the widgets JavaScript is still loading. If this message persists, it\n",
       "  likely means that the widgets JavaScript library is either not installed or\n",
       "  not enabled. See the <a href=\"https://ipywidgets.readthedocs.io/en/stable/user_install.html\">Jupyter\n",
       "  Widgets Documentation</a> for setup instructions.\n",
       "</p>\n",
       "<p>\n",
       "  If you're reading this message in another notebook frontend (for example, a static\n",
       "  rendering on GitHub or <a href=\"https://nbviewer.jupyter.org/\">NBViewer</a>),\n",
       "  it may mean that your frontend doesn't currently support widgets.\n",
       "</p>\n"
      ],
      "text/plain": [
       "HBox(children=(IntProgress(value=0, max=2208), HTML(value='')))"
      ]
     },
     "metadata": {},
     "output_type": "display_data"
    },
    {
     "name": "stdout",
     "output_type": "stream",
     "text": [
      "Start 2\n"
     ]
    },
    {
     "data": {
      "application/vnd.jupyter.widget-view+json": {
       "model_id": "1be87d2646e14f54ab42746ab359ee1f",
       "version_major": 2,
       "version_minor": 0
      },
      "text/html": [
       "<p>Failed to display Jupyter Widget of type <code>HBox</code>.</p>\n",
       "<p>\n",
       "  If you're reading this message in Jupyter Notebook or JupyterLab, it may mean\n",
       "  that the widgets JavaScript is still loading. If this message persists, it\n",
       "  likely means that the widgets JavaScript library is either not installed or\n",
       "  not enabled. See the <a href=\"https://ipywidgets.readthedocs.io/en/stable/user_install.html\">Jupyter\n",
       "  Widgets Documentation</a> for setup instructions.\n",
       "</p>\n",
       "<p>\n",
       "  If you're reading this message in another notebook frontend (for example, a static\n",
       "  rendering on GitHub or <a href=\"https://nbviewer.jupyter.org/\">NBViewer</a>),\n",
       "  it may mean that your frontend doesn't currently support widgets.\n",
       "</p>\n"
      ],
      "text/plain": [
       "HBox(children=(IntProgress(value=0, max=2208), HTML(value='')))"
      ]
     },
     "metadata": {},
     "output_type": "display_data"
    },
    {
     "name": "stdout",
     "output_type": "stream",
     "text": [
      "Start 3\n"
     ]
    },
    {
     "data": {
      "application/vnd.jupyter.widget-view+json": {
       "model_id": "c1d7f6166b064a4d9e2a35befebc69ad",
       "version_major": 2,
       "version_minor": 0
      },
      "text/html": [
       "<p>Failed to display Jupyter Widget of type <code>HBox</code>.</p>\n",
       "<p>\n",
       "  If you're reading this message in Jupyter Notebook or JupyterLab, it may mean\n",
       "  that the widgets JavaScript is still loading. If this message persists, it\n",
       "  likely means that the widgets JavaScript library is either not installed or\n",
       "  not enabled. See the <a href=\"https://ipywidgets.readthedocs.io/en/stable/user_install.html\">Jupyter\n",
       "  Widgets Documentation</a> for setup instructions.\n",
       "</p>\n",
       "<p>\n",
       "  If you're reading this message in another notebook frontend (for example, a static\n",
       "  rendering on GitHub or <a href=\"https://nbviewer.jupyter.org/\">NBViewer</a>),\n",
       "  it may mean that your frontend doesn't currently support widgets.\n",
       "</p>\n"
      ],
      "text/plain": [
       "HBox(children=(IntProgress(value=0, max=2208), HTML(value='')))"
      ]
     },
     "metadata": {},
     "output_type": "display_data"
    },
    {
     "name": "stdout",
     "output_type": "stream",
     "text": [
      "Start 4\n"
     ]
    },
    {
     "data": {
      "application/vnd.jupyter.widget-view+json": {
       "model_id": "2d5449113b9f4621a44e494f8fc505db",
       "version_major": 2,
       "version_minor": 0
      },
      "text/html": [
       "<p>Failed to display Jupyter Widget of type <code>HBox</code>.</p>\n",
       "<p>\n",
       "  If you're reading this message in Jupyter Notebook or JupyterLab, it may mean\n",
       "  that the widgets JavaScript is still loading. If this message persists, it\n",
       "  likely means that the widgets JavaScript library is either not installed or\n",
       "  not enabled. See the <a href=\"https://ipywidgets.readthedocs.io/en/stable/user_install.html\">Jupyter\n",
       "  Widgets Documentation</a> for setup instructions.\n",
       "</p>\n",
       "<p>\n",
       "  If you're reading this message in another notebook frontend (for example, a static\n",
       "  rendering on GitHub or <a href=\"https://nbviewer.jupyter.org/\">NBViewer</a>),\n",
       "  it may mean that your frontend doesn't currently support widgets.\n",
       "</p>\n"
      ],
      "text/plain": [
       "HBox(children=(IntProgress(value=0, max=2208), HTML(value='')))"
      ]
     },
     "metadata": {},
     "output_type": "display_data"
    },
    {
     "name": "stdout",
     "output_type": "stream",
     "text": [
      "Start 5\n"
     ]
    },
    {
     "data": {
      "application/vnd.jupyter.widget-view+json": {
       "model_id": "c5fbd707bddb4a8da771001065c4bcd5",
       "version_major": 2,
       "version_minor": 0
      },
      "text/html": [
       "<p>Failed to display Jupyter Widget of type <code>HBox</code>.</p>\n",
       "<p>\n",
       "  If you're reading this message in Jupyter Notebook or JupyterLab, it may mean\n",
       "  that the widgets JavaScript is still loading. If this message persists, it\n",
       "  likely means that the widgets JavaScript library is either not installed or\n",
       "  not enabled. See the <a href=\"https://ipywidgets.readthedocs.io/en/stable/user_install.html\">Jupyter\n",
       "  Widgets Documentation</a> for setup instructions.\n",
       "</p>\n",
       "<p>\n",
       "  If you're reading this message in another notebook frontend (for example, a static\n",
       "  rendering on GitHub or <a href=\"https://nbviewer.jupyter.org/\">NBViewer</a>),\n",
       "  it may mean that your frontend doesn't currently support widgets.\n",
       "</p>\n"
      ],
      "text/plain": [
       "HBox(children=(IntProgress(value=0, max=2213), HTML(value='')))"
      ]
     },
     "metadata": {},
     "output_type": "display_data"
    },
    {
     "name": "stdout",
     "output_type": "stream",
     "text": [
      "\n",
      "Thread 4 True = 1285 False = 7939 Total = 9225 True/Total = 0.13929539295392954\n",
      "\n",
      "Thread 0 True = 1720 False = 7947 Total = 9668 True/Total = 0.17790649565577163\n",
      "\n",
      "Thread 5 True = 1393 False = 8357 Total = 9751 True/Total = 0.14285714285714285\n",
      "\n",
      "Thread 3 True = 1478 False = 8398 Total = 9877 True/Total = 0.14964057912321554\n",
      "\n",
      "Thread 1 True = 1787 False = 8484 Total = 10272 True/Total = 0.17396806853582555\n",
      "\n",
      "Thread 2 True = 2247 False = 9812 Total = 12060 True/Total = 0.186318407960199\n",
      "0 true count 1720\n",
      "1 true count 1787\n",
      "2 true count 2247\n",
      "3 true count 1478\n",
      "4 true count 1285\n",
      "5 true count 1393\n",
      "resulting 2 step 1925 from 9910  |  0.19424823410696265\n",
      "lid_rid 1925 1925 1925\n"
     ]
    },
    {
     "data": {
      "text/plain": [
       "29"
      ]
     },
     "execution_count": 55,
     "metadata": {},
     "output_type": "execute_result"
    }
   ],
   "source": [
    "lid_rid_80 = pickle.load(open(os.path.join(utils.folder_gen, 'lid_rid_80.pickle'), \"rb\"))\n",
    "\n",
    "model_70 = utils.retrain_model(model_80, ['train_data_matched', 'train_data_90', 'train_data_80', ])\n",
    "\n",
    "df_l_others_70, df_r_others_70 = utils.filter_others_from_predicted(df_l_others_80, df_r_others_80, lid_rid_80)\n",
    "\n",
    "lid_rid_70 = utils.ml_iteration(df_l_others_70, df_r_others_70, model_70, G1, G2, \n",
    "                    name_sim_threshold = 0.7, threads = 6, save_to = 'lid_rid_70')\n",
    "\n",
    "gc.collect()"
   ]
  },
  {
   "cell_type": "code",
   "execution_count": 57,
   "metadata": {},
   "outputs": [
    {
     "data": {
      "application/vnd.jupyter.widget-view+json": {
       "model_id": "b15ed02d39a441e3a8a98a0153925326",
       "version_major": 2,
       "version_minor": 0
      },
      "text/html": [
       "<p>Failed to display Jupyter Widget of type <code>HBox</code>.</p>\n",
       "<p>\n",
       "  If you're reading this message in Jupyter Notebook or JupyterLab, it may mean\n",
       "  that the widgets JavaScript is still loading. If this message persists, it\n",
       "  likely means that the widgets JavaScript library is either not installed or\n",
       "  not enabled. See the <a href=\"https://ipywidgets.readthedocs.io/en/stable/user_install.html\">Jupyter\n",
       "  Widgets Documentation</a> for setup instructions.\n",
       "</p>\n",
       "<p>\n",
       "  If you're reading this message in another notebook frontend (for example, a static\n",
       "  rendering on GitHub or <a href=\"https://nbviewer.jupyter.org/\">NBViewer</a>),\n",
       "  it may mean that your frontend doesn't currently support widgets.\n",
       "</p>\n"
      ],
      "text/plain": [
       "HBox(children=(IntProgress(value=0, max=1925), HTML(value='')))"
      ]
     },
     "metadata": {},
     "output_type": "display_data"
    },
    {
     "name": "stdout",
     "output_type": "stream",
     "text": [
      "\n"
     ]
    }
   ],
   "source": [
    "utils.gen_train_data(lid_rid_70, G1, G2, save_to = 'train_data_70')"
   ]
  },
  {
   "cell_type": "code",
   "execution_count": 58,
   "metadata": {},
   "outputs": [
    {
     "name": "stdout",
     "output_type": "stream",
     "text": [
      "0.2187012987012987\n"
     ]
    }
   ],
   "source": [
    "utils.precision(lid_rid_70)"
   ]
  },
  {
   "cell_type": "code",
   "execution_count": 69,
   "metadata": {},
   "outputs": [
    {
     "data": {
      "text/plain": [
       "[[5394, 751026638],\n",
       " [22884, 2744159],\n",
       " [89831, 389335890],\n",
       " [103177, 199238507],\n",
       " [128184, 2680807187],\n",
       " [287383, 4355999142],\n",
       " [323426, 262205325],\n",
       " [396916, 2318740468],\n",
       " [411887, 324637050],\n",
       " [424983, 234009055],\n",
       " [440401, 1460125089],\n",
       " [460592, 963814117],\n",
       " [548294, 2008029075],\n",
       " [602277, 34259567],\n",
       " [625674, 252673120],\n",
       " [678747, 44827282],\n",
       " [688773, 1552256479],\n",
       " [690076, 174473229],\n",
       " [716194, 277655428],\n",
       " [723868, 705916151],\n",
       " [724031, 833911963],\n",
       " [730048, 42753460],\n",
       " [731235, 144453303],\n",
       " [733023, 332707352],\n",
       " [733627, 285052643],\n",
       " [738859, 1814863382],\n",
       " [763786, 1758978298],\n",
       " [771450, 1101678048],\n",
       " [786268, 535726771],\n",
       " [801855, 2349650083],\n",
       " [810285, 3296369720],\n",
       " [816936, 483551402],\n",
       " [851300, 278789282],\n",
       " [852042, 1517726154],\n",
       " [863837, 1212535796],\n",
       " [864321, 1965348809],\n",
       " [879258, 2272150903],\n",
       " [886873, 199731627],\n",
       " [929031, 1292158969],\n",
       " [960400, 1638475028],\n",
       " [1010702, 143723070],\n",
       " [1027431, 201851893],\n",
       " [1047557, 287870298],\n",
       " [1052030, 464674258],\n",
       " [1076944, 2178365002],\n",
       " [1083729, 244314482],\n",
       " [1091682, 325584095],\n",
       " [1097673, 316801425],\n",
       " [1146214, 4112556497],\n",
       " [1177463, 226504408],\n",
       " [1184286, 352295331],\n",
       " [1210314, 752232624],\n",
       " [1237026, 708417269],\n",
       " [1259074, 555959487],\n",
       " [1268838, 270735517],\n",
       " [1290780, 1103111379],\n",
       " [1292097, 1407639915],\n",
       " [1292485, 236519517],\n",
       " [1305531, 8036045],\n",
       " [1313957, 494378749],\n",
       " [1316367, 467596378],\n",
       " [1321267, 2133757904],\n",
       " [1346492, 1443457767],\n",
       " [1367268, 225406880],\n",
       " [1378382, 438121998],\n",
       " [1434298, 1098889841],\n",
       " [1441567, 516260962],\n",
       " [1447160, 35468247],\n",
       " [1478065, 2274730005],\n",
       " [1482382, 42026964],\n",
       " [1501714, 508115345],\n",
       " [1501773, 248092342],\n",
       " [1502809, 291423441],\n",
       " [1513338, 1424394636],\n",
       " [1526843, 52402952],\n",
       " [1532902, 2281286448],\n",
       " [1533999, 179269715],\n",
       " [1603239, 241187735],\n",
       " [1643053, 2156937445],\n",
       " [1679376, 1484830256],\n",
       " [1693779, 395286450],\n",
       " [1718653, 2425293175],\n",
       " [1721543, 345386977],\n",
       " [1724877, 326358612],\n",
       " [1728328, 1427292823],\n",
       " [1746902, 344429708],\n",
       " [1772522, 42219979],\n",
       " [1816295, 188070652],\n",
       " [1822341, 365654581],\n",
       " [1839977, 254657584],\n",
       " [1861242, 216677258],\n",
       " [1876876, 2216637950],\n",
       " [1880567, 419385828],\n",
       " [1908937, 1583395732],\n",
       " [1956335, 1526068663],\n",
       " [1961904, 565915728],\n",
       " [2012193, 1300966107],\n",
       " [2014960, 1009685237],\n",
       " [2016938, 457673504],\n",
       " [2027715, 1070111976],\n",
       " [2056866, 4066391089],\n",
       " [2076941, 479850600],\n",
       " [2083640, 182519859],\n",
       " [2113317, 2452449539],\n",
       " [2118637, 260889879],\n",
       " [2128947, 182393275],\n",
       " [2163950, 600891748],\n",
       " [2167803, 3018688884],\n",
       " [2190086, 326272194],\n",
       " [2196960, 32710492],\n",
       " [2220984, 467540741],\n",
       " [2229324, 2927845536],\n",
       " [2244545, 286080646],\n",
       " [2261306, 2325741704],\n",
       " [2264612, 286737641],\n",
       " [2271374, 376394643],\n",
       " [2273527, 221101518],\n",
       " [2277495, 967716881],\n",
       " [2278838, 1274100611],\n",
       " [2293962, 231369534],\n",
       " [2308224, 1314471008],\n",
       " [2326248, 256962388],\n",
       " [2344428, 18432145],\n",
       " [2379517, 1407779393],\n",
       " [2387887, 368626511],\n",
       " [2416610, 517298918],\n",
       " [2431281, 42301315],\n",
       " [2435449, 184832604],\n",
       " [2446729, 2985196125],\n",
       " [2474152, 290508485],\n",
       " [2476831, 265471885],\n",
       " [2478050, 246595840],\n",
       " [2479711, 2265380248],\n",
       " [2515739, 407695238],\n",
       " [2518384, 204932598],\n",
       " [2521722, 1160178043],\n",
       " [2523557, 184420175],\n",
       " [2533435, 1095167483],\n",
       " [2533558, 46107187],\n",
       " [2554533, 413927100],\n",
       " [2591736, 361997234],\n",
       " [2592631, 3694953],\n",
       " [2599262, 430535533],\n",
       " [2607806, 563077034],\n",
       " [2627745, 194677349],\n",
       " [2635130, 3926277731],\n",
       " [2660856, 249125264],\n",
       " [2673386, 1687061071],\n",
       " [2677292, 211588776],\n",
       " [2684383, 1001139298],\n",
       " [2685230, 520504556],\n",
       " [2686481, 13196949],\n",
       " [2704440, 1590789748],\n",
       " [2730352, 200594407],\n",
       " [2732575, 7174808],\n",
       " [2737471, 1312706563],\n",
       " [2743907, 2653458467],\n",
       " [2745419, 1259056635],\n",
       " [2759063, 414924455],\n",
       " [2786274, 224778845],\n",
       " [2818107, 239781518],\n",
       " [2820131, 709899609],\n",
       " [2848948, 216674121],\n",
       " [2862432, 4814023413],\n",
       " [2867115, 3209253502],\n",
       " [2867338, 177802750],\n",
       " [2876136, 272965090],\n",
       " [2896228, 400363174],\n",
       " [2927904, 2160942882],\n",
       " [2981295, 1979480840],\n",
       " [3034621, 299304668],\n",
       " [3040977, 1567083635],\n",
       " [3065219, 608000040],\n",
       " [3292094, 294290837],\n",
       " [3436666, 399777914],\n",
       " [3464265, 301387908],\n",
       " [3493260, 404905043],\n",
       " [3918805, 400246218],\n",
       " [3957150, 312786572],\n",
       " [4067700, 285871753],\n",
       " [4077098, 1230433574],\n",
       " [4144590, 220758755],\n",
       " [4202279, 46761514],\n",
       " [4212744, 36843405],\n",
       " [4241935, 357239230],\n",
       " [4255503, 394934080],\n",
       " [4262342, 380095493],\n",
       " [4286259, 965134266],\n",
       " [4367148, 263770773],\n",
       " [4399058, 954840038],\n",
       " [4420023, 33891343],\n",
       " [4440238, 1346190853],\n",
       " [4454710, 3524335119],\n",
       " [4543901, 357967046],\n",
       " [4562049, 1613308291],\n",
       " [4565282, 37001695],\n",
       " [4584536, 429451581],\n",
       " [4590913, 473748925],\n",
       " [4594476, 1015973538],\n",
       " [4615563, 542040254],\n",
       " [4618168, 2052144866],\n",
       " [4627254, 1407280218],\n",
       " [4637831, 808315265],\n",
       " [4656105, 608289076],\n",
       " [4678124, 2354347762],\n",
       " [4685992, 1660174409],\n",
       " [4712396, 962642763],\n",
       " [4715993, 1420641278],\n",
       " [4724076, 288995781],\n",
       " [4744390, 3322742144],\n",
       " [4773659, 1113117976],\n",
       " [4807130, 972496261],\n",
       " [4815420, 328032348],\n",
       " [4816311, 4148530515],\n",
       " [4825416, 44368057],\n",
       " [4833401, 1106597219],\n",
       " [4836203, 1716998717],\n",
       " [4923575, 210169417],\n",
       " [4952066, 2970982269],\n",
       " [4959066, 1049522513],\n",
       " [5004783, 483540960],\n",
       " [5025036, 195632784],\n",
       " [5049530, 444863407],\n",
       " [5080138, 48196932],\n",
       " [5124340, 189262729],\n",
       " [5125193, 1313193222],\n",
       " [5127481, 54422906],\n",
       " [5131924, 353310337],\n",
       " [5154529, 264407502],\n",
       " [5155851, 632389974],\n",
       " [5231228, 276891533],\n",
       " [5251764, 1012530821],\n",
       " [5252437, 3437887806],\n",
       " [5261385, 224358160],\n",
       " [5265074, 293721860],\n",
       " [5267337, 1270276776],\n",
       " [5267506, 294786144],\n",
       " [5267618, 583154487],\n",
       " [5276436, 1465779009],\n",
       " [5279139, 249443683],\n",
       " [5281235, 421505016],\n",
       " [5291822, 1992040836],\n",
       " [5295586, 456264788],\n",
       " [5325459, 295822293],\n",
       " [5331058, 3434711410],\n",
       " [5340803, 287941724],\n",
       " [5346152, 438904147],\n",
       " [5346156, 293785178],\n",
       " [5346416, 1458629052],\n",
       " [5355351, 1716861230],\n",
       " [5364724, 1463504593],\n",
       " [5367375, 329667763],\n",
       " [5373238, 241803768],\n",
       " [5383934, 392681822],\n",
       " [5403718, 215301269],\n",
       " [5405925, 530136096],\n",
       " [5411007, 346657111],\n",
       " [5440961, 1387347900],\n",
       " [5445145, 593127219],\n",
       " [5465889, 484279635],\n",
       " [5468662, 2143544463],\n",
       " [5501864, 195101401],\n",
       " [5505922, 690958083],\n",
       " [5506508, 1328825137],\n",
       " [5514056, 383780382],\n",
       " [5521909, 457498292],\n",
       " [5523427, 1086730933],\n",
       " [5528417, 362934815],\n",
       " [5547483, 264460615],\n",
       " [5579129, 477211657],\n",
       " [5587508, 46688387],\n",
       " [5603641, 225445199],\n",
       " [5636875, 645574241],\n",
       " [5636995, 450894965],\n",
       " [5641294, 1303114546],\n",
       " [5646080, 1601773378],\n",
       " [5650729, 318753056],\n",
       " [5681983, 10472492],\n",
       " [5682620, 2536501014],\n",
       " [5694048, 1437002677],\n",
       " [5697990, 258960242],\n",
       " [5698452, 1281629265],\n",
       " [5711594, 1681553841],\n",
       " [5720591, 284284787],\n",
       " [5747617, 1984903273],\n",
       " [5748197, 292877709],\n",
       " [5778971, 638003747],\n",
       " [5779927, 2017952779],\n",
       " [5789181, 211290057],\n",
       " [5797363, 558281419],\n",
       " [5804772, 385838808],\n",
       " [5845636, 1537594722],\n",
       " [5851368, 552329453],\n",
       " [5861516, 514814371],\n",
       " [5868886, 441384576],\n",
       " [5883959, 45876003],\n",
       " [5891896, 3615911538],\n",
       " [5892226, 1121687480],\n",
       " [5895992, 1160511878],\n",
       " [5907973, 602317140],\n",
       " [5909477, 406444954],\n",
       " [5912863, 1292051526],\n",
       " [5923461, 32689726],\n",
       " [5932540, 320377791],\n",
       " [5939526, 1145250929],\n",
       " [5939929, 553529470],\n",
       " [5954398, 257629228],\n",
       " [5964106, 370412656],\n",
       " [6019542, 1458874644],\n",
       " [6027838, 55628258],\n",
       " [6070398, 29987429],\n",
       " [6076235, 1074034232],\n",
       " [6086960, 775037994],\n",
       " [6091267, 244187370],\n",
       " [6091778, 371120592],\n",
       " [6093050, 627166830],\n",
       " [6095932, 284406803],\n",
       " [6141023, 1925641544],\n",
       " [6146473, 819173367],\n",
       " [6154559, 2178792957],\n",
       " [6181585, 1797867975],\n",
       " [6184256, 50392719],\n",
       " [6219758, 945495225],\n",
       " [6256031, 14643470],\n",
       " [6258898, 1509719034],\n",
       " [6278001, 3557799968],\n",
       " [6289710, 1421421092],\n",
       " [6305323, 286201626],\n",
       " [6312968, 255231930],\n",
       " [6314436, 200247377],\n",
       " [6327158, 762683908],\n",
       " [6332973, 261619298],\n",
       " [6334926, 2129445617],\n",
       " [6338728, 22791994],\n",
       " [6350007, 383374457],\n",
       " [6358753, 1444528252],\n",
       " [6385749, 4361585000],\n",
       " [6411303, 242307608],\n",
       " [6419137, 429936535],\n",
       " [6430927, 555098637],\n",
       " [6440845, 1116110892],\n",
       " [6469925, 196010574],\n",
       " [6526061, 222629452],\n",
       " [6528264, 2217767832],\n",
       " [6533957, 904688846],\n",
       " [6545469, 356426658],\n",
       " [6582526, 1485635629],\n",
       " [6612537, 2165555702],\n",
       " [6614073, 606625256],\n",
       " [6633055, 521989429],\n",
       " [6643081, 292107481],\n",
       " [6652306, 244928650],\n",
       " [6654119, 211359215],\n",
       " [6661233, 1545946524],\n",
       " [6662181, 1133722870],\n",
       " [6666748, 193050300],\n",
       " [6682816, 972152394],\n",
       " [6699024, 354595629],\n",
       " [6701146, 470039793],\n",
       " [6758185, 595003160],\n",
       " [6760112, 348461935],\n",
       " [6762546, 232225761],\n",
       " [6762670, 493747282],\n",
       " [6860290, 42058122],\n",
       " [6916815, 10010721],\n",
       " [6929056, 40867212],\n",
       " [6941345, 47965053],\n",
       " [6950182, 217232075],\n",
       " [6956451, 2236292973],\n",
       " [7018254, 2061374955],\n",
       " [7030082, 324194463],\n",
       " [7042177, 273419278],\n",
       " [7048415, 244238268],\n",
       " [7057198, 572803357],\n",
       " [7057219, 537888660],\n",
       " [7070029, 196330773],\n",
       " [7072512, 1481317325],\n",
       " [7088623, 53488399],\n",
       " [7121453, 1325969263],\n",
       " [7134135, 1696337004],\n",
       " [7136475, 370375186],\n",
       " [7141615, 258206234],\n",
       " [7146448, 27736555],\n",
       " [7148126, 232643195],\n",
       " [7148812, 237727738],\n",
       " [7149838, 1838157368],\n",
       " [7194873, 350000336],\n",
       " [7212520, 516461516],\n",
       " [7258670, 4204951496],\n",
       " [7266406, 3261343949],\n",
       " [7328844, 1505673246],\n",
       " [7335230, 294244749],\n",
       " [7350351, 1428404646],\n",
       " [7351773, 1415610578],\n",
       " [7353508, 318452053],\n",
       " [7356519, 1280463401],\n",
       " [7358521, 758458956],\n",
       " [7364022, 3571855455],\n",
       " [7370620, 1332977785],\n",
       " [7373445, 416679571],\n",
       " [7376193, 445958513],\n",
       " [7385572, 256096032],\n",
       " [7402123, 335306566],\n",
       " [7408349, 263301498],\n",
       " [7422756, 189301984],\n",
       " [7433318, 263255106],\n",
       " [7481050, 284295645],\n",
       " [7484534, 4130498323],\n",
       " [7487258, 462076880],\n",
       " [7499798, 1420267741],\n",
       " [7530988, 26985421],\n",
       " [7533098, 1628382602],\n",
       " [7553511, 370253926],\n",
       " [7555598, 381196855],\n",
       " [7556731, 3014470317],\n",
       " [7572379, 342049737],\n",
       " [7585085, 367916293],\n",
       " [7587036, 33260510],\n",
       " [7588272, 304163342],\n",
       " [7597252, 551532284],\n",
       " [7599293, 265882066],\n",
       " [7599491, 504926950],\n",
       " [7608698, 257524552],\n",
       " [7609510, 680269295],\n",
       " [7610249, 257181489],\n",
       " [7622036, 272649603],\n",
       " [7634951, 305018348],\n",
       " [7636612, 688375245],\n",
       " [7647834, 2189125320],\n",
       " [7648029, 498073228],\n",
       " [7648122, 254101928],\n",
       " [7655719, 1513483434],\n",
       " [7677506, 1450604695],\n",
       " [7678997, 176349762],\n",
       " [7690102, 1187578402],\n",
       " [7703792, 2222851264],\n",
       " [7714536, 599254687],\n",
       " [7719590, 1373274508],\n",
       " [7734993, 2475560078],\n",
       " [7736868, 1126781360],\n",
       " [7742496, 1598805724],\n",
       " [7754617, 513924509],\n",
       " [7769173, 335006460],\n",
       " [7771483, 1390342719],\n",
       " [7777126, 2995173851],\n",
       " [7782763, 343918269],\n",
       " [7795029, 189392272],\n",
       " [7814166, 1780060691],\n",
       " [7855400, 427273779],\n",
       " [7866339, 344982823],\n",
       " [7875166, 1420306070],\n",
       " [7875374, 1188744477],\n",
       " [7877432, 1400734496],\n",
       " [7893986, 465328104],\n",
       " [7920557, 1023257198],\n",
       " [7930102, 329838608],\n",
       " [7936139, 22952440],\n",
       " [7948633, 410671899],\n",
       " [7950602, 324193239],\n",
       " [7956163, 276857802],\n",
       " [7959172, 276447195],\n",
       " [7969031, 51099221],\n",
       " [7978388, 558640243],\n",
       " [8006303, 32145961],\n",
       " [8013387, 1570918564],\n",
       " [8017336, 696872099],\n",
       " [8020353, 367766865],\n",
       " [8044605, 432558075],\n",
       " [8049763, 234083238],\n",
       " [8067097, 210743700],\n",
       " [8089580, 2935074721],\n",
       " [8090384, 1988512457],\n",
       " [8091336, 814220026],\n",
       " [8095636, 242498207],\n",
       " [8106837, 2456521],\n",
       " [8110152, 317379381],\n",
       " [8115453, 1046068205],\n",
       " [8123800, 645148527],\n",
       " [8153989, 291000681],\n",
       " [8163612, 1498434559],\n",
       " [8174688, 203898558],\n",
       " [8203871, 361970181],\n",
       " [8209761, 852828267],\n",
       " [8218260, 308612589],\n",
       " [8226321, 2087619664],\n",
       " [8235188, 1280794862],\n",
       " [8238510, 29804623],\n",
       " [8249487, 326432973],\n",
       " [8254713, 2318750726],\n",
       " [8283593, 593383315],\n",
       " [8292864, 315325618],\n",
       " [8297105, 299534813],\n",
       " [8327558, 29432579],\n",
       " [8330049, 1655880428],\n",
       " [8333722, 1184689030],\n",
       " [8334429, 214150036],\n",
       " [8352047, 2216014011],\n",
       " [8357200, 303355958],\n",
       " [8387170, 348818790],\n",
       " [8403226, 231180394],\n",
       " [8416040, 2279680591],\n",
       " [8420977, 327071709],\n",
       " [8421123, 477794572],\n",
       " [8438097, 436775635],\n",
       " [8447305, 484460068],\n",
       " [8468714, 485493803],\n",
       " [8479654, 2103568707],\n",
       " [8487528, 3036293646],\n",
       " [8510935, 52888084],\n",
       " [8511334, 178660092],\n",
       " [8523117, 408800302],\n",
       " [8534631, 3418488554],\n",
       " [8547365, 1835067756],\n",
       " [8557763, 1988619828],\n",
       " [8565090, 2009167670],\n",
       " [8601627, 232571830],\n",
       " [8614700, 382984653],\n",
       " [8625828, 12130316],\n",
       " [8639845, 1192259799],\n",
       " [8642907, 302239438],\n",
       " [8644605, 436819803],\n",
       " [8646010, 1797126064],\n",
       " [8647225, 1837099891],\n",
       " [8653393, 507931736],\n",
       " [8662545, 1638316853],\n",
       " [8677809, 1583833861],\n",
       " [8682419, 1491753649],\n",
       " [8696475, 1798947347],\n",
       " [8701732, 1373550762],\n",
       " [8715163, 1994056505],\n",
       " [8735514, 1024279861],\n",
       " [8742771, 1531016326],\n",
       " [8763002, 46580759],\n",
       " [8767808, 16895625],\n",
       " [8776032, 2132139102],\n",
       " [8787599, 534514962],\n",
       " [8792383, 228153627],\n",
       " [8806317, 583958303],\n",
       " [8815286, 414836248],\n",
       " [8820870, 6744877],\n",
       " [8833840, 396839375],\n",
       " [8840298, 431518873],\n",
       " [8878546, 12175530],\n",
       " [8891295, 303910717],\n",
       " [8900148, 3304325812],\n",
       " [8946216, 319549609],\n",
       " [8948113, 214608748],\n",
       " [8968645, 1510162751],\n",
       " [8984055, 210719201],\n",
       " [8987349, 290777304],\n",
       " [9024985, 1651013135],\n",
       " [9033139, 300383256],\n",
       " [9040302, 536288906],\n",
       " [9045349, 241560047],\n",
       " [9080823, 303008236],\n",
       " [9092107, 617194686],\n",
       " [9105027, 805251106],\n",
       " [9106615, 233885644],\n",
       " [9119797, 1650538191],\n",
       " [9160753, 1602875649],\n",
       " [9171798, 1075379794],\n",
       " [9186270, 624028064],\n",
       " [9211460, 369570274],\n",
       " [9213227, 1430571818],\n",
       " [9239006, 290530509],\n",
       " [9244662, 582564692],\n",
       " [9277609, 195559301],\n",
       " [9284565, 21786488],\n",
       " [9290725, 1414965503],\n",
       " [9297249, 187305382],\n",
       " [9300966, 301230326],\n",
       " [9316926, 1225660872],\n",
       " [9320600, 333267281],\n",
       " [9322152, 253977501],\n",
       " [9333500, 3557828423],\n",
       " [9356048, 373857079],\n",
       " [9375303, 1583253362],\n",
       " [9377664, 376643674],\n",
       " [9414495, 261257012],\n",
       " [9416715, 300040012],\n",
       " [9420740, 1692188659],\n",
       " [9428468, 245515808],\n",
       " [9435325, 334698434],\n",
       " [9443496, 257556963],\n",
       " [9444787, 323846222],\n",
       " [9456820, 1159769268],\n",
       " [9472873, 443445968],\n",
       " [9482978, 675226819],\n",
       " [9487016, 52449115],\n",
       " [9490149, 38608326],\n",
       " [9494048, 296753618],\n",
       " [9497745, 1019467115],\n",
       " [9514078, 256170894],\n",
       " [9526205, 1066016284],\n",
       " [9540089, 644871092],\n",
       " [9547523, 389726576],\n",
       " [9562768, 1597139127],\n",
       " [9585521, 1636638246],\n",
       " [9594363, 890138400],\n",
       " [9603268, 622239998],\n",
       " [9625096, 1216334250],\n",
       " [9629067, 309393741],\n",
       " [9634193, 448637809],\n",
       " [9642296, 886911471],\n",
       " [9677424, 1526221647],\n",
       " [9688449, 1621815322],\n",
       " [9711056, 1734633303],\n",
       " [9720169, 2223007813],\n",
       " [9746279, 266432420],\n",
       " [9769167, 1518983473],\n",
       " [9771072, 2118553679],\n",
       " [9772990, 1168482761],\n",
       " [9785647, 320961218],\n",
       " [9803608, 783971547],\n",
       " [9806967, 282216887],\n",
       " [9807172, 1165304942],\n",
       " [9817165, 1540933721],\n",
       " [9818791, 204503875],\n",
       " [9844697, 224373616],\n",
       " [9858471, 226456456],\n",
       " [9863569, 438086916],\n",
       " [9868936, 1838040700],\n",
       " [9894031, 277688084],\n",
       " [9926946, 32165630],\n",
       " [9931093, 305395051],\n",
       " [9934528, 146087362],\n",
       " [9942636, 1436280197],\n",
       " [9949884, 473474969],\n",
       " [10015357, 333421170],\n",
       " [10027709, 1088131616],\n",
       " [10028605, 1416420345],\n",
       " [10058045, 282924086],\n",
       " [10079278, 1922544858],\n",
       " [10095501, 1021819399],\n",
       " [10101439, 1684950810],\n",
       " [10102257, 343837887],\n",
       " [10114180, 1906359541],\n",
       " [10116030, 472113852],\n",
       " [10126258, 4153154179],\n",
       " [10128685, 1433027605],\n",
       " [10133642, 217724101],\n",
       " [10144041, 901638817],\n",
       " [10161703, 193842399],\n",
       " [10165558, 480774003],\n",
       " [10167713, 226800718],\n",
       " [10170570, 32994357],\n",
       " [10201146, 202254939],\n",
       " [10218378, 421288069],\n",
       " [10222359, 357113161],\n",
       " [10224406, 1174591146],\n",
       " [10232156, 12014588],\n",
       " [10235981, 3720610686],\n",
       " [10239544, 791095996],\n",
       " [10255821, 424647262],\n",
       " [10266922, 1495776656],\n",
       " [10295246, 21672700],\n",
       " [10303518, 1275385660],\n",
       " [10311637, 4387505311],\n",
       " [10319997, 1589923213],\n",
       " [10363140, 2180778899],\n",
       " [10363636, 580766112],\n",
       " [10386777, 455282249],\n",
       " [10418675, 351509687],\n",
       " [10440804, 394998915],\n",
       " [10443246, 2519215629],\n",
       " [10452856, 1296422029],\n",
       " [10462887, 1490728379],\n",
       " [10477248, 256218947],\n",
       " [10491206, 608441985],\n",
       " [10508034, 354640735],\n",
       " [10519066, 370165837],\n",
       " [10563387, 212712378],\n",
       " [10568412, 1265962654],\n",
       " [10577446, 451004388],\n",
       " [10583813, 1505230370],\n",
       " [10585245, 618010364],\n",
       " [10607209, 3191144304],\n",
       " [10632087, 1407795875],\n",
       " [10647778, 327591928],\n",
       " [10660677, 1508161409],\n",
       " [10670250, 52387419],\n",
       " [10692386, 1401746093],\n",
       " [10695107, 395108209],\n",
       " [10703099, 488128681],\n",
       " [10704869, 314244168],\n",
       " [10706389, 1393973189],\n",
       " [10718515, 204341306],\n",
       " [10723577, 293730481],\n",
       " [10732613, 1227676918],\n",
       " [10750948, 255549991],\n",
       " [10781674, 204906908],\n",
       " [10802533, 1393380834],\n",
       " [10811248, 456879890],\n",
       " [10816996, 670989526],\n",
       " [10839494, 282435265],\n",
       " [10853378, 328814997],\n",
       " [10854055, 2103634993],\n",
       " [10861712, 337821889],\n",
       " [10865315, 3091153757],\n",
       " [10882551, 246123919],\n",
       " [10906989, 1989020639],\n",
       " [10919554, 662746199],\n",
       " [10952645, 420813579],\n",
       " [10952933, 472028626],\n",
       " [10958902, 19920313],\n",
       " [10959234, 210702531],\n",
       " [10962312, 443774089],\n",
       " [11019181, 1516032633],\n",
       " [11105135, 22818389],\n",
       " [11107286, 402698392],\n",
       " [11114340, 310509573],\n",
       " [11167971, 296966750],\n",
       " [11169499, 299823327],\n",
       " [11174377, 1387933595],\n",
       " [11187161, 370125435],\n",
       " [11194787, 2207137172],\n",
       " [11223933, 368361665],\n",
       " [11227778, 693476987],\n",
       " [11229131, 1999835417],\n",
       " [11260856, 449493657],\n",
       " [11262522, 3518052074],\n",
       " [11264208, 1319580228],\n",
       " [11270585, 1443477913],\n",
       " [11277855, 1025984378],\n",
       " [11278587, 1019955871],\n",
       " [11288342, 1400410047],\n",
       " [11311201, 1497512967],\n",
       " [11342578, 352884081],\n",
       " [11347360, 426446549],\n",
       " [11377921, 480876559],\n",
       " [11380080, 828370817],\n",
       " [11414410, 305606691],\n",
       " [11415175, 338731679],\n",
       " [11437709, 1292097744],\n",
       " [11437906, 567014690],\n",
       " [11488978, 795772142],\n",
       " [11497780, 1766466769],\n",
       " [11506553, 544791156],\n",
       " [11536556, 445422720],\n",
       " [11544489, 312050105],\n",
       " [11559837, 183629001],\n",
       " [11574541, 1020293170],\n",
       " [11587959, 1683434316],\n",
       " [11602910, 1017087420],\n",
       " [11607990, 265313236],\n",
       " [11613885, 2339808742],\n",
       " [11640677, 244819672],\n",
       " [11654833, 329667181],\n",
       " [11663328, 41965753],\n",
       " [11698800, 703157615],\n",
       " [11712185, 469329323],\n",
       " [11718443, 2053566136],\n",
       " [11752682, 294308146],\n",
       " [11753184, 1148256584],\n",
       " [11760690, 253229138],\n",
       " [11780626, 4239735337],\n",
       " [11794154, 655453835],\n",
       " [11799155, 1469466308],\n",
       " [11808558, 1274019829],\n",
       " [11810873, 334313552],\n",
       " [11811132, 248228794],\n",
       " [11837363, 1449623041],\n",
       " [11846115, 540873303],\n",
       " [11865950, 303845200],\n",
       " [11887718, 2080591957],\n",
       " [11888949, 1491889782],\n",
       " [11909438, 484532529],\n",
       " [11918654, 241021629],\n",
       " [11927660, 350462393],\n",
       " [11937348, 317011876],\n",
       " [11962034, 301707131],\n",
       " [11966913, 245304598],\n",
       " [11978953, 627638157],\n",
       " [12035809, 248261014],\n",
       " [12037819, 3540470492],\n",
       " [12040051, 2067477948],\n",
       " [12047119, 203397272],\n",
       " [12050956, 233098266],\n",
       " [12065166, 2748690690],\n",
       " [12076458, 355416933],\n",
       " [12096731, 3896536396],\n",
       " [12109579, 250059683],\n",
       " [12114388, 1357288501],\n",
       " [12127517, 288629845],\n",
       " [12133923, 29364935],\n",
       " [12148038, 186523733],\n",
       " [12171038, 1336178218],\n",
       " [12175577, 1744757167],\n",
       " [12184314, 3682646034],\n",
       " [12195276, 547996205],\n",
       " [12219315, 1672172012],\n",
       " [12221539, 2214811950],\n",
       " [12267410, 293773885],\n",
       " [12269841, 274131758],\n",
       " [12299282, 1417722936],\n",
       " [12310165, 55303849],\n",
       " [12320159, 1233898116],\n",
       " [12322032, 508334430],\n",
       " [12330602, 1151460838],\n",
       " [12330882, 464887461],\n",
       " [12333273, 1448994680],\n",
       " [12337605, 1416242207],\n",
       " [12339090, 1993018781],\n",
       " [12344187, 230314772],\n",
       " [12357959, 3123664600],\n",
       " [12381456, 1561838425],\n",
       " [12385950, 3060041761],\n",
       " [12391086, 526751632],\n",
       " [12401950, 492782779],\n",
       " [12452113, 288543993],\n",
       " [12487621, 633965388],\n",
       " [12489273, 1690046764],\n",
       " [12496633, 713394979],\n",
       " [12499591, 1033761825],\n",
       " [12508966, 337039459],\n",
       " [12511479, 416237425],\n",
       " [12517621, 297408978],\n",
       " [12520513, 1440610044],\n",
       " [12526559, 558884588],\n",
       " [12527415, 297395297],\n",
       " [12548660, 419446027],\n",
       " [12550609, 1093117593],\n",
       " [12554647, 966294782],\n",
       " [12570427, 800502441],\n",
       " [12570927, 272707025],\n",
       " [12609711, 1005327871],\n",
       " [12625415, 364149029],\n",
       " [12625873, 282681045],\n",
       " [12631753, 594082917],\n",
       " [12670780, 3938782553],\n",
       " [12685250, 424682320],\n",
       " [12690591, 581437825],\n",
       " [12705591, 4199970055],\n",
       " [12719120, 261187627],\n",
       " [12721170, 1066060030],\n",
       " [12735514, 1358711598],\n",
       " [12752442, 1430825773],\n",
       " [12753135, 4527025471],\n",
       " [12762432, 193612737],\n",
       " [12762576, 356528088],\n",
       " [12785218, 216437234],\n",
       " [12791255, 2521707611],\n",
       " [12793449, 1192293435],\n",
       " [12795811, 336039067],\n",
       " [12819960, 1481948465],\n",
       " [12824624, 3707399417],\n",
       " [12827332, 1245526760],\n",
       " [12838209, 1571555808],\n",
       " [12853229, 391249251],\n",
       " [12861420, 1937531116],\n",
       " [12862416, 1900568259],\n",
       " [12888496, 23639231],\n",
       " [12891318, 264135111],\n",
       " [12929415, 498997775],\n",
       " [12933561, 2058159093],\n",
       " [12943428, 676730450],\n",
       " [12946668, 591778078],\n",
       " [12968883, 249401920],\n",
       " [12994480, 697966958],\n",
       " [13026317, 540642754],\n",
       " [13060616, 1313499951],\n",
       " [13063601, 211762133],\n",
       " [13067631, 1583822462],\n",
       " [13073548, 634116188],\n",
       " [13103361, 254980613],\n",
       " [13115456, 4354669104],\n",
       " [13135161, 428020944],\n",
       " [13135586, 1336986340],\n",
       " [13146338, 179256996],\n",
       " [13162455, 24614214],\n",
       " [13162910, 639359755],\n",
       " [13228439, 23548831],\n",
       " [13238309, 1369918435],\n",
       " [13249097, 331423051],\n",
       " [13258491, 3032046452],\n",
       " [13299258, 444226615],\n",
       " [13315521, 698829861],\n",
       " [13322301, 646437394],\n",
       " [13323582, 1532545060],\n",
       " [13349118, 2197551348],\n",
       " [13358310, 1482983755],\n",
       " [13389994, 2014027186],\n",
       " [13412654, 175835015],\n",
       " [13443740, 866900700],\n",
       " [13445972, 563674751],\n",
       " [13447020, 320403176],\n",
       " [13448514, 1644579187],\n",
       " [13486967, 1006936012],\n",
       " [13486972, 240579733],\n",
       " [13487365, 339386304],\n",
       " [13503753, 1094114771],\n",
       " [13559246, 1821332674],\n",
       " [13562615, 316949218],\n",
       " [13572703, 327642496],\n",
       " [13601977, 1212258644],\n",
       " [13604939, 229197154],\n",
       " [13607067, 212247026],\n",
       " [13635783, 4223638549],\n",
       " [13651246, 2129015659],\n",
       " [13657623, 1215484779],\n",
       " [13677399, 443923940],\n",
       " [13685502, 302939425],\n",
       " [13700736, 3271961851],\n",
       " [13720958, 532612254],\n",
       " [13726080, 1556880123],\n",
       " [13738120, 671517758],\n",
       " [13756631, 2107663193],\n",
       " [13759301, 2080079135],\n",
       " [13785807, 14918061],\n",
       " [13793527, 294390818],\n",
       " [13826150, 767478146],\n",
       " [13830143, 290606031],\n",
       " [13860093, 1484317319],\n",
       " [13861068, 3930735714],\n",
       " [13868508, 1269055074],\n",
       " [13888892, 183277168],\n",
       " [13910555, 514532642],\n",
       " [13924699, 337015498],\n",
       " [13931150, 2954321246],\n",
       " [13942185, 1192235878],\n",
       " [13943971, 2029800473],\n",
       " [13947908, 550356948],\n",
       " [13954434, 1354881153],\n",
       " [13961586, 296093855],\n",
       " [13988763, 591286916],\n",
       " [14004263, 299200446],\n",
       " [14015349, 4004103166],\n",
       " [14018121, 261931802],\n",
       " [14047813, 598799952],\n",
       " [14060806, 699435499],\n",
       " [14072303, 236667180],\n",
       " [14076715, 1420456521],\n",
       " [14086291, 1646992680],\n",
       " [14102437, 348718160],\n",
       " [14156120, 546116210],\n",
       " [14160747, 982654672],\n",
       " [14165674, 2069537253],\n",
       " [14169099, 1500662996],\n",
       " [14210368, 1519740380],\n",
       " [14211615, 523124884],\n",
       " [14233816, 619416836],\n",
       " [14234220, 196715309],\n",
       " [14260310, 1480185941],\n",
       " [14276534, 2216016116],\n",
       " [14310303, 2042205101],\n",
       " [14325974, 253148358],\n",
       " [14342325, 462371994],\n",
       " [14352165, 272790535],\n",
       " [14361951, 1458015878],\n",
       " [14382020, 605044291],\n",
       " [14407465, 591339047],\n",
       " [14452822, 293445379],\n",
       " [14460842, 199803326],\n",
       " [14471087, 406785969],\n",
       " [14471626, 1131280767],\n",
       " [14483477, 2034324957],\n",
       " [14499229, 2949984920],\n",
       " [14521255, 341536274],\n",
       " [14528162, 401201360],\n",
       " [14534552, 555292248],\n",
       " [14544892, 341378828],\n",
       " [14564517, 324104372],\n",
       " [14584170, 2228770271],\n",
       " [14615660, 441939731],\n",
       " [14634134, 328943634],\n",
       " [14656135, 1519321302],\n",
       " [14660827, 579586437],\n",
       " [14678012, 27578105],\n",
       " [14688372, 14754957],\n",
       " [14691203, 484741814],\n",
       " [14748097, 583944576],\n",
       " [14756353, 358831634],\n",
       " [14761638, 1155207923],\n",
       " [14789251, 1544713411],\n",
       " [14803706, 3623123250],\n",
       " [14811925, 1432495962],\n",
       " [14838064, 291238620],\n",
       " [14870384, 40529476],\n",
       " [14898405, 190589526],\n",
       " [14919781, 657504611],\n",
       " [14939094, 1550241043],\n",
       " [14945558, 865678354],\n",
       " [15008158, 287899829],\n",
       " [15027597, 2226653247],\n",
       " [15028504, 2013819148],\n",
       " [15047621, 2248203334],\n",
       " [15049704, 1398167633],\n",
       " [15051313, 822065730],\n",
       " [15070836, 959512620],\n",
       " [15157351, 313443073],\n",
       " [15244258, 256792478],\n",
       " [15261757, 490466042],\n",
       " [15267378, 526879596],\n",
       " [15305099, 200262059],\n",
       " [15315716, 316688709],\n",
       " [15345460, 1271383886],\n",
       " [15370479, 1582303370],\n",
       " [15379783, 228143718],\n",
       " [15390551, 2102416631],\n",
       " [15400900, 1523157476],\n",
       " ...]"
      ]
     },
     "execution_count": 69,
     "metadata": {},
     "output_type": "execute_result"
    }
   ],
   "source": []
  },
  {
   "cell_type": "code",
   "execution_count": 81,
   "metadata": {},
   "outputs": [
    {
     "name": "stdout",
     "output_type": "stream",
     "text": [
      "0.6061955469506293\n"
     ]
    }
   ],
   "source": [
    "def overall_precision():\n",
    "    ls = []\n",
    "    for t in (6,7,8,9):\n",
    "        lid_rid = pickle.load(open(os.path.join(utils.folder_gen, 'lid_rid_%d0.pickle' % t), \"rb\"))\n",
    "        ls += lid_rid\n",
    "        \n",
    "    ls += [(x[0], x[1]) for x in pd.read_csv(os.path.join(utils.folder_gen, 'true_mapping.csv'))[:2500].values.tolist()]\n",
    "    utils.precision(ls)\n",
    "    \n",
    "overall_precision()"
   ]
  },
  {
   "cell_type": "markdown",
   "metadata": {},
   "source": [
    "#### Features cache"
   ]
  },
  {
   "cell_type": "code",
   "execution_count": 74,
   "metadata": {},
   "outputs": [],
   "source": [
    "utils.f_set1s = dict(pickle.load(open(os.path.join(utils.folder_gen, 'features_G1.pickle'), \"rb\")))\n",
    "utils.f_set2s = dict(pickle.load(open(os.path.join(utils.folder_gen, 'features_G2.pickle'), \"rb\")))"
   ]
  },
  {
   "cell_type": "markdown",
   "metadata": {},
   "source": [
    "### Name threashold 60"
   ]
  },
  {
   "cell_type": "code",
   "execution_count": 75,
   "metadata": {},
   "outputs": [
    {
     "name": "stdout",
     "output_type": "stream",
     "text": [
      "13253 11328 1925 13253\n",
      "Start 0\n"
     ]
    },
    {
     "data": {
      "application/vnd.jupyter.widget-view+json": {
       "model_id": "3709221116434370a6775bd6e31f5ac2",
       "version_major": 2,
       "version_minor": 0
      },
      "text/html": [
       "<p>Failed to display Jupyter Widget of type <code>HBox</code>.</p>\n",
       "<p>\n",
       "  If you're reading this message in Jupyter Notebook or JupyterLab, it may mean\n",
       "  that the widgets JavaScript is still loading. If this message persists, it\n",
       "  likely means that the widgets JavaScript library is either not installed or\n",
       "  not enabled. See the <a href=\"https://ipywidgets.readthedocs.io/en/stable/user_install.html\">Jupyter\n",
       "  Widgets Documentation</a> for setup instructions.\n",
       "</p>\n",
       "<p>\n",
       "  If you're reading this message in another notebook frontend (for example, a static\n",
       "  rendering on GitHub or <a href=\"https://nbviewer.jupyter.org/\">NBViewer</a>),\n",
       "  it may mean that your frontend doesn't currently support widgets.\n",
       "</p>\n"
      ],
      "text/plain": [
       "HBox(children=(IntProgress(value=0, max=1888), HTML(value='')))"
      ]
     },
     "metadata": {},
     "output_type": "display_data"
    },
    {
     "name": "stdout",
     "output_type": "stream",
     "text": [
      "Start 1\n"
     ]
    },
    {
     "data": {
      "application/vnd.jupyter.widget-view+json": {
       "model_id": "08aa8ba977f24728b59a1ab77b3fc06e",
       "version_major": 2,
       "version_minor": 0
      },
      "text/html": [
       "<p>Failed to display Jupyter Widget of type <code>HBox</code>.</p>\n",
       "<p>\n",
       "  If you're reading this message in Jupyter Notebook or JupyterLab, it may mean\n",
       "  that the widgets JavaScript is still loading. If this message persists, it\n",
       "  likely means that the widgets JavaScript library is either not installed or\n",
       "  not enabled. See the <a href=\"https://ipywidgets.readthedocs.io/en/stable/user_install.html\">Jupyter\n",
       "  Widgets Documentation</a> for setup instructions.\n",
       "</p>\n",
       "<p>\n",
       "  If you're reading this message in another notebook frontend (for example, a static\n",
       "  rendering on GitHub or <a href=\"https://nbviewer.jupyter.org/\">NBViewer</a>),\n",
       "  it may mean that your frontend doesn't currently support widgets.\n",
       "</p>\n"
      ],
      "text/plain": [
       "HBox(children=(IntProgress(value=0, max=1888), HTML(value='')))"
      ]
     },
     "metadata": {},
     "output_type": "display_data"
    },
    {
     "name": "stdout",
     "output_type": "stream",
     "text": [
      "Start 2\n"
     ]
    },
    {
     "data": {
      "application/vnd.jupyter.widget-view+json": {
       "model_id": "33c04d460c5441f69d388f7ae966f19c",
       "version_major": 2,
       "version_minor": 0
      },
      "text/html": [
       "<p>Failed to display Jupyter Widget of type <code>HBox</code>.</p>\n",
       "<p>\n",
       "  If you're reading this message in Jupyter Notebook or JupyterLab, it may mean\n",
       "  that the widgets JavaScript is still loading. If this message persists, it\n",
       "  likely means that the widgets JavaScript library is either not installed or\n",
       "  not enabled. See the <a href=\"https://ipywidgets.readthedocs.io/en/stable/user_install.html\">Jupyter\n",
       "  Widgets Documentation</a> for setup instructions.\n",
       "</p>\n",
       "<p>\n",
       "  If you're reading this message in another notebook frontend (for example, a static\n",
       "  rendering on GitHub or <a href=\"https://nbviewer.jupyter.org/\">NBViewer</a>),\n",
       "  it may mean that your frontend doesn't currently support widgets.\n",
       "</p>\n"
      ],
      "text/plain": [
       "HBox(children=(IntProgress(value=0, max=1888), HTML(value='')))"
      ]
     },
     "metadata": {},
     "output_type": "display_data"
    },
    {
     "name": "stdout",
     "output_type": "stream",
     "text": [
      "Start 3\n"
     ]
    },
    {
     "data": {
      "application/vnd.jupyter.widget-view+json": {
       "model_id": "59030f0d858b400fbbad658184c89227",
       "version_major": 2,
       "version_minor": 0
      },
      "text/html": [
       "<p>Failed to display Jupyter Widget of type <code>HBox</code>.</p>\n",
       "<p>\n",
       "  If you're reading this message in Jupyter Notebook or JupyterLab, it may mean\n",
       "  that the widgets JavaScript is still loading. If this message persists, it\n",
       "  likely means that the widgets JavaScript library is either not installed or\n",
       "  not enabled. See the <a href=\"https://ipywidgets.readthedocs.io/en/stable/user_install.html\">Jupyter\n",
       "  Widgets Documentation</a> for setup instructions.\n",
       "</p>\n",
       "<p>\n",
       "  If you're reading this message in another notebook frontend (for example, a static\n",
       "  rendering on GitHub or <a href=\"https://nbviewer.jupyter.org/\">NBViewer</a>),\n",
       "  it may mean that your frontend doesn't currently support widgets.\n",
       "</p>\n"
      ],
      "text/plain": [
       "HBox(children=(IntProgress(value=0, max=1888), HTML(value='')))"
      ]
     },
     "metadata": {},
     "output_type": "display_data"
    },
    {
     "name": "stdout",
     "output_type": "stream",
     "text": [
      "Start 4\n"
     ]
    },
    {
     "data": {
      "application/vnd.jupyter.widget-view+json": {
       "model_id": "366bb0aa1ede4042aa00acb255b6fe81",
       "version_major": 2,
       "version_minor": 0
      },
      "text/html": [
       "<p>Failed to display Jupyter Widget of type <code>HBox</code>.</p>\n",
       "<p>\n",
       "  If you're reading this message in Jupyter Notebook or JupyterLab, it may mean\n",
       "  that the widgets JavaScript is still loading. If this message persists, it\n",
       "  likely means that the widgets JavaScript library is either not installed or\n",
       "  not enabled. See the <a href=\"https://ipywidgets.readthedocs.io/en/stable/user_install.html\">Jupyter\n",
       "  Widgets Documentation</a> for setup instructions.\n",
       "</p>\n",
       "<p>\n",
       "  If you're reading this message in another notebook frontend (for example, a static\n",
       "  rendering on GitHub or <a href=\"https://nbviewer.jupyter.org/\">NBViewer</a>),\n",
       "  it may mean that your frontend doesn't currently support widgets.\n",
       "</p>\n"
      ],
      "text/plain": [
       "HBox(children=(IntProgress(value=0, max=1888), HTML(value='')))"
      ]
     },
     "metadata": {},
     "output_type": "display_data"
    },
    {
     "name": "stdout",
     "output_type": "stream",
     "text": [
      "Start 5\n"
     ]
    },
    {
     "data": {
      "application/vnd.jupyter.widget-view+json": {
       "model_id": "9d4b77ba338c48beb5f8e47f995aa5ef",
       "version_major": 2,
       "version_minor": 0
      },
      "text/html": [
       "<p>Failed to display Jupyter Widget of type <code>HBox</code>.</p>\n",
       "<p>\n",
       "  If you're reading this message in Jupyter Notebook or JupyterLab, it may mean\n",
       "  that the widgets JavaScript is still loading. If this message persists, it\n",
       "  likely means that the widgets JavaScript library is either not installed or\n",
       "  not enabled. See the <a href=\"https://ipywidgets.readthedocs.io/en/stable/user_install.html\">Jupyter\n",
       "  Widgets Documentation</a> for setup instructions.\n",
       "</p>\n",
       "<p>\n",
       "  If you're reading this message in another notebook frontend (for example, a static\n",
       "  rendering on GitHub or <a href=\"https://nbviewer.jupyter.org/\">NBViewer</a>),\n",
       "  it may mean that your frontend doesn't currently support widgets.\n",
       "</p>\n"
      ],
      "text/plain": [
       "HBox(children=(IntProgress(value=0, max=1888), HTML(value='')))"
      ]
     },
     "metadata": {},
     "output_type": "display_data"
    },
    {
     "name": "stdout",
     "output_type": "stream",
     "text": [
      "\n",
      "Thread 4 True = 3100 False = 19265 Total = 22366 True/Total = 0.13860323705624608\n",
      "\n",
      "Thread 5 True = 3338 False = 19437 Total = 22776 True/Total = 0.14655778011942394\n",
      "\n",
      "Thread 0 True = 4374 False = 18807 Total = 23182 True/Total = 0.18868087309119144\n",
      "\n",
      "Thread 2 True = 4208 False = 19718 Total = 23927 True/Total = 0.175868265975676\n",
      "\n",
      "Thread 3 True = 3730 False = 20574 Total = 24305 True/Total = 0.15346636494548446\n",
      "\n",
      "Thread 1 True = 4798 False = 19892 Total = 24691 True/Total = 0.19432181766635617\n",
      "0 true count 4374\n",
      "1 true count 4798\n",
      "2 true count 4208\n",
      "3 true count 3730\n",
      "4 true count 3100\n",
      "5 true count 3338\n",
      "resulting 2 step 2165 from 23548  |  0.09193986750467131\n",
      "lid_rid 2165 2165 2165\n"
     ]
    },
    {
     "data": {
      "text/plain": [
       "0"
      ]
     },
     "execution_count": 75,
     "metadata": {},
     "output_type": "execute_result"
    }
   ],
   "source": [
    "lid_rid_70 = pickle.load(open(os.path.join(utils.folder_gen, 'lid_rid_70.pickle'), \"rb\"))\n",
    "\n",
    "model_60 = utils.retrain_model(model_70, ['train_data_matched', 'train_data_90', 'train_data_80', 'train_data_70'])\n",
    "\n",
    "df_l_others_60, df_r_others_60 = utils.filter_others_from_predicted(df_l_others_70, df_r_others_70, lid_rid_70)\n",
    "\n",
    "lid_rid_60 = utils.ml_iteration(df_l_others_60, df_r_others_60, model_60, G1, G2, \n",
    "                    name_sim_threshold = 0.6, threads = 6, save_to = 'lid_rid_60')\n",
    "\n",
    "gc.collect()"
   ]
  },
  {
   "cell_type": "code",
   "execution_count": 76,
   "metadata": {},
   "outputs": [
    {
     "name": "stdout",
     "output_type": "stream",
     "text": [
      "0.13394919168591224\n"
     ]
    }
   ],
   "source": [
    "utils.precision(lid_rid_60)"
   ]
  },
  {
   "cell_type": "markdown",
   "metadata": {},
   "source": [
    "### Feature generation for ML on 1 step"
   ]
  },
  {
   "cell_type": "code",
   "execution_count": 28,
   "metadata": {},
   "outputs": [
    {
     "name": "stdout",
     "output_type": "stream",
     "text": [
      "CPU times: user 16 ms, sys: 8 ms, total: 24 ms\n",
      "Wall time: 19.8 ms\n"
     ]
    }
   ],
   "source": [
    "%%time\n",
    "\n",
    "features, labels = utils.gen_train_data_1step('step1_data.pickle', from_raw=False)"
   ]
  },
  {
   "cell_type": "code",
   "execution_count": 12,
   "metadata": {
    "scrolled": true
   },
   "outputs": [
    {
     "name": "stdout",
     "output_type": "stream",
     "text": [
      "[30, 0, 0, 0, 0, 0, 0, 0, 0, 0, 0, 0, 0, 0, 0, 0, 0, 0, 0, 0, 0, 20, 6, 1, 4, 1, 0, 0, 0, 0, 0, 0, 1, 0, 0, 0, 0, 0, 0, 0, 0, 0, 7, 0, 0, 0, 0, 0, 0, 0, 0, 0, 0, 0, 0, 0, 0, 0, 0, 0, 0, 0, 0, 19, 2, 0, 2, 0, 0, 0, 0, 0, 0, 0, 0, 0, 0, 0, 0, 0, 0, 0, 0, 0, 0.7666666666666667] 1\n",
      "[30, 0, 0, 0, 0, 0, 0, 0, 0, 0, 0, 0, 0, 0, 0, 0, 0, 0, 0, 0, 0, 20, 6, 1, 4, 1, 0, 0, 0, 0, 0, 0, 1, 0, 0, 0, 0, 0, 0, 0, 0, 0, 9, 7, 2, 6, 0, 1, 3, 1, 0, 0, 0, 0, 0, 0, 0, 0, 0, 0, 0, 0, 0, 1082, 487, 233, 160, 85, 52, 31, 22, 12, 7, 6, 4, 0, 2, 0, 1, 1, 1, 0, 0, 1, 0.03333333333333333] 0\n"
     ]
    }
   ],
   "source": [
    "for a,b in it.islice(zip(features, labels), 2):\n",
    "    print(a, b)"
   ]
  },
  {
   "cell_type": "markdown",
   "metadata": {},
   "source": [
    "### ML models"
   ]
  },
  {
   "cell_type": "code",
   "execution_count": 13,
   "metadata": {},
   "outputs": [],
   "source": [
    "from sklearn.ensemble import AdaBoostClassifier\n",
    "from sklearn.tree import DecisionTreeClassifier\n",
    "from sklearn.ensemble import RandomForestClassifier\n",
    "from sklearn.ensemble import GradientBoostingClassifier\n",
    "from sklearn.model_selection import train_test_split\n",
    "from sklearn.metrics import roc_curve, auc"
   ]
  },
  {
   "cell_type": "code",
   "execution_count": 29,
   "metadata": {},
   "outputs": [],
   "source": [
    "# X_train, X_test, y_train, y_test = train_test_split(\n",
    "#      features, labels, test_size=0.3, random_state=42)\n",
    "X_train, y_train = features, labels"
   ]
  },
  {
   "cell_type": "code",
   "execution_count": 30,
   "metadata": {},
   "outputs": [
    {
     "data": {
      "text/plain": [
       "RandomForestClassifier(bootstrap=True, class_weight=None, criterion='gini',\n",
       "            max_depth=None, max_features='auto', max_leaf_nodes=None,\n",
       "            min_impurity_decrease=0.0, min_impurity_split=None,\n",
       "            min_samples_leaf=1, min_samples_split=2,\n",
       "            min_weight_fraction_leaf=0.0, n_estimators=400, n_jobs=4,\n",
       "            oob_score=False, random_state=None, verbose=0,\n",
       "            warm_start=False)"
      ]
     },
     "execution_count": 30,
     "metadata": {},
     "output_type": "execute_result"
    }
   ],
   "source": [
    "forest = RandomForestClassifier(n_estimators = 400, criterion ='gini',\n",
    "                        bootstrap = True, max_features = 'auto' ,n_jobs=4)\n",
    "forest.fit(X_train, y_train)"
   ]
  },
  {
   "cell_type": "code",
   "execution_count": 196,
   "metadata": {},
   "outputs": [
    {
     "data": {
      "text/plain": [
       "0.88586118251928025"
      ]
     },
     "execution_count": 196,
     "metadata": {},
     "output_type": "execute_result"
    }
   ],
   "source": [
    "forest.score(X_test, y_test)"
   ]
  },
  {
   "cell_type": "code",
   "execution_count": 6,
   "metadata": {},
   "outputs": [
    {
     "data": {
      "text/plain": [
       "GradientBoostingClassifier(criterion='friedman_mse', init=None,\n",
       "              learning_rate=0.1, loss='deviance', max_depth=3,\n",
       "              max_features=None, max_leaf_nodes=None,\n",
       "              min_impurity_decrease=0.0, min_impurity_split=None,\n",
       "              min_samples_leaf=1, min_samples_split=2,\n",
       "              min_weight_fraction_leaf=0.0, n_estimators=100,\n",
       "              presort='auto', random_state=None, subsample=1.0, verbose=0,\n",
       "              warm_start=False)"
      ]
     },
     "execution_count": 6,
     "metadata": {},
     "output_type": "execute_result"
    }
   ],
   "source": [
    "gbc = GradientBoostingClassifier(n_estimators=100)\n",
    "gbc.fit(X_train, y_train)"
   ]
  },
  {
   "cell_type": "code",
   "execution_count": 123,
   "metadata": {},
   "outputs": [
    {
     "data": {
      "text/plain": [
       "0.72493573264781486"
      ]
     },
     "execution_count": 123,
     "metadata": {},
     "output_type": "execute_result"
    }
   ],
   "source": [
    "gbc.score(X_test, y_test)"
   ]
  },
  {
   "cell_type": "code",
   "execution_count": 109,
   "metadata": {},
   "outputs": [
    {
     "ename": "NameError",
     "evalue": "name 'X_test' is not defined",
     "output_type": "error",
     "traceback": [
      "\u001b[0;31m---------------------------------------------------------------------------\u001b[0m",
      "\u001b[0;31mNameError\u001b[0m                                 Traceback (most recent call last)",
      "\u001b[0;32m<ipython-input-109-fff2e0a16b2b>\u001b[0m in \u001b[0;36m<module>\u001b[0;34m()\u001b[0m\n\u001b[0;32m----> 1\u001b[0;31m \u001b[0my_score\u001b[0m \u001b[0;34m=\u001b[0m \u001b[0mforest\u001b[0m\u001b[0;34m.\u001b[0m\u001b[0mpredict\u001b[0m\u001b[0;34m(\u001b[0m\u001b[0mX_test\u001b[0m\u001b[0;34m)\u001b[0m\u001b[0;34m\u001b[0m\u001b[0m\n\u001b[0m\u001b[1;32m      2\u001b[0m \u001b[0my_true\u001b[0m \u001b[0;34m=\u001b[0m \u001b[0my_test\u001b[0m\u001b[0;34m\u001b[0m\u001b[0m\n\u001b[1;32m      3\u001b[0m \u001b[0;34m\u001b[0m\u001b[0m\n\u001b[1;32m      4\u001b[0m \u001b[0mfpr\u001b[0m\u001b[0;34m,\u001b[0m \u001b[0mtpr\u001b[0m\u001b[0;34m,\u001b[0m \u001b[0mthresholds\u001b[0m \u001b[0;34m=\u001b[0m \u001b[0mroc_curve\u001b[0m\u001b[0;34m(\u001b[0m\u001b[0my_true\u001b[0m\u001b[0;34m,\u001b[0m \u001b[0my_score\u001b[0m\u001b[0;34m)\u001b[0m\u001b[0;34m\u001b[0m\u001b[0m\n\u001b[1;32m      5\u001b[0m \u001b[0mroc_auc\u001b[0m \u001b[0;34m=\u001b[0m \u001b[0mauc\u001b[0m\u001b[0;34m(\u001b[0m\u001b[0mfpr\u001b[0m\u001b[0;34m,\u001b[0m \u001b[0mtpr\u001b[0m\u001b[0;34m)\u001b[0m\u001b[0;34m\u001b[0m\u001b[0m\n",
      "\u001b[0;31mNameError\u001b[0m: name 'X_test' is not defined"
     ]
    }
   ],
   "source": [
    "y_score = forest.predict(X_test)\n",
    "y_true = y_test\n",
    "\n",
    "fpr, tpr, thresholds = roc_curve(y_true, y_score)\n",
    "roc_auc = auc(fpr, tpr)\n",
    "\n",
    "plt.title('Receiver Operating Characteristic')\n",
    "plt.plot(fpr, tpr, 'b',\n",
    "label='GS, AUC = %0.2f'% roc_auc)\n",
    "plt.legend(loc='lower right')\n",
    "plt.plot([0,1],[0,1],'r--')\n",
    "plt.xlim([-0.1,1.2])\n",
    "plt.ylim([-0.1,1.2])\n",
    "plt.ylabel('True Positive Rate')\n",
    "plt.xlabel('False Positive Rate')\n",
    "plt.show()"
   ]
  },
  {
   "cell_type": "markdown",
   "metadata": {},
   "source": [
    "### Choose string measurement method"
   ]
  },
  {
   "cell_type": "code",
   "execution_count": 9,
   "metadata": {
    "scrolled": true
   },
   "outputs": [
    {
     "name": "stdout",
     "output_type": "stream",
     "text": [
      "-----------------\n",
      "time 1: 6.341934204101562e-05\n",
      "time 2: 0.00027489662170410156\n",
      "5394 751026638\n",
      "alexey zelkin aleksej zelkin 0.8148148148148148 0.8148148148148148\n",
      "-----------------\n",
      "time 1: 5.817413330078125e-05\n",
      "time 2: 0.000629425048828125\n",
      "22884 2744159\n",
      "andre undrukhov andrey gnelitskiy 0.5 0.5\n",
      "-----------------\n",
      "time 1: 3.0040740966796875e-05\n",
      "time 2: 0.0001430511474609375\n",
      "23754 4157858483\n",
      "vadim reutsky abhairov vadim 0.37037037037037035 0.37037037037037035\n",
      "-----------------\n",
      "time 1: 3.2901763916015625e-05\n",
      "time 2: 0.00012636184692382812\n",
      "89831 389335890\n",
      "sergey superov sergey superov 1.0 1.0\n",
      "-----------------\n",
      "time 1: 3.981590270996094e-05\n",
      "time 2: 8.916854858398438e-05\n",
      "103177 199238507\n",
      "nastya gogol nastja gogol 0.9166666666666666 0.9166666666666666\n",
      "-----------------\n",
      "time 1: 3.838539123535156e-05\n",
      "time 2: 8.416175842285156e-05\n",
      "110208 1373668106\n",
      "ilnur shaydullin none 0.2 0.2\n",
      "-----------------\n",
      "time 1: 6.29425048828125e-05\n",
      "time 2: 8.630752563476562e-05\n",
      "128184 2680807187\n",
      "adelina ashrapova adelina fazulzjanova 0.7027027027027027 0.7027027027027027\n",
      "-----------------\n",
      "time 1: 5.0067901611328125e-05\n",
      "time 2: 8.535385131835938e-05\n",
      "287383 4355999142\n",
      "dmitry napolskikh dmitrij napolskih 0.8823529411764706 0.8823529411764706\n",
      "-----------------\n",
      "time 1: 3.3855438232421875e-05\n",
      "time 2: 8.368492126464844e-05\n",
      "323426 262205325\n",
      "renata smirnova renata smirnova 1.0 1.0\n",
      "-----------------\n",
      "time 1: 6.4849853515625e-05\n",
      "time 2: 9.107589721679688e-05\n",
      "396916 2318740468\n",
      "natalia sokolova belorusskaja kosmetika 0.3157894736842105 0.3157894736842105\n"
     ]
    }
   ],
   "source": [
    "from difflib import SequenceMatcher\n",
    "import  Levenshtein\n",
    "import itertools  as it\n",
    "import time\n",
    "    \n",
    "seq = SequenceMatcher()\n",
    "for vrow in it.islice(vk_1step.values, 10):\n",
    "    print('-----------------')\n",
    "    row = inst_1step[inst_1step['uname'] == vrow[1]]\n",
    "    inst_name = row['inst_name'].values[0]\n",
    "    vk_name = vrow[2]\n",
    "    \n",
    "    s = time.time()\n",
    "    seq.set_seqs(vk_name, inst_name)\n",
    "    a = seq.ratio()\n",
    "    e = time.time()\n",
    "    print('time 1:', e - s)\n",
    "    b = Levenshtein.ratio(vk_name, inst_name)\n",
    "    s = time.time()\n",
    "    print('time 2:', s - e)\n",
    "#     vector1 = text_to_vector(vk_name)\n",
    "#     vector2 = text_to_vector(inst_name)\n",
    "#     c = get_cosine(vector1, vector2)\n",
    "#     print('time 3:', time.time() - s)\n",
    "    print(vrow[0], row['uid'].values[0])\n",
    "    print(vk_name, inst_name, a, b)"
   ]
  },
  {
   "cell_type": "code",
   "execution_count": null,
   "metadata": {},
   "outputs": [],
   "source": []
  }
 ],
 "metadata": {
  "kernelspec": {
   "display_name": "Python 3",
   "language": "python",
   "name": "python3"
  },
  "language_info": {
   "codemirror_mode": {
    "name": "ipython",
    "version": 3
   },
   "file_extension": ".py",
   "mimetype": "text/x-python",
   "name": "python",
   "nbconvert_exporter": "python",
   "pygments_lexer": "ipython3",
   "version": "3.6.2"
  }
 },
 "nbformat": 4,
 "nbformat_minor": 2
}
